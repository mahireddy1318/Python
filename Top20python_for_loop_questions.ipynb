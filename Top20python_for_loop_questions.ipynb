{
  "nbformat": 4,
  "nbformat_minor": 0,
  "metadata": {
    "colab": {
      "provenance": []
    },
    "kernelspec": {
      "name": "python3",
      "display_name": "Python 3"
    },
    "language_info": {
      "name": "python"
    }
  },
  "cells": [
    {
      "cell_type": "code",
      "execution_count": null,
      "metadata": {
        "colab": {
          "base_uri": "https://localhost:8080/"
        },
        "id": "WA9cBYfpo8sp",
        "outputId": "4a9d6d50-00df-447f-e5b8-3356239bcd02"
      },
      "outputs": [
        {
          "output_type": "stream",
          "name": "stdout",
          "text": [
            "sum of all numbers stored in a list:35\n"
          ]
        }
      ],
      "source": [
        "#Write a Python program to find the sum of all numbers stored in a list\n",
        "list = [2, 6, 4, 8, 12, 3]\n",
        "sum = 0\n",
        "for val in list:\n",
        "  sum+=val\n",
        "print('sum of all numbers stored in a list:{}'.format(sum))\n"
      ]
    },
    {
      "cell_type": "code",
      "source": [
        "#Write a Python program to find the product of all numbers stored in a list.\n",
        "\n",
        "list = [2, 5, 3, 4, 1]\n",
        "product = 1\n",
        "for val in list :\n",
        "  temp = val * product      #else we can use product*=val\n",
        "  product = temp \n",
        "print('product of all numbers stored in a list:', product)"
      ],
      "metadata": {
        "colab": {
          "base_uri": "https://localhost:8080/"
        },
        "id": "pQTxyVNQpxdU",
        "outputId": "6d5c8c6f-0e7e-4150-c6de-f1e98fb9ea09"
      },
      "execution_count": null,
      "outputs": [
        {
          "output_type": "stream",
          "name": "stdout",
          "text": [
            "product of all numbers stored in a list: 120\n"
          ]
        }
      ]
    },
    {
      "cell_type": "code",
      "source": [
        "#Write a Python program to count the number of even and odd numbers in a list.\n",
        "list = [9,7,6,5,4, 99,100]\n",
        "even = 0\n",
        "odd = 0\n",
        "for val in list:\n",
        "  if val % 2 == 0:\n",
        "    even+=1\n",
        "  else:\n",
        "    odd+=1\n",
        "print('number of even numbers in a list: {}'.format(even))\n",
        "print(f'number of odd numbers in a list: {odd}')\n"
      ],
      "metadata": {
        "colab": {
          "base_uri": "https://localhost:8080/"
        },
        "id": "R6hiQAXCqllS",
        "outputId": "770bed01-6cdc-4989-b6c4-764c9f61c1d5"
      },
      "execution_count": null,
      "outputs": [
        {
          "output_type": "stream",
          "name": "stdout",
          "text": [
            "number of even numbers in a list: 3\n",
            "number of odd numbers in a list: 4\n"
          ]
        }
      ]
    },
    {
      "cell_type": "code",
      "source": [
        "#Write a Python program to find the largest number in a list.\n",
        "list = [9,7,222,6,5,4, 99]\n",
        "#max(list)\n",
        "large = list[0]\n",
        "for val in list[1:]:\n",
        "  if val > large:\n",
        "    large = val\n",
        "  else :\n",
        "    first = first\n",
        "print(f'largest number is:{large}')"
      ],
      "metadata": {
        "colab": {
          "base_uri": "https://localhost:8080/"
        },
        "id": "yoN9uS8CsIyX",
        "outputId": "8e378aac-fcc8-4329-e435-cfcd228c9087"
      },
      "execution_count": null,
      "outputs": [
        {
          "output_type": "stream",
          "name": "stdout",
          "text": [
            "largest number is:222\n"
          ]
        }
      ]
    },
    {
      "cell_type": "code",
      "source": [
        "#Write a Python program to print all numbers between 0 and 50 that are divisible by both 3 and 5.\n",
        "div_nums = []\n",
        "for val in range(50):\n",
        "  #print(val)\n",
        "  if val % 3==0 and val % 5==0:\n",
        "    div_nums.append(val)\n",
        "print('all numbers between 0 and 50 that are divisible by both 3 and 5', div_nums)"
      ],
      "metadata": {
        "colab": {
          "base_uri": "https://localhost:8080/"
        },
        "id": "irbxb5rWtIVx",
        "outputId": "89d21aef-df34-49e9-eaa5-813b24fa570e"
      },
      "execution_count": null,
      "outputs": [
        {
          "output_type": "stream",
          "name": "stdout",
          "text": [
            "all numbers between 0 and 50 that are divisible by both 3 and 5 [0, 15, 30, 45]\n"
          ]
        }
      ]
    },
    {
      "cell_type": "code",
      "source": [
        "#Write a Python program to find the factorial of a number.\n",
        "input_num = int(input('Enter a number:'))\n",
        "fact = 1\n",
        "for i in range(1,input_num+1):\n",
        "  #print(i)\n",
        "  f = fact * i\n",
        "  fact = f\n",
        "print('Factorial of {} is {}'.format(input_num, fact))"
      ],
      "metadata": {
        "colab": {
          "base_uri": "https://localhost:8080/"
        },
        "id": "8x03csI205G7",
        "outputId": "22df5736-a6dd-43ba-f78c-641282111321"
      },
      "execution_count": null,
      "outputs": [
        {
          "output_type": "stream",
          "name": "stdout",
          "text": [
            "Enter a number:5\n",
            "Factorial of 5 is 120\n"
          ]
        }
      ]
    },
    {
      "cell_type": "code",
      "source": [
        "#Write a Python program to check if a string is a palindrome.\n",
        "\n",
        "input_string = input('Enter a String:')\n",
        "list = []\n",
        "for char in input_string:\n",
        "  #print(char)\n",
        "  list.insert(0, char)  # .insert(index, element)\n",
        "#print(list)\n",
        "new_list = ''.join(list)\n",
        "#print(new_list)\n",
        "if new_list == input_string:\n",
        "  print(f'{input_string} is Palindrome.')\n",
        "else:\n",
        "  print(f'{input_string} is not Palindrome.')"
      ],
      "metadata": {
        "id": "QCe3K6np4Ce1",
        "colab": {
          "base_uri": "https://localhost:8080/"
        },
        "outputId": "c1d5472c-e447-4a05-e423-ed27ef656245"
      },
      "execution_count": null,
      "outputs": [
        {
          "output_type": "stream",
          "name": "stdout",
          "text": [
            "Enter a String:98789\n",
            "98789 is Palindrome.\n"
          ]
        }
      ]
    },
    {
      "cell_type": "code",
      "source": [
        "input_string = \"abcba\"\n",
        "is_palindrome = True\n",
        "for i in range(len(input_string)):\n",
        "  if input_string[i] != input_string[-i-1]:\n",
        "    is_palindrome = False\n",
        "    break\n",
        "if is_palindrome:\n",
        "  print(input_string, 'is Palindrome')\n",
        "else:\n",
        "  print(input_string, 'is not Palindrome')\n",
        "  "
      ],
      "metadata": {
        "colab": {
          "base_uri": "https://localhost:8080/"
        },
        "id": "W9YVls0ZSwDZ",
        "outputId": "c0c81a69-78be-4dd2-e670-b27e92132224"
      },
      "execution_count": null,
      "outputs": [
        {
          "output_type": "stream",
          "name": "stdout",
          "text": [
            "abcba is Palindrome\n"
          ]
        }
      ]
    },
    {
      "cell_type": "code",
      "source": [
        "#Write a Python program to find the second largest number in a list.\n",
        "\n",
        "list = [2,4,8,2,7]\n",
        "\n",
        "# list.sort()\n",
        "# print(list[-1])\n",
        "max = list[0]\n",
        "second_max = list[0]\n",
        "for i in list:\n",
        "  #print(i)\n",
        "  if i > max:\n",
        "    second_max = max\n",
        "    max = i\n",
        "  elif i > second_max and i!= max:\n",
        "    second_max = i\n",
        "print(max)\n",
        "print(second_max)"
      ],
      "metadata": {
        "id": "0Bs3ZAhFeHG5",
        "colab": {
          "base_uri": "https://localhost:8080/"
        },
        "outputId": "f4d90bb0-75bb-42ca-b961-8d9d9aba6244"
      },
      "execution_count": null,
      "outputs": [
        {
          "output_type": "stream",
          "name": "stdout",
          "text": [
            "8\n",
            "7\n"
          ]
        }
      ]
    },
    {
      "cell_type": "code",
      "source": [
        "#Write a Python program to generate the Fibonacci sequence up to a given number.\n",
        "list = [1,2,3,4,5]\n",
        "for i in list:\n",
        "  print(i)\n",
        "for j in range(len(list)):\n",
        "  print(j)"
      ],
      "metadata": {
        "colab": {
          "base_uri": "https://localhost:8080/"
        },
        "id": "U_ckebtTq4oB",
        "outputId": "a26ffd06-439c-409d-c5e6-1ffbd931247a"
      },
      "execution_count": null,
      "outputs": [
        {
          "output_type": "stream",
          "name": "stdout",
          "text": [
            "1\n",
            "2\n",
            "3\n",
            "4\n",
            "5\n",
            "0\n",
            "1\n",
            "2\n",
            "3\n",
            "4\n"
          ]
        }
      ]
    },
    {
      "cell_type": "code",
      "source": [],
      "metadata": {
        "id": "J8_ly-R_wXT7"
      },
      "execution_count": null,
      "outputs": []
    }
  ]
}