{
  "nbformat": 4,
  "nbformat_minor": 0,
  "metadata": {
    "colab": {
      "provenance": []
    },
    "kernelspec": {
      "name": "python3",
      "display_name": "Python 3"
    },
    "language_info": {
      "name": "python"
    }
  },
  "cells": [
    {
      "cell_type": "code",
      "execution_count": null,
      "metadata": {
        "id": "Kym-IgLU-ZjR"
      },
      "outputs": [],
      "source": [
        "def oddEven(x):\n",
        "  if x %2==0 :\n",
        "    return \"Even\"\n",
        "  else:\n",
        "    return \"Odd\""
      ]
    },
    {
      "cell_type": "code",
      "source": [
        "oddEven(5)"
      ],
      "metadata": {
        "colab": {
          "base_uri": "https://localhost:8080/",
          "height": 35
        },
        "id": "ajoQKQMN50Qt",
        "outputId": "675b9f12-2f9d-4b63-f94e-41f119f04ed0"
      },
      "execution_count": null,
      "outputs": [
        {
          "output_type": "execute_result",
          "data": {
            "text/plain": [
              "'Odd'"
            ],
            "application/vnd.google.colaboratory.intrinsic+json": {
              "type": "string"
            }
          },
          "metadata": {},
          "execution_count": 8
        }
      ]
    },
    {
      "cell_type": "markdown",
      "source": [
        "**1.Lambda():**\n",
        "Python Lambda Functions are anonymous function means that the function is without a name. As we already know that the def keyword is used to define a normal function in Python. Similarly, the lambda keyword is used to define an anonymous function in Python. "
      ],
      "metadata": {
        "id": "gyVtOhp6Vadc"
      }
    },
    {
      "cell_type": "code",
      "source": [
        "#lambda arguments: expression\n",
        "result1 = lambda x: True if x%2==0 else False "
      ],
      "metadata": {
        "id": "h9PYY1MSXAoE"
      },
      "execution_count": null,
      "outputs": []
    },
    {
      "cell_type": "code",
      "source": [
        "result1(20)"
      ],
      "metadata": {
        "colab": {
          "base_uri": "https://localhost:8080/"
        },
        "id": "SrO_kg_uXppu",
        "outputId": "e5501bd4-e404-4bd0-a11a-2d0fc25f5c1f"
      },
      "execution_count": null,
      "outputs": [
        {
          "output_type": "execute_result",
          "data": {
            "text/plain": [
              "True"
            ]
          },
          "metadata": {},
          "execution_count": 43
        }
      ]
    },
    {
      "cell_type": "code",
      "source": [
        "result = lambda x: \"{} is Even\".format(x) if x%2==0 else \"{} is Odd\".format(x) \n"
      ],
      "metadata": {
        "id": "CZAQoLnXXwVQ"
      },
      "execution_count": null,
      "outputs": []
    },
    {
      "cell_type": "code",
      "source": [
        "result(333)"
      ],
      "metadata": {
        "colab": {
          "base_uri": "https://localhost:8080/",
          "height": 35
        },
        "id": "VSdoNvSMYfJk",
        "outputId": "d120045f-69d2-44d1-a6d0-1613b386b4ec"
      },
      "execution_count": null,
      "outputs": [
        {
          "output_type": "execute_result",
          "data": {
            "text/plain": [
              "'333 is Odd'"
            ],
            "application/vnd.google.colaboratory.intrinsic+json": {
              "type": "string"
            }
          },
          "metadata": {},
          "execution_count": 5
        }
      ]
    },
    {
      "cell_type": "markdown",
      "source": [
        "**2.Map():**\n",
        "map() function returns a map object(which is an iterator) of the results after applying the given function to each item of a given iterable (list, tuple etc.)\n",
        "-> We can also use lambda expressions with map function to achieve same result."
      ],
      "metadata": {
        "id": "eL3BuG0NaVxt"
      }
    },
    {
      "cell_type": "code",
      "source": [
        "#map(function, sequence)\n",
        "list(map(oddEven, [100,28,93,4,5]))"
      ],
      "metadata": {
        "colab": {
          "base_uri": "https://localhost:8080/"
        },
        "id": "GCPW_550YiT1",
        "outputId": "0315b0fa-9d88-42a0-ea68-ed7258dfdbac"
      },
      "execution_count": null,
      "outputs": [
        {
          "output_type": "execute_result",
          "data": {
            "text/plain": [
              "['Even', 'Even', 'Odd', 'Even', 'Odd']"
            ]
          },
          "metadata": {},
          "execution_count": 9
        }
      ]
    },
    {
      "cell_type": "code",
      "source": [
        "set(map(oddEven, [100,28,93,4,5]))"
      ],
      "metadata": {
        "colab": {
          "base_uri": "https://localhost:8080/"
        },
        "id": "f1WLVGwqxsvy",
        "outputId": "710e8a25-8b28-435c-982f-3f60e25f4385"
      },
      "execution_count": null,
      "outputs": [
        {
          "output_type": "execute_result",
          "data": {
            "text/plain": [
              "{'Even', 'Odd'}"
            ]
          },
          "metadata": {},
          "execution_count": 13
        }
      ]
    },
    {
      "cell_type": "code",
      "source": [
        "#Apply Map on above Lambda function\n",
        "list(map(result,[1,2,3,4,5]))"
      ],
      "metadata": {
        "colab": {
          "base_uri": "https://localhost:8080/"
        },
        "id": "a5f4vtbfa1Zi",
        "outputId": "fe8237e9-2095-4349-a0f5-a709bf9c3bbc"
      },
      "execution_count": null,
      "outputs": [
        {
          "output_type": "execute_result",
          "data": {
            "text/plain": [
              "['1 is Odd', '2 is Even', '3 is Odd', '4 is Even', '5 is Odd']"
            ]
          },
          "metadata": {},
          "execution_count": 12
        }
      ]
    },
    {
      "cell_type": "code",
      "source": [
        "list(map(Vote, [11,22,34,14,85]))"
      ],
      "metadata": {
        "colab": {
          "base_uri": "https://localhost:8080/"
        },
        "id": "UBFLSReXc6AE",
        "outputId": "0de12e78-4f8e-430b-95ea-86f2c4fbe6d8"
      },
      "execution_count": null,
      "outputs": [
        {
          "output_type": "execute_result",
          "data": {
            "text/plain": [
              "[False, True, True, False, True]"
            ]
          },
          "metadata": {},
          "execution_count": 13
        }
      ]
    },
    {
      "cell_type": "markdown",
      "source": [
        "**3.Filter():**\n",
        "The filter() method filters the given sequence with the help of a function that tests each element in the sequence to be true or not."
      ],
      "metadata": {
        "id": "ilVe6eYvgayf"
      }
    },
    {
      "cell_type": "code",
      "source": [
        "#filter(function, sequence)\n",
        "list(filter(Vote, [11,22,34,14,85]))"
      ],
      "metadata": {
        "colab": {
          "base_uri": "https://localhost:8080/"
        },
        "id": "januCi68jfcC",
        "outputId": "fd2b953f-2154-4b32-ea50-281fb2e14db5"
      },
      "execution_count": null,
      "outputs": [
        {
          "output_type": "execute_result",
          "data": {
            "text/plain": [
              "[22, 34, 85]"
            ]
          },
          "metadata": {},
          "execution_count": 12
        }
      ]
    },
    {
      "cell_type": "code",
      "source": [
        "def Vote(age):\n",
        "  if age >= 18:\n",
        "    return True\n",
        "  else:\n",
        "    return False\n",
        "Vote(19)"
      ],
      "metadata": {
        "colab": {
          "base_uri": "https://localhost:8080/"
        },
        "id": "rvnZash3kE4t",
        "outputId": "b01fe2b2-9465-4be8-fe57-7eb64a952979"
      },
      "execution_count": null,
      "outputs": [
        {
          "output_type": "execute_result",
          "data": {
            "text/plain": [
              "True"
            ]
          },
          "metadata": {},
          "execution_count": 11
        }
      ]
    },
    {
      "cell_type": "markdown",
      "source": [
        "**4.Zip():**\n",
        "zip() method takes iterable or containers and returns a single iterator object, having mapped values from all the containers. \n",
        "\n",
        "It is used to map the similar index of multiple containers so that they can be used just using a single entity\n"
      ],
      "metadata": {
        "id": "EN0q_kuJnQLx"
      }
    },
    {
      "cell_type": "code",
      "source": [
        "#zip(itr1,itr2,..)\n",
        "\n",
        "names = ['mahi','raj','naveen']\n",
        "marks = [90,50,81]\n",
        "list(zip(names,marks))"
      ],
      "metadata": {
        "id": "rJJVcM5BlJCA"
      },
      "execution_count": null,
      "outputs": []
    },
    {
      "cell_type": "code",
      "source": [
        "for name, mark in list(zip(names,marks)):\n",
        "  print(name,\"--->\",mark)\n"
      ],
      "metadata": {
        "id": "roVIEqC3n1KK"
      },
      "execution_count": null,
      "outputs": []
    },
    {
      "cell_type": "markdown",
      "source": [
        "**5.reduce():**\n",
        "reduce() function is used to apply a particular function passed in its argument to all of the list elements mentioned in the sequence passed along.This function is defined in “functools” module."
      ],
      "metadata": {
        "id": "UzXIJ__VrDqX"
      }
    },
    {
      "cell_type": "code",
      "source": [
        "#reduce(fun, seq)\n",
        "from functools import reduce\n",
        "scores = [250,10,30,50,70,90]\n",
        "reduce(lambda x, y : x + y, scores)"
      ],
      "metadata": {
        "id": "2UrZ17xPoZ9G"
      },
      "execution_count": null,
      "outputs": []
    },
    {
      "cell_type": "code",
      "source": [
        "reduce(lambda x,y: x if x>y else y, scores)"
      ],
      "metadata": {
        "id": "tnJDt3M3sfDG"
      },
      "execution_count": null,
      "outputs": []
    },
    {
      "cell_type": "code",
      "source": [],
      "metadata": {
        "id": "6r8ACrnKs4d_"
      },
      "execution_count": null,
      "outputs": []
    }
  ]
}