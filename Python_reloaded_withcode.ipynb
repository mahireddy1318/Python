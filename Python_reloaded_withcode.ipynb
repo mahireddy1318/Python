{
  "cells": [
    {
      "cell_type": "markdown",
      "metadata": {
        "id": "31TVqzSyrP3-"
      },
      "source": [
        "\n",
        "<center> <h1 style=\"background-color:orange; color:white\"><br>Python Python Everywhere<br></h1></center>"
      ]
    },
    {
      "cell_type": "markdown",
      "metadata": {
        "id": "Bc3xJTPCrP4C"
      },
      "source": [
        "# `What you can do with Python?`\n",
        "<h1>fields where you can use Python with Libraries & Frameworks</h1>\n",
        "\n",
        "|OpenCV| Web Scrapping | Machine Learning | Automation Testing | Web Development | Game Devlopment |\n",
        "| --- | --- | --- | --- | --- | --- | \n",
        "|* Sciki-image |* Selenium |* Pandas |* PyUnit |* Flask |* Pand3d\n",
        "|* OpenCV |* Beautiful Soup|* Numpy |* PyTest |* Django |* Arcade\n",
        "|* Pillow |* Requests|* Matplotlib |* Behave |* Web2Py |* PyGlet \n",
        "|* Mahotas |* Lxml|* Seaborn |* Robot |* Cheerypy |* PyOpenGl\n",
        "|* SimpleITK|* Scrapy |* Scikit-learn |* Splinter |* Bottle|* PyGame\n",
        "|*** |*** |* Scipy |*** |* Pyramid |***\n",
        "|*** |*** |* Keras |*** |* CubicWeb |***\n",
        "|*** |*** |* TensorFlow |*** |* Dash |***\n",
        "|*** |*** |* PyTorch |*** |* Falcon |***\n",
        "|*** |*** |* Theano |*** |* TurboGears |***\n",
        "\n",
        "\n"
      ]
    },
    {
      "cell_type": "markdown",
      "metadata": {
        "id": "kcBChyR-rP4D"
      },
      "source": [
        "📌 In above table you can see fields like `OpenCV`, `Web Scrapping`, **`Machine Learning`**, `Automation Testing`, `Web Development`, `Game Development`, these are the all field where you can use Python. <br>\n",
        "Yes application of Python are huge and wide <br>\n"
      ]
    },
    {
      "cell_type": "markdown",
      "metadata": {
        "id": "L2OHN1WrrP4D"
      },
      "source": [
        "<center><h5 style=\"background-color:orange;\"><br>Important Libraries for ML and Data Science<br></h5></center>"
      ]
    },
    {
      "cell_type": "markdown",
      "metadata": {
        "id": "bwA3tk3PrP4E"
      },
      "source": [
        "📌 These are the must know libraryies\n",
        "* **`Numpy`** - Efficient n-dimensional arrays, Linear Algebra, Random Number capabilities\n",
        "* **`Scipy`** - Scientifiv computing tools like Calculus, Signal Processing\n",
        "* **`Pandas`** - Data Reading(multiple formats), manipulation and Cleaning in python\n",
        "* **`Seaborn`** - Built on top of Matplotlib, provides a high-level interface for drawing attractive and informative charts\n",
        "* **`Matplotlib`** - Fundamental library for Data Visualization \n",
        "* **`StatsModel`** - Statistical models, Statical tests, Statical data exploration\n",
        "* **`Scikit-learn`** - Basic Data Preprocessing, Machine Learning Library"
      ]
    },
    {
      "cell_type": "markdown",
      "metadata": {
        "id": "eOIX7LfVNVZn"
      },
      "source": [
        "### **`NOTE: REVISE Previous Python Videos And Watch Videos in The Portal Whenever Suggested in The Assignment`**"
      ]
    },
    {
      "cell_type": "markdown",
      "metadata": {
        "id": "yVE7L7dorP4H"
      },
      "source": [
        "<a id='1'></a><center> <h3 style=\"background-color:orange; color:white\" ><br>Hi, there<br></h3>"
      ]
    },
    {
      "cell_type": "code",
      "execution_count": 1,
      "metadata": {
        "colab": {
          "base_uri": "https://localhost:8080/"
        },
        "id": "kOtDhbwWrP4I",
        "outputId": "ed1d6648-6f0c-4c33-cf2f-bade7e310002"
      },
      "outputs": [
        {
          "output_type": "stream",
          "name": "stdout",
          "text": [
            "Mahesh Reddy welcome...\n"
          ]
        }
      ],
      "source": [
        "# What is your name! Want to print your name! \n",
        "print(\"Mahesh Reddy welcome...\")\n"
      ]
    },
    {
      "cell_type": "markdown",
      "metadata": {
        "id": "kJxHTHrVrP4I"
      },
      "source": [
        "* `()` <= `Parentheses`\n",
        "* `''` <= `Single Quotes`\n",
        "* `\"\"` <= `Double Quotes`\n",
        "* `\\n` <= `New_line `\n",
        "* `#` <= `Used to comment inside code`"
      ]
    },
    {
      "cell_type": "code",
      "execution_count": 2,
      "metadata": {
        "colab": {
          "base_uri": "https://localhost:8080/"
        },
        "id": "zzmSYJDLrP4I",
        "outputId": "9c3686fc-5049-43c3-bc80-c5b1b9d1fc6a"
      },
      "outputs": [
        {
          "output_type": "stream",
          "name": "stdout",
          "text": [
            "Hi Mahesh \n",
            " welcome...\n"
          ]
        }
      ],
      "source": [
        "# Only use one print function\n",
        "# \\n <= it will break current line \n",
        "print(\"Hi Mahesh \\n welcome...\")"
      ]
    },
    {
      "cell_type": "markdown",
      "metadata": {
        "id": "W23eDrScrP4I"
      },
      "source": [
        "<a id='2'></a><center> <h3 style=\"background-color:orange; color:white\" ><br>Variables<br></h3>"
      ]
    },
    {
      "cell_type": "code",
      "execution_count": 3,
      "metadata": {
        "id": "hqiWhz6srP4K"
      },
      "outputs": [],
      "source": [
        "# define variables named as with values: mukesh 7, z 6, rohan 5, longitude 4,\n",
        "mukesh=7\n",
        "z=6\n",
        "rohan=5\n",
        "longitude=4"
      ]
    },
    {
      "cell_type": "code",
      "execution_count": 4,
      "metadata": {
        "colab": {
          "base_uri": "https://localhost:8080/"
        },
        "id": "W77FFVIqrP4K",
        "outputId": "f192d681-dac0-4eec-c11c-60fd1966fc00"
      },
      "outputs": [
        {
          "output_type": "stream",
          "name": "stdout",
          "text": [
            "5\n"
          ]
        }
      ],
      "source": [
        "# print required variable\n",
        "print(rohan)"
      ]
    },
    {
      "cell_type": "markdown",
      "metadata": {
        "id": "89kwQhu5rP4K"
      },
      "source": [
        "Variable Assignment:\n",
        "**`Variable_Name = Value`**\n",
        "\n",
        "Variables Naming Rules:\n",
        "* `Python is case-senstive` => x=5 is different from X=5 (one is lowe and other is upper case)\n",
        "* `var name can't start with special character except underscore(_)` => _X = 7 is `valid`, @X = 7 is `invalid`\n",
        "* `var name can't start with number` => 9X = 7 is `invalid`, X9 = 7 is `valid`\n",
        "* can't use `keywords` as a variable name\n",
        "    * "
      ]
    },
    {
      "cell_type": "markdown",
      "metadata": {
        "id": "hiYt4qiJrP4K"
      },
      "source": [
        "# * **`Declaring a Variable`** <br>\n"
      ]
    },
    {
      "cell_type": "code",
      "execution_count": null,
      "metadata": {
        "id": "SkVGfdAUcZcB"
      },
      "outputs": [],
      "source": []
    },
    {
      "cell_type": "code",
      "execution_count": null,
      "metadata": {
        "id": "5pomjoc_rP4L"
      },
      "outputs": [],
      "source": [
        "# declare 4 variables with values as: ur_age 21,ur_weight 50.6, ur_first_name = 'Mukesh',ur_last_name = \"Manral\", TrueOrFalse compare if  ur_last_name == ur_first_name\n",
        "ur_age=21\n",
        "ur_weight=50.6\n",
        "ur_first_name = 'Mukesh'\n",
        "ur_last_name = \"Manral\" \n",
        "TrueOrFalse = ur_first_name == ur_last_name"
      ]
    },
    {
      "cell_type": "markdown",
      "metadata": {
        "id": "aD6_WvkKrP4L"
      },
      "source": [
        "# * **`Data Type(Type of variable)`**"
      ]
    },
    {
      "cell_type": "markdown",
      "metadata": {
        "id": "snzoPkD3rP4L"
      },
      "source": [
        "| Name | Type | Description |\n",
        "| ---- | ---- | ----| \n",
        "|Integers | int | Integer number, like 34,-56 ...|\n",
        "|Float | float | Decimal number, like 3.4,-5.6 ...|\n",
        "|String| str | Ordered sequence of characters, like 'your name' |\n",
        "|Boolean |bool |Logical values indicating True or False only |"
      ]
    },
    {
      "cell_type": "code",
      "execution_count": null,
      "metadata": {
        "colab": {
          "base_uri": "https://localhost:8080/"
        },
        "id": "Bb_fmhaOrP4L",
        "outputId": "ac94a4a8-f2c1-49a8-8f96-b81c61261498"
      },
      "outputs": [
        {
          "output_type": "stream",
          "name": "stdout",
          "text": [
            "<class 'int'>\n",
            "<class 'float'>\n",
            "<class 'str'>\n",
            "<class 'str'>\n",
            "<class 'bool'>\n"
          ]
        }
      ],
      "source": [
        "# print type of ur_age,ur_weight,ur_first_name,ur_last_name variables\n",
        "print(type(ur_age))\n",
        "print(type(ur_weight))\n",
        "print(type(ur_first_name))\n",
        "print(type(ur_last_name))\n",
        "print(type(TrueOrFalse))"
      ]
    },
    {
      "cell_type": "code",
      "execution_count": null,
      "metadata": {
        "id": "iaADKqUwrP4L"
      },
      "outputs": [],
      "source": [
        "# print values of ur_age,ur_weight,ur_first_name,ur_last_name variables\n"
      ]
    },
    {
      "cell_type": "code",
      "execution_count": null,
      "metadata": {
        "colab": {
          "base_uri": "https://localhost:8080/"
        },
        "id": "Hde3D2uQrP4L",
        "outputId": "c97a5094-c43b-49dc-8375-f2636530c7e2"
      },
      "outputs": [
        {
          "output_type": "stream",
          "name": "stdout",
          "text": [
            "True\n"
          ]
        }
      ],
      "source": [
        "# make 2 variables with values as: ur_first_name 'Mukesh',ur_last_name'Mukesh' \n",
        "\n",
        "# make a variable TrueOrFalse which will have comparison of variables ur_last_name == ur_first_name \n",
        "ur_first_name = 'Mukesh'\n",
        "ur_last_name = 'Mukesh'\n",
        "TrueOrFalse = ur_last_name == ur_first_name\n",
        "print(TrueOrFalse)"
      ]
    },
    {
      "cell_type": "code",
      "execution_count": null,
      "metadata": {
        "colab": {
          "base_uri": "https://localhost:8080/"
        },
        "id": "XvFvwpEQrP4L",
        "outputId": "2cc93b7e-000a-44f6-dbc9-297b46fcffc8"
      },
      "outputs": [
        {
          "output_type": "stream",
          "name": "stdout",
          "text": [
            "Name is : Mahesh and age is : 23\n"
          ]
        }
      ],
      "source": [
        "# print variables named as (your name and your age)\n",
        "name='Mahesh'\n",
        "age = '23'\n",
        "print(\"Name is : {} and age is : {}\".format(name,age))"
      ]
    },
    {
      "cell_type": "markdown",
      "metadata": {
        "id": "SLTS9twurP4L"
      },
      "source": [
        "# *How Variables works in Python\n",
        "[To see how python code is being executed internally](https://pythontutor.com/visualize.html#mode=display)"
      ]
    },
    {
      "cell_type": "code",
      "execution_count": null,
      "metadata": {
        "colab": {
          "base_uri": "https://localhost:8080/"
        },
        "id": "2XCoERjmrP4L",
        "outputId": "1881fe98-3bc8-436a-e8ef-f219d0316726"
      },
      "outputs": [
        {
          "output_type": "stream",
          "name": "stdout",
          "text": [
            "3 10\n"
          ]
        }
      ],
      "source": [
        "# quick variables swap\n",
        "# define 3 variables with values as :x 10, y = x,x 3 \n",
        "x=10\n",
        "y=x\n",
        "x=3\n",
        "# print x,y\n",
        "print(x,y)"
      ]
    },
    {
      "cell_type": "markdown",
      "metadata": {
        "id": "kpSfcblGrP4M"
      },
      "source": [
        "\n",
        "<a id='3'></a><center> <h3 style=\"background-color:orange; color:white\" ><br>Assignment Variables & Data Types<br></h3>"
      ]
    },
    {
      "cell_type": "markdown",
      "metadata": {
        "id": "mrQh_aU8rP4M"
      },
      "source": [
        "📌 `When you create a variable you keep some space in memory. These memory locations are then used to store values`"
      ]
    },
    {
      "cell_type": "code",
      "execution_count": null,
      "metadata": {
        "id": "39JWxM7KrP4M"
      },
      "outputs": [],
      "source": [
        "# define a variable name \"x\" and assign value 777 to it\n",
        "x = 777"
      ]
    },
    {
      "cell_type": "markdown",
      "metadata": {
        "id": "QXnovK7lrP4M"
      },
      "source": [
        "* To view some data on screen, python have `print` function\n",
        "    * Using `print` function we can control view on output screen\n"
      ]
    },
    {
      "cell_type": "code",
      "execution_count": null,
      "metadata": {
        "colab": {
          "base_uri": "https://localhost:8080/"
        },
        "id": "vhpXKHMkrP4M",
        "outputId": "4f56289f-fb14-4123-c763-b5991530ee19"
      },
      "outputs": [
        {
          "output_type": "stream",
          "name": "stdout",
          "text": [
            "777\n"
          ]
        }
      ],
      "source": [
        "# print value of variable x\n",
        "print(x)"
      ]
    },
    {
      "cell_type": "markdown",
      "metadata": {
        "id": "slh282AprP4M"
      },
      "source": [
        "# *Identifiers in Python\n",
        "* Like Variables, we have to define `Functions`, `Classes` etc in python\n",
        "    * Naming them helps to differentiate one entity from another\n",
        "* All these names given to these entities are known as `Identifiers`. \n",
        "* Python have some rules to define Identifiers\n",
        "\n",
        "\n",
        "***Rules of Writing Identifiers***\n",
        "\n",
        "* Python is case sensitive language.\n",
        "* Identifiers can be a combination of letters in lowercase (a to z) or uppercase (A to Z) or digits (0 to 9) or an underscore _. \n",
        "    * Names like myVariable, var_1 and print_this, all are valid example.\n",
        "* An identifier cannot start with a digit\n",
        "* `1variable` is invalid, but `variable1` is perfectly fine\n",
        "* We cannot use special symbols like !, @, #, $, % etc. in our identifier. `_` is allowed\n",
        "* ***`Keywords` cannot be used as identifiers =>  `Keywords` are the reserved words in Python***\n",
        "\n",
        "---\n",
        "***Keywords in Python***\n",
        "\n",
        "---\n",
        "\n",
        "* `False`\n",
        "* `class`\n",
        "* `finally`\n",
        "* `is`\n",
        "* `return`\n",
        "* `None`\n",
        "* `continue`\n",
        "* `for`\n",
        "* `lambda`\n",
        "* `try`\n",
        "* `True`.. etc\n"
      ]
    },
    {
      "cell_type": "markdown",
      "metadata": {
        "id": "SrryZ3enrP4N"
      },
      "source": [
        "# 📌 Type Conversion\n",
        "\n",
        "\n",
        "***Python defines type conversion functions to directly convert one data type to another.***"
      ]
    },
    {
      "cell_type": "code",
      "execution_count": null,
      "metadata": {
        "colab": {
          "base_uri": "https://localhost:8080/"
        },
        "id": "yeQ9bxJtrP4N",
        "outputId": "29d51e05-b22e-4330-d151-932021569438"
      },
      "outputs": [
        {
          "output_type": "stream",
          "name": "stdout",
          "text": [
            "<class 'float'>\n",
            "<class 'int'>\n",
            "26.33333 26\n"
          ]
        }
      ],
      "source": [
        "#convert float to integer\n",
        "#1. make a variable named as my_weight_float with datatype float and value 26.33333\n",
        "#2. make another var named as my_weight_int change above variable datatype to int \n",
        "#3. print data type of my_weight_float and my_weight_int\n",
        "#4. print my_weight_float and my_weight_int\n",
        "my_weight_float = 26.33333\n",
        "my_weight_int = int(my_weight_float)\n",
        "print(type(my_weight_float))\n",
        "print(type(my_weight_int))\n",
        "print(my_weight_float,my_weight_int)"
      ]
    },
    {
      "cell_type": "markdown",
      "metadata": {
        "id": "cx_jl2V9rP4N"
      },
      "source": [
        " ➕ if we try to add string and integer number, it will give an error"
      ]
    },
    {
      "cell_type": "code",
      "execution_count": null,
      "metadata": {
        "colab": {
          "base_uri": "https://localhost:8080/",
          "height": 201
        },
        "id": "uap3_C2JrP4N",
        "outputId": "8312b12e-a3a4-40d3-ea3b-e0f7d980e81b"
      },
      "outputs": [
        {
          "output_type": "error",
          "ename": "TypeError",
          "evalue": "ignored",
          "traceback": [
            "\u001b[0;31m---------------------------------------------------------------------------\u001b[0m",
            "\u001b[0;31mTypeError\u001b[0m                                 Traceback (most recent call last)",
            "\u001b[0;32m<ipython-input-14-da97f18f47b0>\u001b[0m in \u001b[0;36m<module>\u001b[0;34m\u001b[0m\n\u001b[1;32m      1\u001b[0m \u001b[0;31m# make a variable name with value as: adding_string_and_number '3' + 7\u001b[0m\u001b[0;34m\u001b[0m\u001b[0;34m\u001b[0m\u001b[0;34m\u001b[0m\u001b[0m\n\u001b[1;32m      2\u001b[0m \u001b[0mvalue\u001b[0m \u001b[0;34m=\u001b[0m \u001b[0;34m'3'\u001b[0m\u001b[0;34m\u001b[0m\u001b[0;34m\u001b[0m\u001b[0m\n\u001b[0;32m----> 3\u001b[0;31m \u001b[0madding_string_and_number\u001b[0m \u001b[0;34m=\u001b[0m \u001b[0;34m'3'\u001b[0m\u001b[0;34m+\u001b[0m\u001b[0;36m7\u001b[0m\u001b[0;34m\u001b[0m\u001b[0;34m\u001b[0m\u001b[0m\n\u001b[0m",
            "\u001b[0;31mTypeError\u001b[0m: can only concatenate str (not \"int\") to str"
          ]
        }
      ],
      "source": [
        "# make a variable name with value as: adding_string_and_number '3' + 7\n",
        "value = '3'\n",
        "adding_string_and_number = '3'+7"
      ]
    },
    {
      "cell_type": "code",
      "execution_count": null,
      "metadata": {
        "id": "cJoissQsrP4N"
      },
      "outputs": [],
      "source": [
        "# convert above string '3' to integer and then add both '3' and 7 and save in variable named as  adding_string_and_number\n",
        "# called type conversion: string to int\n",
        "value = int(value)\n",
        "adding_string_and_number = value + 7\n",
        "# print variable adding_string_and_number\n",
        "print(adding_string_and_number)"
      ]
    },
    {
      "cell_type": "code",
      "execution_count": null,
      "metadata": {
        "id": "a4Wu-bO8rP4N"
      },
      "outputs": [],
      "source": [
        "# make two variables with values as: ur_money 18 and frnd_money 21 \n",
        "ur_money=18\n",
        "frnd_money=21\n",
        "# now use f string in print to see how much mony you and your friend have\n",
        "print(f\"ur_money is : {ur_money}, frnd_money : {frnd_money}\")"
      ]
    },
    {
      "cell_type": "code",
      "execution_count": null,
      "metadata": {
        "id": "oQqq8x-MrP4N"
      },
      "outputs": [],
      "source": [
        "# swap your money with friend money values\n",
        "ur_money, frnd_money= frnd_money,ur_money\n",
        "\n",
        "# now use f string in print to see how much mony you and your friend have now after swap\n",
        "print(f\"This is frined money : {frnd_money} \\nThis is your money:{ur_money}\")"
      ]
    },
    {
      "cell_type": "markdown",
      "metadata": {
        "id": "HhJfWRpjrP4N"
      },
      "source": [
        "# *Python Data Structures"
      ]
    },
    {
      "cell_type": "markdown",
      "metadata": {
        "id": "O5yhDZLmrP4O"
      },
      "source": [
        "| Name | Type | Description |\n",
        "| ---- | ---- | ----| \n",
        "|List | list | Ordered sequence of various data types, like [34,'name',3.4]|\n",
        "|Dictionary | dict | Unordered sequence of `key-values pair`, like {'age':34,'age1:56'}|\n",
        "|Tuples | tup | Non-mutable sequence of data type, like (34,56,'name')|\n",
        "|Set |set | Collection of unique elements, like ('id','last_name')|"
      ]
    },
    {
      "cell_type": "markdown",
      "metadata": {
        "id": "bhaTCL9trP4O"
      },
      "source": [
        "|Type|Mutability|Comments|\n",
        "|----|----|----|\n",
        "int |immutable|\n",
        "float|immutable|\n",
        "string|immutable|\n",
        "bool |immutable|\n",
        "frozenset|immutable|immutable version of set\n",
        "tuple|immutable|immutable version of list\n",
        "list|mutable|\n",
        "set |mutable|\n",
        "dict|mutable|\n",
        "\n"
      ]
    },
    {
      "cell_type": "markdown",
      "metadata": {
        "id": "5zCDIkJJrP4O"
      },
      "source": [
        "💫 `immutable` => `can't be changed` <br>\n",
        "💫 `mutable` => `can be changed`"
      ]
    },
    {
      "cell_type": "markdown",
      "metadata": {
        "id": "hABElii_rP4O"
      },
      "source": [
        "---\n",
        "### Proof that string is immutable"
      ]
    },
    {
      "cell_type": "code",
      "execution_count": null,
      "metadata": {
        "colab": {
          "base_uri": "https://localhost:8080/"
        },
        "id": "Bh7K7FPCrP4O",
        "outputId": "99254db1-13f4-45e4-8d7d-5c40f7ab6c83"
      },
      "outputs": [
        {
          "output_type": "stream",
          "name": "stdout",
          "text": [
            "<class 'str'>\n",
            "M\n"
          ]
        }
      ],
      "source": [
        "# can't reassign  \n",
        "\n",
        "# make a varible with value as: where_to_learn_MLandDL 'CloudyML'\n",
        "where_to_learn_MLandDL = 'CloudyML'\n",
        "# print type of variable\n",
        "print(type(where_to_learn_MLandDL))\n",
        "# acess Letter M\n",
        "print(where_to_learn_MLandDL[6])"
      ]
    },
    {
      "cell_type": "code",
      "execution_count": null,
      "metadata": {
        "colab": {
          "base_uri": "https://localhost:8080/"
        },
        "id": "b3IB3yQbrP4O",
        "outputId": "e0cf7de6-794f-4984-981b-9cd1eed95009"
      },
      "outputs": [
        {
          "output_type": "stream",
          "name": "stdout",
          "text": [
            "C-139862176757168\n",
            "l-139862176759536\n",
            "o-139862176759408\n",
            "u-139862177376240\n",
            "d-139862176758768\n",
            "y-139862176392240\n",
            "M-139862176638000\n",
            "L-139862176637936\n",
            "D-139862176757424\n",
            "L-139862176637936\n"
          ]
        }
      ],
      "source": [
        "# make a variable with value as: where_to_learn_MLandDL  'CloudyMLDL'\n",
        "where_to_learn_MLandDL= 'CloudyMLDL'\n",
        "# try to loop in range of (0,10) and try to see memory location of letter-L of string-'CloudyMLDL' is same\n",
        "for item in where_to_learn_MLandDL:\n",
        "  print(item, end=\"-\")\n",
        "  print(id(item))\n",
        "\n",
        "# If you dont know loop go throug videos first then do this"
      ]
    },
    {
      "cell_type": "markdown",
      "metadata": {
        "id": "1Yau-6lcrP4O"
      },
      "source": [
        "---"
      ]
    },
    {
      "cell_type": "markdown",
      "metadata": {
        "id": "7NhOTXbMrP4P"
      },
      "source": [
        "**`List`** (ordered datastructure)\n",
        "* Ordered collection of values, each element is seprated by a comma, use of square bracket for denotion of list\n",
        "Ordered property is the most important aspect of list, lets see how:\n",
        "* Python remembers the order of elements of a list\n",
        "Data type connot store different kind of values in it, but list can"
      ]
    },
    {
      "cell_type": "code",
      "execution_count": null,
      "metadata": {
        "id": "h8DvPJKUrP4P"
      },
      "outputs": [],
      "source": [
        "# declare a list named as ur_data_Lis having variables age,weight,name with values as 21,50.6,'Mukesh Manral'\n",
        "ur_data_Lis = [21, 50.6, 'Mukesh Manral']\n",
        "\n",
        "# declare a dictionary named as ur_data_dictionary having keys as age,weight, first_name values as 21, 50, Mukesh\n",
        "ur_data_dictionary = {'age':21, 'weight':50, 'first_name' :'Mukesh' }\n",
        "\n",
        "# declare a tuple named as ur_data_tuples having values 21,50.6,'first_name'\n",
        "ur_data_tuples = (21,50.6,'first_name')\n",
        "\n",
        "# declare a set named as ur_data_set having value as Mukesh\n",
        "ur_data_set = {'Mukesh'}"
      ]
    },
    {
      "cell_type": "code",
      "execution_count": null,
      "metadata": {
        "id": "BjybhpkprP4P"
      },
      "outputs": [],
      "source": [
        "# see datatype of ur_data_List, ur_data_dictionary, ur_data_tuples , ur_data_set variables\n",
        "print(type(ur_data_Lis))\n",
        "print(type(ur_data_dictionary))\n",
        "print(type(ur_data_tuples))\n",
        "print(type(ur_data_set))"
      ]
    },
    {
      "cell_type": "markdown",
      "metadata": {
        "id": "DONZzh6OrP4P"
      },
      "source": [
        "<a id='4'></a><center> <h3 style=\"background-color:orange; color:white\" ><br>Operators<br></h3>"
      ]
    },
    {
      "cell_type": "markdown",
      "metadata": {
        "id": "4Wfm35b4rP4P"
      },
      "source": [
        "`Operators`: Symbols that represent mathematical or logical tasks \n",
        "\n",
        "Example:<br>\n",
        "`700` `+` `77`<br>\n",
        "* `+` <= Operator\n",
        "* `700` & `77` <= Operands\n"
      ]
    },
    {
      "cell_type": "markdown",
      "metadata": {
        "id": "W-7tOm5CrP4P"
      },
      "source": [
        "# Types of Operators\n",
        "1. `Arithmetic Operators`\n",
        "2. `Comparison Operators`\n",
        "3. `Logical Operators`"
      ]
    },
    {
      "cell_type": "markdown",
      "metadata": {
        "id": "7OAVQ6EsrP4P"
      },
      "source": [
        "# **1. `Arithmetic Operators`**"
      ]
    },
    {
      "cell_type": "markdown",
      "metadata": {
        "id": "_QNg2gk7rP4Q"
      },
      "source": [
        "|Task | Symbol|Example|\n",
        "|---|---|----|\n",
        "|Addition | + | 700 + 77 = 777|\n",
        "|Substraction | - | 778 - 1 = 777|\n",
        "|Multiplication | * | 1 * 777 = 777|\n",
        "|Division | / | 13 / 2 = 6.5|\n",
        "|Floor Division(ignores decimal \\ gives quotient) | // | 13 // 2 = 6|\n",
        "|Modulo(gives remainder)| % | 13 % 2 = 1|\n",
        "|Exponent(raise to the power) | ** | 13**2 = 169 |"
      ]
    },
    {
      "cell_type": "markdown",
      "metadata": {
        "id": "FyxOlaQmrP4Q"
      },
      "source": [
        "# **2. `Comparison Operators`**"
      ]
    },
    {
      "cell_type": "markdown",
      "metadata": {
        "id": "8V4gqwnBrP4Q"
      },
      "source": [
        "|Task | Symbol|\n",
        "|---|---|\n",
        "|Less than | < |\n",
        "|Less than or equall to | <= | \n",
        "|Equall to | == | \n",
        "|Greater than | > | \n",
        "|Greater than or equall to | >=|\n",
        "|Not equall to | != | \n"
      ]
    },
    {
      "cell_type": "markdown",
      "metadata": {
        "id": "m7-BVTnhrP4Q"
      },
      "source": [
        "# **3. `Logical Operators`**"
      ]
    },
    {
      "cell_type": "markdown",
      "metadata": {
        "id": "pHm4Yt2NrP4Q"
      },
      "source": [
        "|Task | Symbol|Description|\n",
        "|---|---|---|\n",
        "|and | 1 < 2 and 2 < 3 => True |True only if both comparison are true |\n",
        "|or | 1 < 2 or 2 > 3 => True|True if either of the comparison are true  |\n",
        "|not | not 1 > 2 => True|(flips results)True if comparison is False and so on.. |\n"
      ]
    },
    {
      "cell_type": "markdown",
      "metadata": {
        "id": "IEkQ9PGArP4Q"
      },
      "source": [
        "<a id='5'></a><center> <h3 style=\"background-color:orange; color:white\" ><br>Assignment Operators<br></h3>"
      ]
    },
    {
      "cell_type": "code",
      "execution_count": null,
      "metadata": {
        "id": "9eHULNrarP4Q"
      },
      "outputs": [],
      "source": [
        "# Initialize variables [x,y,z,zz] with values \n",
        "## x as 7 =>int ,\n",
        "## y as 77 =>int, \n",
        "## z as 77.7 => float, \n",
        "## zz as 'Hi' => string\n",
        "x=7\n",
        "y=77\n",
        "z=77.7\n",
        "zz='Hi'"
      ]
    },
    {
      "cell_type": "markdown",
      "metadata": {
        "id": "kMGlbyturP4Q"
      },
      "source": [
        "# **1. `Arithmetic Operators`**"
      ]
    },
    {
      "cell_type": "code",
      "execution_count": null,
      "metadata": {
        "id": "_7X7ChdtrP4Q"
      },
      "outputs": [],
      "source": [
        "# add x and z\n",
        "print(x+z)"
      ]
    },
    {
      "cell_type": "code",
      "execution_count": null,
      "metadata": {
        "id": "VWA9vqXbrP4R"
      },
      "outputs": [],
      "source": [
        "# subtract z and y\n",
        "print(z-y)"
      ]
    },
    {
      "cell_type": "code",
      "execution_count": null,
      "metadata": {
        "id": "Xs-S0MhCrP4R"
      },
      "outputs": [],
      "source": [
        "# Multiply x and z\n",
        "print(x*z)"
      ]
    },
    {
      "cell_type": "code",
      "execution_count": null,
      "metadata": {
        "id": "QTAL9jikrP4R"
      },
      "outputs": [],
      "source": [
        "# Exponent (raise the power or times) x times z\n",
        "print(x**z)"
      ]
    },
    {
      "cell_type": "code",
      "execution_count": null,
      "metadata": {
        "id": "veuOn9YcrP4R"
      },
      "outputs": [],
      "source": [
        "# division on x and z\n",
        "print(x/z)"
      ]
    },
    {
      "cell_type": "markdown",
      "metadata": {
        "id": "lPSllBVYrP4R"
      },
      "source": [
        "`//` => divides and returns integer value of quotient\n",
        "* It will dump digits after decimal"
      ]
    },
    {
      "cell_type": "code",
      "execution_count": null,
      "metadata": {
        "id": "LjvFNdDHrP4R"
      },
      "outputs": [],
      "source": [
        "# floor division(ignores decimal) on x and z (gives quotient)\n",
        "print(x//z)"
      ]
    },
    {
      "cell_type": "code",
      "execution_count": null,
      "metadata": {
        "id": "prGaXfI2rP4R"
      },
      "outputs": [],
      "source": [
        "# Modulo(gives remainder) on x and z\n",
        "print(x%z)"
      ]
    },
    {
      "cell_type": "markdown",
      "metadata": {
        "id": "BqiZFRnxrP4R"
      },
      "source": [
        "# **2. `Comparison Operators`**"
      ]
    },
    {
      "cell_type": "code",
      "execution_count": null,
      "metadata": {
        "id": "cZTjTlksrP4S"
      },
      "outputs": [],
      "source": [
        "# comapre and see if x is less then z \n",
        "# can use '<' symbol\n",
        "x < z\n"
      ]
    },
    {
      "cell_type": "code",
      "execution_count": null,
      "metadata": {
        "id": "ugLB8T4zrP4S"
      },
      "outputs": [],
      "source": [
        "# check the type of above comaprison where it says comapre and see if x is less then z \n",
        "print(type(x<z))"
      ]
    },
    {
      "cell_type": "markdown",
      "metadata": {
        "id": "JvyfWt8NrP4S"
      },
      "source": [
        "* `Bool` => takes two values, either `True` or `False`"
      ]
    },
    {
      "cell_type": "code",
      "execution_count": null,
      "metadata": {
        "id": "qrLXc7h8rP4S"
      },
      "outputs": [],
      "source": [
        "# compare and see if x is less then or equall to z\n",
        "# can use '<=' symbol\n",
        "print(x<=z)"
      ]
    },
    {
      "cell_type": "code",
      "execution_count": null,
      "metadata": {
        "id": "QITa8mAorP4S"
      },
      "outputs": [],
      "source": [
        "# comapre and see if x equall to z\n",
        "# can use '==' symbol\n",
        "print(x==z)"
      ]
    },
    {
      "cell_type": "code",
      "execution_count": null,
      "metadata": {
        "id": "to09wf4lrP4S"
      },
      "outputs": [],
      "source": [
        "# comapre and see if x is greater than z\n",
        "# can use '>' symbol\n",
        "print(x>z)"
      ]
    },
    {
      "cell_type": "code",
      "execution_count": null,
      "metadata": {
        "id": "3XjJEvQmrP4S"
      },
      "outputs": [],
      "source": [
        "# comapre and see if x is greater than or equall to z\n",
        "# can use '>=' symbol\n",
        "print(x>=z)"
      ]
    },
    {
      "cell_type": "code",
      "execution_count": null,
      "metadata": {
        "id": "U3R4NtLUrP4S"
      },
      "outputs": [],
      "source": [
        "# comapre and see if x is Not equall to z\n",
        "# can use '!=' symbol\n",
        "print(x!=z)\n"
      ]
    },
    {
      "cell_type": "markdown",
      "metadata": {
        "id": "i1cSXmgbrP4T"
      },
      "source": [
        "# **3. `Logical Operators`**"
      ]
    },
    {
      "cell_type": "code",
      "execution_count": null,
      "metadata": {
        "id": "qrf5nOLerP4T"
      },
      "outputs": [],
      "source": [
        "# compare if 108 is equall to 108, 21 is equall to 21 using logical and \n",
        "# equall to => '=='\n",
        "# logical and => and\n",
        "print(108 == 108 and 21==21)\n",
        "  # in and both condition must be True to get a True"
      ]
    },
    {
      "cell_type": "code",
      "execution_count": null,
      "metadata": {
        "id": "Zp51tX7NrP4T"
      },
      "outputs": [],
      "source": [
        "# how above condition can give False as output show all thouse conditions\n",
        " # in and both condition must be True to get a True\n",
        "print(108 == 108 and 21!=21)"
      ]
    },
    {
      "cell_type": "code",
      "execution_count": null,
      "metadata": {
        "id": "TRMHLAHkrP4T"
      },
      "outputs": [],
      "source": [
        "# compare if 108 is equall to 108, 21 is equall to 11 using logical or\n",
        "# equall to => '=='\n",
        "# logical or => or\n",
        "print(108 == 108 or 21==11)\n",
        " # in or Only one condition need to be True to get a True"
      ]
    },
    {
      "cell_type": "code",
      "execution_count": null,
      "metadata": {
        "id": "QQRfWOkzrP4T"
      },
      "outputs": [],
      "source": [
        "# this is for you understand it\n",
        "(108 == 108) or (21 == 11) or (108 <= 11)"
      ]
    },
    {
      "cell_type": "markdown",
      "metadata": {
        "id": "FYchA77BrP4T"
      },
      "source": [
        "\n",
        "<a id='6'></a><center> <h3 style=\"background-color:orange; color:white\" ><br>Conditional Statements<br></h3>"
      ]
    },
    {
      "cell_type": "markdown",
      "metadata": {
        "id": "r5LWKR-irP4T"
      },
      "source": [
        "# 1. **`if`--- `else`** => to handle single condition <br>\n",
        "# 2. **`if`--- `elif`--- `else`** => to handle Multiple condition"
      ]
    },
    {
      "cell_type": "markdown",
      "metadata": {
        "id": "4l8YdB1orP4T"
      },
      "source": [
        "`Why do we need conditional Statements?` <br>\n",
        "Say you want to buy a ML course and to decided you buy it or not to by it based on some condition,=> if you have more then 2k buy, if you dont have more then 2k dont buy!! \n",
        "\n",
        "* Two Variable you will use `ML course` and `money` \n",
        "* One comparison `money > 2k`\n",
        "For ML course if `money > 2k` => you have more money then 2k => condition is True => buy course => if condition is False i.e. you have less money then 2k then dont buy the course\n"
      ]
    },
    {
      "cell_type": "markdown",
      "metadata": {
        "id": "FWFgSro3rP4U"
      },
      "source": [
        "|Pseudo Code for above will be| Python Code for Pseudo code|\n",
        "|----|----|\n",
        "Check if money > 2k | if money > 2000:\n",
        "then ML course = 'buy' |....  ML course = 'buy'\n",
        "else Ml course = 'dont buy'| else:\n",
        " --  | ....ML course = 'dont buy'"
      ]
    },
    {
      "cell_type": "code",
      "execution_count": null,
      "metadata": {
        "id": "eD6N8d4JrP4U"
      },
      "outputs": [],
      "source": [
        "\"\"\"\n",
        "if condition:\n",
        "    statement\n",
        "else:\n",
        "    statement\"\"\""
      ]
    },
    {
      "cell_type": "markdown",
      "metadata": {
        "id": "_7lo_XpYrP4U"
      },
      "source": [
        "`Observe in Python code:` \n",
        "* `if` => statement in python\n",
        "* `else` => statement in python\n",
        "* `:` => colon => denotes start of if block i.e. any line written after colon belong to if condition\n",
        "* `....` => see then as indentation i.e. 4 spaces => indentation indicates all code belong to only if and then another indentation indicates code for only else block "
      ]
    },
    {
      "cell_type": "code",
      "execution_count": null,
      "metadata": {
        "id": "e2SpODuorP4U"
      },
      "outputs": [],
      "source": [
        "# make variable with value as : money 100000\n",
        "money = 100000\n",
        "# see output of money > 2000 \n",
        "print(money>2000)"
      ]
    },
    {
      "cell_type": "code",
      "execution_count": null,
      "metadata": {
        "id": "8rLKbxCqrP4U"
      },
      "outputs": [],
      "source": [
        "# see above Python code for Pseudo code and write that into python code\n",
        "\n",
        "# assign money variable value of 100000 \n",
        "##### say you have this much ammount in your account\n",
        "\n",
        "# start of if condition\n",
        "if money>2000: # if money is greater then 2000 which is ML course free \n",
        "    print('buy ML course')\n",
        "else:\n",
        "    print('Not buy ML Course') # if money > 2000 is false i.e. you have less money then 2000 in your account then else will work for now only if is working\n"
      ]
    },
    {
      "cell_type": "code",
      "execution_count": null,
      "metadata": {
        "id": "-J44V8LNrP4U"
      },
      "outputs": [],
      "source": [
        "\n",
        "# make variable with value as : money 100\n",
        "money = 100\n",
        "# see output of money > 2000\n",
        "print(money>2000)"
      ]
    },
    {
      "cell_type": "code",
      "execution_count": null,
      "metadata": {
        "id": "eQGaPvuRrP4U"
      },
      "outputs": [],
      "source": [
        "# assign money variable value of 100\n",
        "#### say you have this much ammount in your account\n",
        "\n",
        "# start of if condition\n",
        "if money > 2000 :# if money is greater then 2000 which is ML course free \n",
        "    print('buy ML course')\n",
        "else:\n",
        "    print(\"Don't buy ML Course\") # if money > 2000 is false i.e. you have less money then 2000 in your account then else will work for now only if is working\n"
      ]
    },
    {
      "cell_type": "markdown",
      "metadata": {
        "id": "nVugaqcErP4U"
      },
      "source": [
        "# 2. `Multiple Condition` i.e. use of **`if`--- `elif`--- `else`**\n",
        "Say you have bought ML course, but now you want certification and internship here includes more then 1 condition maybe 2 or 3, lets see for conditions:\n",
        "* if your test score more then 80 then you will get certification of A grade\n",
        "* if your test score more then 60 then you will get certification of B grade\n",
        "* for rest not get anything"
      ]
    },
    {
      "cell_type": "markdown",
      "metadata": {
        "id": "KLJjdItrrP4U"
      },
      "source": [
        "|Pseudo Code for above will be\n",
        "|----|\n",
        "Check if score > 80\n",
        "if yes print('A grade')\n",
        "Otherwise check if score > 60\n",
        "if yes print('B grade')\n",
        "For every other situation print('not getting anything')"
      ]
    },
    {
      "cell_type": "code",
      "execution_count": null,
      "metadata": {
        "id": "UkSB0BDKrP4V"
      },
      "outputs": [],
      "source": [
        "# python code for above Pseudo Code will be\n",
        "your_test_score = input('What is your test score(check for 10, 70, 90):') #taking input from you use of input()\n",
        "your_test_score = int(your_test_score) #as input is in string changing it to int as to make comparison possible\n",
        "\n",
        "if your_test_score > 80: # if your_test_score greater then 80\n",
        "    print('A grade')\n",
        "elif your_test_score<80 and your_test_score>60: # elif your_test_score greater then 60 and your_test_score leass then 80\n",
        "    print('B grade')\n",
        "else:\n",
        "    print('Nothing for you')"
      ]
    },
    {
      "cell_type": "markdown",
      "metadata": {
        "id": "5fSzijCErP4V"
      },
      "source": [
        "`Understand above Flow`:\n",
        "* check for if statement if true close, if not true\n",
        "* check for elif, if elif condition is true go close, if not true\n",
        "* go ot else any way\n",
        "* [See how this code is being executed internally](https://pythontutor.com/visualize.html#mode=display)\n",
        "* copy above code there "
      ]
    },
    {
      "cell_type": "markdown",
      "metadata": {
        "id": "f-c4s81KrP4V"
      },
      "source": [
        "\n",
        "<a id='7'></a><center> <h3 style=\"background-color:orange; color:white\" ><br>Assignment Conditional Statements<br></h3>"
      ]
    },
    {
      "cell_type": "markdown",
      "metadata": {
        "id": "qutzAWNFrP4V"
      },
      "source": [
        "# 📌📌 Indentation in Python\n",
        "\n",
        "***Before we start Conditional Statements, let's have a look at `indentation` in Python.***\n",
        "\n",
        "## `INDENTATION`\n",
        "* Indentation means `(spaces and tabs)` that are used at beginning of any statement\n",
        "* Statements with same indentation belong to same group also called as `suite`. \n"
      ]
    },
    {
      "cell_type": "code",
      "execution_count": null,
      "metadata": {
        "id": "CK1s7-BxrP4V"
      },
      "outputs": [],
      "source": [
        "# this is how wrong indentation gives you error  (commet can be written by using => #)\n",
        "if (2 == 2):\n",
        "print('True Statement') # IndentationError"
      ]
    },
    {
      "cell_type": "markdown",
      "metadata": {
        "id": "pT2IKbixrP4V"
      },
      "source": [
        "**`Take an input from a user in variable input_ and print \"Even\" if number is divisible by 2, otherwise print \"Odd\"`**"
      ]
    },
    {
      "cell_type": "code",
      "execution_count": null,
      "metadata": {
        "id": "zF-6vc9HrP4V"
      },
      "outputs": [],
      "source": [
        "# take input from user by using input function in variable named as input_\n",
        " \n",
        "\n",
        "# by default type is string, so we need to convert type first into int\n",
        "input_ = int(input(\"Enter a Number:\"))\n",
        "\n",
        "if input_%2==0: # if input_ modulo 2 compared to 0 id true \n",
        "    print(\"Even\")\n",
        "else:\n",
        "    print(\"Odd\")"
      ]
    },
    {
      "cell_type": "markdown",
      "metadata": {
        "id": "Wm_-Ao43rP4W"
      },
      "source": [
        "**`Take input from user in variable x and print \"`Grade A`\" if y is greater than 90, \"`Grade B`\" if y is greater than 60 but less than or equal to 90 and \"`Grade F`\" Otherwise`**"
      ]
    },
    {
      "cell_type": "code",
      "execution_count": null,
      "metadata": {
        "id": "iY9UVHpOrP4W"
      },
      "outputs": [],
      "source": [
        "# take input from user by using input function\n",
        "x = input('Enter marks:')\n",
        "\n",
        "# by default type is string, so we need to convert type first\n",
        "x = int(x) \n",
        "\n",
        "if x>90 : # if x is greater then 90\n",
        "    print(\"Grade A\")\n",
        "\n",
        "elif x>60 : # elif x is greater then 60\n",
        "    print(\"Grade B\")\n",
        "\n",
        "else:\n",
        "    print(\"Grade F\")"
      ]
    },
    {
      "cell_type": "markdown",
      "metadata": {
        "id": "Ifzx69_srP4W"
      },
      "source": [
        "\n",
        "<a id='8'></a><center> <h3 style=\"background-color:orange; color:white\" ><br>Loops<br></h3>"
      ]
    },
    {
      "cell_type": "code",
      "execution_count": null,
      "metadata": {
        "id": "Jeln_5cCrP4W"
      },
      "outputs": [],
      "source": [
        "\"\"\"\n",
        "for iterating_variable in sequence:\n",
        "    statement(s)\n",
        "\"\"\""
      ]
    },
    {
      "cell_type": "markdown",
      "metadata": {
        "id": "zKF8RVOJrP4W"
      },
      "source": [
        "|Loop Type|Description|\n",
        "|----|-----|\n",
        "|`for in` loop | repeats a statement or group of statements finite number of time |\n",
        "|`while` loop | tests condition before executing loop body, repeats a statement or group of statements while a given condition is true |\n",
        "|`nested` loop  | loop inside a loop |"
      ]
    },
    {
      "cell_type": "markdown",
      "metadata": {
        "id": "7Mo7XNVNrP4W"
      },
      "source": [
        "# **When to use `while` or `for` loops??** <br>\n",
        "Say your Girlfriend or Boyfriend is mad at you and they asked you to say sorry, but there are two more condition here given by them:\n",
        "* say sorry 1000 times, now you know end point i.e. 1000 => `use for loop`\n",
        "* say sorry untill I say I love you, now you dont know end point, maybe she/he will never say I love you. => `use while loop` it will stop saying sorry untill condition is not met\n",
        "\n",
        "1. `We use for loop when we want to run a block of code certain number of times`\n",
        "2. `Code in while clause will be executed as long as while statement’s condition is True`"
      ]
    },
    {
      "cell_type": "markdown",
      "metadata": {
        "id": "LQwybYuNrP4X"
      },
      "source": [
        "# `Why we need Loops?` <br>\n",
        "Say your Girfriend/Boyfriend is Mad at you and she want you to write sorry 1000 times. What to do now????? Write a `for loop`"
      ]
    },
    {
      "cell_type": "markdown",
      "metadata": {
        "id": "yGTJuxZarP4X"
      },
      "source": [
        "|Pseudo Code for above will be\n",
        "|----|\n",
        "print 'Sorry My love' (repeat 1000 times)"
      ]
    },
    {
      "cell_type": "code",
      "execution_count": null,
      "metadata": {
        "id": "UsOavUkNrP4X"
      },
      "outputs": [],
      "source": [
        "\"\"\"\n",
        "for iterating_variable in sequence:\n",
        "    statement(s)\n",
        "\"\"\""
      ]
    },
    {
      "cell_type": "code",
      "execution_count": null,
      "metadata": {
        "id": "v3DtstO3rP4X"
      },
      "outputs": [],
      "source": [
        "for iterating_variable in range(10):\n",
        "    print(iterating_variable)"
      ]
    },
    {
      "cell_type": "code",
      "execution_count": null,
      "metadata": {
        "id": "nD9f1mMwrP4X"
      },
      "outputs": [],
      "source": [
        "# print '🔥 Sorry My Love🔥' 10 times using for loop\n",
        "\n",
        "# for now i am giving range of 10 you can give any number you want\n",
        "for baby in range(10):\n",
        "    print(\"🔥 Sorry My Love🔥\")\n",
        "    "
      ]
    },
    {
      "cell_type": "markdown",
      "metadata": {
        "id": "F10cQq2RrP4X"
      },
      "source": [
        "`10` => `stoping criteria` of, for loop"
      ]
    },
    {
      "cell_type": "code",
      "execution_count": null,
      "metadata": {
        "id": "uCzvC6tnrP4X"
      },
      "outputs": [],
      "source": [
        "# Syntax of for loop\n",
        "\"\"\"\n",
        "for iterating_variable in sequence:\n",
        "    statements(s)\n",
        "\"\"\""
      ]
    },
    {
      "cell_type": "markdown",
      "metadata": {
        "id": "sYmBZqXkrP4X"
      },
      "source": [
        "* `in` => keyword\n",
        "* `sequence` => on which to itterate\n",
        "* `:` => colon , start of for loop"
      ]
    },
    {
      "cell_type": "markdown",
      "metadata": {
        "id": "kKybOmM2rP4X"
      },
      "source": [
        "|Pseudo Code `while` loop|\n",
        "|---|\n",
        "while reply != 'I love you':\n",
        "....keep repeating until\n",
        "....caparison gives False "
      ]
    },
    {
      "cell_type": "markdown",
      "metadata": {
        "id": "nR0WJpXwrP4X"
      },
      "source": [
        "`!=` = not equall to => `behaves as a stoping criteria`"
      ]
    },
    {
      "cell_type": "code",
      "execution_count": null,
      "metadata": {
        "id": "vYJsdLnerP4Y"
      },
      "outputs": [],
      "source": [
        "# Syntax of while loop\n",
        "\"\"\"\n",
        "while comparison:\n",
        "    statements(s)\n",
        "\"\"\""
      ]
    },
    {
      "cell_type": "code",
      "execution_count": null,
      "metadata": {
        "id": "No1lV66XrP4Y"
      },
      "outputs": [],
      "source": [
        "# while loop\n",
        "\n",
        "# save 0 in variable number\n",
        "number = 0\n",
        "while number < 7:\n",
        "  print(number)\n",
        "  number +=1\n",
        "# print bellow result using while loop\n"
      ]
    },
    {
      "cell_type": "markdown",
      "metadata": {
        "id": "9oFT7qEjrP4Y"
      },
      "source": [
        "* Initialized variable `number = 0` and then increment it's value in each iteration\n",
        "* Loop will only continue to run only if value is less than 7"
      ]
    },
    {
      "cell_type": "markdown",
      "metadata": {
        "id": "8510bIUSrP4Y"
      },
      "source": [
        "# 3. **`Nested loop`**"
      ]
    },
    {
      "cell_type": "code",
      "execution_count": null,
      "metadata": {
        "id": "SaYaNtm_rP4Y"
      },
      "outputs": [],
      "source": [
        "# run it see the output\n",
        "for outer_loop_number in range(1,3):\n",
        "    print(outer_loop_number)"
      ]
    },
    {
      "cell_type": "code",
      "execution_count": null,
      "metadata": {
        "id": "8E_8V-_3rP4Y"
      },
      "outputs": [],
      "source": [
        "# run it see the output\n",
        "for inner_loop_character in \"CloudyML\":\n",
        "    print(inner_loop_character)"
      ]
    },
    {
      "cell_type": "code",
      "execution_count": null,
      "metadata": {
        "id": "VYeJ7UT3rP4Y"
      },
      "outputs": [],
      "source": [
        "# print this patern using outer and inner loop \n",
        "for i in range(1,3):\n",
        "  for j in \"CloudyML\":\n",
        "    print(i,j)\n",
        "  "
      ]
    },
    {
      "cell_type": "markdown",
      "metadata": {
        "id": "VDXKoxndrP4Y"
      },
      "source": [
        "`See For each step in outer loop, inner loop exectues completely`"
      ]
    },
    {
      "cell_type": "code",
      "execution_count": null,
      "metadata": {
        "id": "wY98D_7BrP4Y"
      },
      "outputs": [],
      "source": [
        "# think what will be the output of this code and then run it\n",
        "# comment why this out is the way it is \n",
        "\n",
        "for letter in 'cloudyml':\n",
        "    if (letter == 'c') or (letter == 'o'):\n",
        "        print('m', end= ' ')\n",
        "    else:\n",
        "        print(letter,end= 'x')"
      ]
    },
    {
      "cell_type": "markdown",
      "metadata": {
        "id": "AiELZ4y9jaYG"
      },
      "source": [
        "Your Comment: => ---10, 9 excecuted, coming to if num=8, if condition fails and loop terminated."
      ]
    },
    {
      "cell_type": "code",
      "execution_count": null,
      "metadata": {
        "id": "n8YN-ajLrP4Z"
      },
      "outputs": [],
      "source": [
        "# think what will be the output of this code and then run it\n",
        "# comment why this out is the way it is \n",
        "\n",
        "num = 10\n",
        "\n",
        "while num > 5:\n",
        "    print(num,end= ' ')\n",
        "    \n",
        "    num = num - 1\n",
        "    if num == 8:\n",
        "        num = 2"
      ]
    },
    {
      "cell_type": "markdown",
      "metadata": {
        "id": "tpJnrvlnjwHf"
      },
      "source": [
        "Your Comment: => -------"
      ]
    },
    {
      "cell_type": "markdown",
      "metadata": {
        "id": "CsIxN6mUrP4Z"
      },
      "source": [
        "<a id='9'></a><center> <h3 style=\"background-color:orange; color:white\" ><br>Jump Statements<br></h3>"
      ]
    },
    {
      "cell_type": "markdown",
      "metadata": {
        "id": "ZFHHxSeqrP4Z"
      },
      "source": [
        "# **`Type of Jump Statements`** <br>\n",
        "1. `Break Statement`\n",
        "2. `Continue Statement`\n",
        "3. `Pass Statement`"
      ]
    },
    {
      "cell_type": "markdown",
      "metadata": {
        "id": "Mai0WKJ7rP4Z"
      },
      "source": [
        "Using for loops and while loops in Python allow you to automate and repeat tasks in an efficient manner.\n",
        "\n",
        "* But sometimes, an external factor may influence the way your program runs. When this occurs, you may want your program to `exit a loop completely`, `skip part of a loop before continuing`, or `ignore that external factor` \n",
        "\n",
        "`You can do these actions with **Break** and **Continue** Statements`"
      ]
    },
    {
      "cell_type": "code",
      "execution_count": null,
      "metadata": {
        "id": "0bu4vLAJrP4Z"
      },
      "outputs": [],
      "source": [
        "'''\n",
        "pass\n",
        "\n",
        "break\n",
        "\n",
        "continue\n",
        "'''"
      ]
    },
    {
      "cell_type": "markdown",
      "metadata": {
        "id": "2TlMjfJVrP4a"
      },
      "source": [
        "# 1. **`Break Statement`**\n"
      ]
    },
    {
      "cell_type": "code",
      "execution_count": null,
      "metadata": {
        "id": "MYsORtlrrP4a"
      },
      "outputs": [],
      "source": [
        "# observe the output\n",
        "for num in range(10):\n",
        "    print(num)"
      ]
    },
    {
      "cell_type": "code",
      "execution_count": null,
      "metadata": {
        "id": "9E-BFzqUrP4a"
      },
      "outputs": [],
      "source": [
        "# example that uses break statement in a for loop\n",
        "\n",
        "num = 0\n",
        "for num in range(10):\n",
        "    if num == 5:\n",
        "         break#break when num == 5\n",
        "    print('The number is' + str(num))\n",
        "\n",
        "print('Out of loop')\n",
        "\n",
        "\n",
        "# Explain Why the output is the way it is "
      ]
    },
    {
      "cell_type": "markdown",
      "metadata": {
        "id": "-OvOEgwGkGh1"
      },
      "source": [
        "Your Comment: => ---Inside for , if condition is true, then break the loop."
      ]
    },
    {
      "cell_type": "markdown",
      "metadata": {
        "id": "oPN-KW8ErP4a"
      },
      "source": [
        "# 2. **`Continue Statement`**\n"
      ]
    },
    {
      "cell_type": "code",
      "execution_count": null,
      "metadata": {
        "id": "I7RGHGcDrP4a"
      },
      "outputs": [],
      "source": [
        "# Using same `for loop program` as in Break Statement section above, we’ll use a continue statement rather than a break statement\n",
        "num = 0\n",
        "\n",
        "for num in range(10):\n",
        "    if num == 5:\n",
        "        continue #keep running if num == 5\n",
        "    print('The number is' + str(num))\n",
        "\n",
        "print('Out of loop')\n",
        "\n",
        "\n",
        "# Explain Why the output is the way it is "
      ]
    },
    {
      "cell_type": "markdown",
      "metadata": {
        "id": "FqKoSmjUkfSc"
      },
      "source": [
        "Your Comment: => ---Inside for loop, if condition is true, just loop skips that perticular iterate, and loop continue again."
      ]
    },
    {
      "cell_type": "code",
      "execution_count": null,
      "metadata": {
        "id": "QOW1z0udrP4b"
      },
      "outputs": [],
      "source": [
        "# Using same code block as above, let’s replace break or continue statement with a pass statement\n",
        "num = 0\n",
        "\n",
        "for num in range(10):\n",
        "    if num == 5:\n",
        "        pass    # pass then\n",
        "    print('Number is ' + str(num))\n",
        "print('Out of loop')\n",
        "\n",
        "\n",
        "# Explain Why the output is the way it is"
      ]
    },
    {
      "cell_type": "markdown",
      "metadata": {
        "id": "tAreE2KtrP4b"
      },
      "source": [
        "Your Comment: => --- Nothing happen when pass , executed. Its main purpose is to act as a placeholder where the interpreter expects a statement.\n"
      ]
    },
    {
      "cell_type": "markdown",
      "metadata": {
        "id": "z7Mr7CDerP4b"
      },
      "source": [
        "<a id='10'></a><center> <h3 style=\"background-color:orange; color:white\" ><br>Assignment Loops and Jump Statements<br></h3>\n"
      ]
    },
    {
      "cell_type": "markdown",
      "metadata": {
        "id": "0nJZ8yTqrP4b"
      },
      "source": [
        "# 💬 ***Problem Statement-1:***\n",
        "\n",
        "* User will enter password which is set to be `qwert`\n",
        "* If password matches, print ***`Welcome to CloudyML Course!!`*** else print ***`Wrong Password!!`*** and user will re-enter password\n",
        "* In `fourth` trial, it will print ***`One Last Trial left!!!`***\n",
        "\n",
        "Hint: `Break Statement` can be used"
      ]
    },
    {
      "cell_type": "code",
      "execution_count": null,
      "metadata": {
        "id": "3TfEntL3rP4b"
      },
      "outputs": [],
      "source": [
        "password = \"qwert\"\n",
        "\n",
        "for trail in range(1,5):\n",
        "  if trail == 4:\n",
        "    print(\"One Last Trial left!!!\")\n",
        "  pass_word = input(\"Enter your Password:\")\n",
        "  if pass_word == password:\n",
        "    print(\"Welcome to CloudyML Course!! \")\n",
        "    break\n",
        "  else:\n",
        "    print('Wrong Password!!')\n",
        "\n"
      ]
    },
    {
      "cell_type": "markdown",
      "metadata": {
        "id": "D7sqvuiNrP4b"
      },
      "source": [
        "....."
      ]
    },
    {
      "cell_type": "markdown",
      "metadata": {
        "id": "hNE2e0YBrP4b"
      },
      "source": [
        "# 💬 ***Problem Statement-2:***\n",
        "\n",
        "* Enter password which is an OTP set to be `1008`\n",
        "* If OTP matches, It will ask user to provide details like ***`Enter Your Name:`*** and ***`Enter Your City:`*** and user will re-enter OTP\n",
        "* In `fourth` trial, it will print ***`One Last Trial left!!!`***\n",
        "\n",
        "`Hint:` Continue Statement can be used"
      ]
    },
    {
      "cell_type": "code",
      "execution_count": null,
      "metadata": {
        "id": "PI9ZTGG6rP4b"
      },
      "outputs": [],
      "source": [
        "OTP = \"1008\"\n",
        "for trail in range(1,5):\n",
        "  if trail == 3:\n",
        "    print(trail)\n",
        "    print(\"One Last Trial left!!!\")\n",
        "  otpbyuser = input(\"Enter OTP:\")\n",
        "  if otpbyuser != OTP:\n",
        "    tpbyuser1 = input(\"Re-Enter OTP:\")\n",
        "    continue\n",
        "  else:\n",
        "    name = input(\"Enter your name:\")\n",
        "    city = input(\"Enter your city:\")\n",
        "    break\n",
        "  "
      ]
    },
    {
      "cell_type": "code",
      "execution_count": null,
      "metadata": {
        "id": "xEirIb65jPGS"
      },
      "outputs": [],
      "source": [
        "ds\n"
      ]
    },
    {
      "cell_type": "markdown",
      "metadata": {
        "id": "mepQLZjcrP4b"
      },
      "source": [
        "<a id='11'></a><center> <h3 style=\"background-color:orange; color:white\" ><br>Python Data Structures<br></h3>\n",
        "\n"
      ]
    },
    {
      "cell_type": "markdown",
      "metadata": {
        "id": "1A84HNVLrP4c"
      },
      "source": [
        "Existing Data Type: int, float, bool, str\n",
        "\n",
        "Problem with Existing Data Type:\n",
        "* Only single data type can be stored in a variable i.e. either int or decimal or str\n",
        "* To store more data we need more variables\n",
        "    * Eg: You have 100 name and age then you have to make 200 variables, valid for condition if you are not using DataStructure\n",
        "    \n",
        "    \n",
        "`Data Structure Solves` above problem\n",
        "\n",
        "# **`Properties of Data Structure:`**\n",
        "* Efficient Storage for large data\n",
        "* Should allow Manipulation/Operations on data\n",
        "* Should mantain underlying relationship of data\n",
        "If these three properties are available then you can call it a Data Structure\n",
        "\n",
        "\n",
        "# `Types of Data Structures:`\n",
        "* `List` => ordered => elements seprated by comma => enclosed with square brackets-[]\n",
        "* `Tuple`\n",
        "* `Set`\n",
        "* `Dictionary`"
      ]
    },
    {
      "cell_type": "markdown",
      "metadata": {
        "id": "2mYBzcjXrP4c"
      },
      "source": [
        "|Data Structures type|Mutable|Comments|Indexing|Ordered|Duplicacy|\n",
        "|----|----|----|----|----|----|\n",
        "frozenset|immutable|immutable version of set|- |- |- |\n",
        "tuple ()|immutable|immutable version of list| possible|yes |allowed |\n",
        "list []|mutable|-|possible |yes | allowed |\n",
        "set {}|mutable| -|not |no |not |\n",
        "dict {key:value}|mutable|-|possible |no |not  |"
      ]
    },
    {
      "cell_type": "markdown",
      "metadata": {
        "id": "XbJv8WOprP4c"
      },
      "source": [
        "💫 `immutable` => `can't be changed` <br>\n",
        "💫 `mutable` => `can be changed`"
      ]
    },
    {
      "cell_type": "markdown",
      "metadata": {
        "id": "hxNFx7omrP4c"
      },
      "source": [
        "---"
      ]
    },
    {
      "cell_type": "markdown",
      "metadata": {
        "id": "1WlRcrHGrP4c"
      },
      "source": [
        "\n",
        "# **`List`**"
      ]
    },
    {
      "cell_type": "code",
      "execution_count": null,
      "metadata": {
        "id": "7SFfVkH0rP4c"
      },
      "outputs": [],
      "source": [
        "# make a list, name it as names with values ram','ohm','da','ada','asdasd'\n",
        "name = ['ram','ohm','da','ada','asdasd']\n",
        "# make a list, name it as roll_no with values 21,23,435,65,565,656\n",
        "roll_no = [21,23,435,65,565,656]\n",
        "# make a list, name it as scores  with values 23,2323,2323,234324,3423\n",
        "scores = [23,2323,2323,234324,3423]"
      ]
    },
    {
      "cell_type": "code",
      "execution_count": null,
      "metadata": {
        "id": "dyF1sb1jrP4c"
      },
      "outputs": [],
      "source": [
        "# make a list with Single data type - str\n",
        "# name of list names_list with values as 'krishna','mahadev','surya'\n",
        "names_list = str(['krishna','mahadev','surya'])\n",
        "# print type of names_list\n",
        "print(type(names_list))\n",
        "\n"
      ]
    },
    {
      "cell_type": "code",
      "execution_count": null,
      "metadata": {
        "id": "1psLdZcUrP4d"
      },
      "outputs": [],
      "source": [
        "# make a list with Mixed data type - str and int\n",
        "# name of list names_list with values as 'krishna','mahadev','surya',108,11,21\n",
        "names_list = ['krishna','mahadev','surya',108,11,21]\n",
        "# print type of names_list\n",
        "\n",
        "type(names_list)\n",
        "\n"
      ]
    },
    {
      "cell_type": "code",
      "execution_count": null,
      "metadata": {
        "id": "m5_fowfPrP4d"
      },
      "outputs": [],
      "source": [
        "# access output element \n",
        "names_list[1]"
      ]
    },
    {
      "cell_type": "markdown",
      "metadata": {
        "id": "J1ipDEgCrP4d"
      },
      "source": [
        "`List Indexing:`\n",
        "\n",
        "\n",
        "|`Values`|1|2|3|4|5|6|7|8|9|10|\n",
        "|---|---|---|---|---|---|---|---|---|---|---|\n",
        "|`Indexing` |0 |1 |2 |3 |4 |5 |6 |7 |8|9|\n",
        "|`Negative Indexing`| -10 |-9 |-8 |-7 |-6 |-5 |-4 |-3 |-2 |-1|"
      ]
    },
    {
      "cell_type": "code",
      "execution_count": null,
      "metadata": {
        "id": "TStBmS8jrP4d"
      },
      "outputs": [],
      "source": [
        "# extract single element i.e. last one using Negative Index (first element)\n",
        "names_list[-1]"
      ]
    },
    {
      "cell_type": "code",
      "execution_count": null,
      "metadata": {
        "id": "wJIKlcwkrP4d"
      },
      "outputs": [],
      "source": [
        "# extract single element using Index (first element)\n",
        "names_list[-6]"
      ]
    },
    {
      "cell_type": "code",
      "execution_count": null,
      "metadata": {
        "id": "w-9l5PkXrP4d"
      },
      "outputs": [],
      "source": [
        "# extract sequence of elements using Index (first 3 elements)\n",
        "\n",
        "  #=> [start index:end index] => exclude end index\n",
        "names_list[0:3]"
      ]
    },
    {
      "cell_type": "markdown",
      "metadata": {
        "id": "COPpT8hQrP4d"
      },
      "source": [
        "## Membership Operators\n",
        "To check if particular element is present in list or not\n",
        "* Using `in` or `not in` to get answers of these type of queries "
      ]
    },
    {
      "cell_type": "code",
      "execution_count": null,
      "metadata": {
        "id": "Y_8SDN1SrP4d"
      },
      "outputs": [],
      "source": [
        "# see names_list data\n",
        "names_list"
      ]
    },
    {
      "cell_type": "code",
      "execution_count": null,
      "metadata": {
        "id": "zAhq9WqsrP4d"
      },
      "outputs": [],
      "source": [
        "# see if 'mukesh' is in  names_list\n",
        "'mukesh' in names_list"
      ]
    },
    {
      "cell_type": "code",
      "execution_count": null,
      "metadata": {
        "id": "0LjgT08NrP4d"
      },
      "outputs": [],
      "source": [
        "# see if 'rawan' is notin names_list\n",
        "'rawan' not in names_list\n",
        "  \n",
        " "
      ]
    },
    {
      "cell_type": "markdown",
      "metadata": {
        "id": "_jF5-7_PrP4e"
      },
      "source": [
        "## Adding to List\n",
        "* Adding a single element: `append()` => add at the end of the list\n",
        "* Adding multiple elements (adding list in list): `extend()`"
      ]
    },
    {
      "cell_type": "markdown",
      "metadata": {
        "id": "Onk48j8xrP4e"
      },
      "source": [
        "# Use of .append()"
      ]
    },
    {
      "cell_type": "code",
      "execution_count": null,
      "metadata": {
        "id": "ZEo63rVKrP4e"
      },
      "outputs": [],
      "source": [
        "#see again names_list elements"
      ]
    },
    {
      "cell_type": "code",
      "execution_count": null,
      "metadata": {
        "id": "JWztwD_PrP4e"
      },
      "outputs": [],
      "source": [
        "# #see again names_list list elements\n",
        "\n",
        "names_list\n",
        "#appending 'bhagwan' to list names_list\n",
        "#using append()\n",
        "names_list.append('bhagwan')\n",
        "\n",
        "# print list after appending\n",
        "names_list\n",
        "\n",
        "# append 3,'ok' values as a list of list\n",
        " #<= it will append a list inside a list\n",
        "names_list.append([3,'ok'])\n",
        "# print names_list\n",
        "names_list"
      ]
    },
    {
      "cell_type": "markdown",
      "metadata": {
        "id": "L6_5O9xcrP4e"
      },
      "source": [
        "# Use of .extend()"
      ]
    },
    {
      "cell_type": "code",
      "execution_count": null,
      "metadata": {
        "id": "chB2CoWqrP4e"
      },
      "outputs": [],
      "source": [
        "\n",
        "# extend names_list with values 6,'one more'\n",
        "names_list.extend([6,'one more'])\n",
        "# print list after .extend()\n",
        "names_list"
      ]
    },
    {
      "cell_type": "markdown",
      "metadata": {
        "id": "fI6TbJ9IrP4e"
      },
      "source": [
        "## Deleting from list\n",
        "* `.remove()` => delete element by its value\n",
        "* `del` => delete element by index : indexing start from 0"
      ]
    },
    {
      "cell_type": "markdown",
      "metadata": {
        "id": "iwcbBZfrrP4e"
      },
      "source": [
        "# Use of .remove()"
      ]
    },
    {
      "cell_type": "code",
      "execution_count": null,
      "metadata": {
        "id": "xYy-KNKxrP4e"
      },
      "outputs": [],
      "source": [
        "# see names_list\n",
        "names_list"
      ]
    },
    {
      "cell_type": "code",
      "execution_count": null,
      "metadata": {
        "id": "8UfKI7MYrP4e"
      },
      "outputs": [],
      "source": [
        "# remove one more from names_list\n",
        "names_list.remove('ok')\n",
        "# print names_list\n",
        "names_list"
      ]
    },
    {
      "cell_type": "markdown",
      "metadata": {
        "id": "P7mXoDiprP4f"
      },
      "source": [
        "# Use of del"
      ]
    },
    {
      "cell_type": "code",
      "execution_count": null,
      "metadata": {
        "id": "AvQDPc_hrP4f"
      },
      "outputs": [],
      "source": [
        "# see names_list\n",
        "names_list"
      ]
    },
    {
      "cell_type": "code",
      "source": [
        "names_list.pop(7)"
      ],
      "metadata": {
        "id": "7kXUF_QJHStY"
      },
      "execution_count": null,
      "outputs": []
    },
    {
      "cell_type": "code",
      "execution_count": null,
      "metadata": {
        "id": "oOyXUP0HrP4f"
      },
      "outputs": [],
      "source": [
        "# del 7 from names_list\n",
        "names_list\n",
        "# print names_list"
      ]
    },
    {
      "cell_type": "markdown",
      "metadata": {
        "id": "EPu0UxWCrP4f"
      },
      "source": [
        "## Iterate through list"
      ]
    },
    {
      "cell_type": "code",
      "execution_count": null,
      "metadata": {
        "id": "R8Xgr9-BrP4f"
      },
      "outputs": [],
      "source": [
        "# interate through list elements \n",
        "for element in names_list:\n",
        "  print(element)\n",
        "  # print element"
      ]
    },
    {
      "cell_type": "markdown",
      "metadata": {
        "id": "q7tmRtqYrP4f"
      },
      "source": [
        "## Some pre-defined method on List\n"
      ]
    },
    {
      "cell_type": "code",
      "execution_count": null,
      "metadata": {
        "id": "7xHmcCStrP4f"
      },
      "outputs": [],
      "source": [
        "# see names_list\n",
        "names_list"
      ]
    },
    {
      "cell_type": "code",
      "execution_count": null,
      "metadata": {
        "id": "hfmxSI0yrP4f"
      },
      "outputs": [],
      "source": [
        "# find length of list names_list\n",
        "len(names_list)"
      ]
    },
    {
      "cell_type": "code",
      "execution_count": null,
      "metadata": {
        "id": "6u--oITYrP4f"
      },
      "outputs": [],
      "source": [
        "# reverse a list names_list\n",
        "print(names_list.reverse())\n",
        "names_list\n",
        "#print(names_list)"
      ]
    },
    {
      "cell_type": "code",
      "execution_count": null,
      "metadata": {
        "id": "JnGHTVmBrP4f"
      },
      "outputs": [],
      "source": [
        "# sort a list see condition when it is not possible\n",
        "names_list.sort()\n",
        "names_list"
      ]
    },
    {
      "cell_type": "code",
      "execution_count": null,
      "metadata": {
        "id": "pkHLORxmrP4g"
      },
      "outputs": [],
      "source": [
        "# make a list named as numbers_list with values as [51,101,11,21]\n",
        "numbers_list = [51,101,11,21]\n",
        "# sort list numbers_list\n",
        "numbers_list.sort()\n",
        "# see numbers_list output\n",
        "numbers_list"
      ]
    },
    {
      "cell_type": "code",
      "execution_count": null,
      "metadata": {
        "id": "SrfzuBccrP4g"
      },
      "outputs": [],
      "source": [
        "# another way of sorting list\n",
        "sample_list = [51,101,11,21]\n",
        "# use sorted to short list named as sample_list with values as [51,101,11,21]\n",
        "sample_list1=sorted(sample_list)\n",
        "sample_list1"
      ]
    },
    {
      "cell_type": "markdown",
      "metadata": {
        "id": "o8uqyHe6rP4g"
      },
      "source": [
        "# Nested List"
      ]
    },
    {
      "cell_type": "code",
      "execution_count": null,
      "metadata": {
        "id": "1XQjdGSCrP4g"
      },
      "outputs": [],
      "source": [
        "# defining a sample nested list named as list_of_list and values  [111, 201, [11, 21, 121], ['Aman', 'Bobo', 'Canada'], 'Wangu', ['Aanaya', 'Annu', 'Amanda']]\n",
        "list_of_list = [111, 201, [11, 21, 121], ['Aman', 'Bobo', 'Canada'], 'Wangu', ['Aanaya', 'Annu', 'Amanda']]\n",
        "print(list_of_list)"
      ]
    },
    {
      "cell_type": "code",
      "execution_count": null,
      "metadata": {
        "id": "__2KBqwOrP4g"
      },
      "outputs": [],
      "source": [
        "# find length of nested list\n",
        "print(len(list_of_list))"
      ]
    },
    {
      "cell_type": "code",
      "execution_count": null,
      "metadata": {
        "id": "yLnuvuLerP4g"
      },
      "outputs": [],
      "source": [
        "# aces third element of list_of_list\n",
        "print(list_of_list[2])"
      ]
    },
    {
      "cell_type": "code",
      "execution_count": null,
      "metadata": {
        "id": "hind6UyKrP4g"
      },
      "outputs": [],
      "source": [
        "# accessing 2nd element of the third element of the primary list named  as list_of_list\n",
        "list_of_list[2][1]"
      ]
    },
    {
      "cell_type": "markdown",
      "metadata": {
        "id": "YxKiQW5frP4g"
      },
      "source": [
        "<a id='12'></a><center> <h3 style=\"background-color:orange; color:white\" ><br>Assignment Python Data Structures List<br></h3>"
      ]
    },
    {
      "cell_type": "markdown",
      "metadata": {
        "id": "E8-7E8mTrP4h"
      },
      "source": [
        "# 💬 **List Problem Statement:**\n",
        "\n",
        "Say CloudyML conducted an assessment test to hire a Data Scientist <br>\n",
        "Candidates were evaluated on 5 different subject `Statistics`, `Python`, `SQL`, `ML`, and `DeepLearning` <br> \n",
        "`Help CloudyML team to find out answers of following questions` <br>\n",
        "\n",
        "💡 `Find out Who scored highest marks in Python?`\n",
        "* Step1: Select name of student and marks in Python\n",
        "* Step2: Store filtered name and marks in another list\n",
        "* Step3: Sort list. (Kept marks as first index)\n",
        "* Step4: Get final index of sorted list"
      ]
    },
    {
      "cell_type": "code",
      "execution_count": null,
      "metadata": {
        "id": "vwDSOqA7rP4h"
      },
      "outputs": [],
      "source": [
        "#### Marks of 5 different subjects out of 100 are as ####\n",
        "\n",
        "# make student marks nested list\n",
        "student_marks = [['Name', ['Statistics', 'Python', 'SQL', 'ML', 'DeepLearning']],\n",
        " ['Ananya', [41, 34, 45, 55, 63]],\n",
        " ['Akash', [42, 23, 34, 44, 53]],\n",
        " ['Rahul', [32, 23, 13, 54, 67]],\n",
        " ['Mukesh', [23, 82, 23, 63, 34]],\n",
        " ['Pranav', [21, 23, 25, 56, 56]]]"
      ]
    },
    {
      "cell_type": "code",
      "execution_count": null,
      "metadata": {
        "id": "Q7ZkPsYtrP4h"
      },
      "outputs": [],
      "source": [
        "# print student_marks\n",
        "student_marks"
      ]
    },
    {
      "cell_type": "code",
      "execution_count": null,
      "metadata": {
        "id": "VT7znIVKrP4h"
      },
      "outputs": [],
      "source": [
        "# access first index of list student_marks\n",
        "student_marks[0]"
      ]
    },
    {
      "cell_type": "markdown",
      "metadata": {
        "id": "3u3-dfkVrP4h"
      },
      "source": [
        "* Slice list from second element"
      ]
    },
    {
      "cell_type": "code",
      "execution_count": null,
      "metadata": {
        "id": "LPRZOoR6rP4h"
      },
      "outputs": [],
      "source": [
        "# access first index of list student_marks[1]\n",
        "student_marks[1]"
      ]
    },
    {
      "cell_type": "markdown",
      "metadata": {
        "id": "PitdZQvErP4h"
      },
      "source": [
        "See, each element in list from Index-1 contains 2 elements\n",
        "* first is `Name` \n",
        "* second is `list of marks`"
      ]
    },
    {
      "cell_type": "code",
      "execution_count": null,
      "metadata": {
        "id": "NoA0T3VRrP4h"
      },
      "outputs": [],
      "source": [
        "# acess first student name\n",
        "student_marks[1][0]"
      ]
    },
    {
      "cell_type": "code",
      "execution_count": null,
      "metadata": {
        "id": "WII68GgKrP4h"
      },
      "outputs": [],
      "source": [
        "# acess ananya marks\n",
        "student_marks[1][1]"
      ]
    },
    {
      "cell_type": "markdown",
      "metadata": {
        "id": "vDPny7O1rP4h"
      },
      "source": [
        "Now, student marks are in order **`Statistics`**, **`Python`**, **`SQL`**, **`ML`** and **`DeepLearning`**. and we need to access value at Index-1 to get marks in subject => **`Python`** "
      ]
    },
    {
      "cell_type": "code",
      "execution_count": null,
      "metadata": {
        "id": "5H7QGuDxrP4i"
      },
      "outputs": [],
      "source": [
        "# observe the output commend why this is the way it is\n",
        "student_marks[1][1][1]"
      ]
    },
    {
      "cell_type": "markdown",
      "metadata": {
        "id": "7rsQ1IkmrP4i"
      },
      "source": [
        "See above `Ananya` Python marks"
      ]
    },
    {
      "cell_type": "markdown",
      "metadata": {
        "id": "TTBeJoDarP4i"
      },
      "source": [
        "***Now Solving Problem step after step***\n",
        "* `Who scored highest marks in subject Python? `  \n",
        "\n",
        "\n",
        "***Step1: Select name of student and marks in subject Python***"
      ]
    },
    {
      "cell_type": "code",
      "execution_count": null,
      "metadata": {
        "id": "gs5ozIK6rP4i"
      },
      "outputs": [],
      "source": [
        "for student in student_marks[1:]:\n",
        "  name = student[0]\n",
        "  marks_in_python = student[1][1]\n",
        "  print(name, marks_in_python)"
      ]
    },
    {
      "cell_type": "markdown",
      "metadata": {
        "id": "bVk9RoafrP4i"
      },
      "source": [
        "***Step2: Store filtered Name and Marks in another list***"
      ]
    },
    {
      "cell_type": "code",
      "execution_count": null,
      "metadata": {
        "id": "syCySARFrP4i"
      },
      "outputs": [],
      "source": [
        "marks_list = []\n",
        "for student in student_marks[1:]:\n",
        "  name = student[0]\n",
        "  marks_in_python = student[1][1]\n",
        "  marks_list.append([marks_in_python,name])\n",
        "print(marks_list)"
      ]
    },
    {
      "cell_type": "markdown",
      "metadata": {
        "id": "EK2lofCarP4i"
      },
      "source": [
        "***Step3: Sort list (Keep marks as first index)***"
      ]
    },
    {
      "cell_type": "code",
      "execution_count": null,
      "metadata": {
        "id": "76Ld6yVxrP4i"
      },
      "outputs": [],
      "source": [
        "marks_list.sort()\n",
        "print(marks_list)"
      ]
    },
    {
      "cell_type": "markdown",
      "metadata": {
        "id": "W8QJHOwarP4i"
      },
      "source": [
        "***Step4: Get final index of sorted list with student name having max marks in Python subject***"
      ]
    },
    {
      "cell_type": "code",
      "execution_count": null,
      "metadata": {
        "id": "Zha0IrK5rP4i"
      },
      "outputs": [],
      "source": [
        "marks_list[-1][1]"
      ]
    },
    {
      "cell_type": "markdown",
      "metadata": {
        "id": "_zTy7qCPrP4i"
      },
      "source": [
        "Got answer of first question. Mukesh has scored highest marks in subject Python\n",
        "* You can also do it using loop do it if you want to"
      ]
    },
    {
      "cell_type": "markdown",
      "metadata": {
        "id": "qOrSdhg0rP4j"
      },
      "source": [
        "-----"
      ]
    },
    {
      "cell_type": "markdown",
      "metadata": {
        "id": "OemzDS2WrP4j"
      },
      "source": [
        "# **`Tuple`** <br>\n",
        "\n",
        "Benefit of using tuples:<br>\n",
        "* Faster then list\n",
        "* Provide security over updation => once created cannot be modefyied like list\n",
        "* Can be used as key for dictionarie\n",
        "* We generally use tuple for heterogeneous(different) datatypes and list for homogeneous (similar) datatypes\n",
        "* Since tuples are immutable, iterating through tuple is faster than with list. So there is a slight performance boost\n",
        "* Tuples that contain immutable elements can be used as a key for a dictionary. With lists, this is not possible\n",
        "* If you have data that doesn't change, implementing it as tuple will guarantee that it remains write-protected\n",
        "* We cannot edit/update or delete elements from the tuple"
      ]
    },
    {
      "cell_type": "markdown",
      "metadata": {
        "id": "4unafjdndJTu"
      },
      "source": [
        "### **`Watch Video 11: Tuples in Python , Tuple Methods `**"
      ]
    },
    {
      "cell_type": "code",
      "execution_count": null,
      "metadata": {
        "id": "Xpd2kVRirP4j"
      },
      "outputs": [],
      "source": [
        "# make a variable names as data_tuple with values 'krishna', 'mahadev', 'surya', 108, 11, 21, 'bhagwan', 6\n",
        "data_tuple = ('krishna', 'mahadev', 'surya', 108, 11, 21, 'bhagwan', 6)\n",
        "# print data_tuple\n",
        "print(data_tuple)\n",
        "# print type of data_tuple\n",
        "print(type(data_tuple))"
      ]
    },
    {
      "cell_type": "code",
      "execution_count": null,
      "metadata": {
        "id": "qFKzjV8DrP4j"
      },
      "outputs": [],
      "source": [
        "# make a variable named as data_tuple with values as 1,2,3,4,5\n",
        "data_tuple=(1,2,3,4,5)\n",
        "# Acess element at 2nd Index of data_tuple  #<= indexing work same as list as tuple is ordered data structure\n",
        "data_tuple[2]"
      ]
    },
    {
      "cell_type": "code",
      "execution_count": null,
      "metadata": {
        "id": "jdK6gHwprP4j"
      },
      "outputs": [],
      "source": [
        "# think what will be the output of this code then run it\n",
        "data_tuple = ( (1,2,3,4,5),\n",
        "             (4,5,3,4,5),\n",
        "             (3,7,8,9,6) )\n",
        "\n",
        "data_tuple[2][2:4]\n",
        "\n",
        "#in tuple we access 2nd tuple, again access elements from 2 to 4 in thar second tuple\n",
        "\n",
        "# Views on why the output is the way it is"
      ]
    },
    {
      "cell_type": "code",
      "execution_count": null,
      "metadata": {
        "id": "AClKJufdrP4j"
      },
      "outputs": [],
      "source": [
        "# find Index of any element, here index of 3 \n",
        "data_tuple = (1,2,3,4,5)\n",
        "   # <= 3 is at 2nd index as indexing start at one\n",
        "data_tuple.index(3)"
      ]
    },
    {
      "cell_type": "code",
      "execution_count": null,
      "metadata": {
        "id": "xCtcvhjIrP4j"
      },
      "outputs": [],
      "source": [
        "# count of an element \n",
        "data_tuple = (1,2,3,4,5)\n",
        "# print how many time 4 have come \n",
        "print(data_tuple.count(4))\n",
        "\n",
        "data_tuple = (7,2,7,4,7)\n",
        "# print how many time 7 have come \n",
        "print(data_tuple.count(7))"
      ]
    },
    {
      "cell_type": "code",
      "execution_count": null,
      "metadata": {
        "id": "4xAMDPSnrP4j"
      },
      "outputs": [],
      "source": [
        "# iterate through elements of tuple similar to list using for \n",
        "data_tuple = (7,2,7,4,7)\n",
        "for value in data_tuple:\n",
        "  print(value)"
      ]
    },
    {
      "cell_type": "code",
      "execution_count": null,
      "metadata": {
        "id": "90Fc9IK3rP4k"
      },
      "outputs": [],
      "source": [
        "# slicing in tuple\n",
        "data_tuple = (5,2,7,4,6)\n",
        "\n",
        "# slice and print first 2 element\n",
        "#<= exclude 2nd Index\n",
        "print(data_tuple[:2])\n",
        "# defining start pont as 2 and end poin as 4 to slice\n",
        "print(data_tuple[2:4])\n",
        "\n",
        "\n",
        "# by using count method on slice see how many time 2 comes\n",
        "#<= count of 2 if present\n",
        "print(data_tuple[0:].count(2))\n",
        "\n",
        "\n",
        "# index method on slice\n",
        "print(   data_tuple[1:4].index(2)   ) #<= index of 2"
      ]
    },
    {
      "cell_type": "code",
      "execution_count": null,
      "metadata": {
        "id": "SYHssmIhrP4k"
      },
      "outputs": [],
      "source": [
        "# Tuple immutable (cant update or delete elements from tuples)\n",
        "## this is one of the reasons it is fast in comparison to list\n",
        "data_tuple[2] = 1 #<= update at index-2 with 1, it will give error"
      ]
    },
    {
      "cell_type": "code",
      "execution_count": null,
      "metadata": {
        "id": "Z2biiRsirP4k"
      },
      "outputs": [],
      "source": [
        "data_tuple"
      ]
    },
    {
      "cell_type": "code",
      "execution_count": null,
      "metadata": {
        "id": "KGFbjOiWrP4k"
      },
      "outputs": [],
      "source": [
        "del data_tuple[0] #<= del at index-0, again error\n"
      ]
    },
    {
      "cell_type": "markdown",
      "metadata": {
        "id": "Mx7xKlWErP4k"
      },
      "source": [
        "<a id='13'></a><center> <h3 style=\"background-color:orange; color:white\" ><br>Assignment Python Data Structures List&Set<br></h3>"
      ]
    },
    {
      "cell_type": "markdown",
      "metadata": {
        "id": "WvTU5e5QrP4k"
      },
      "source": [
        "# 💬 **List Problem Statement:**\n",
        "\n",
        "Say CloudyML conducted an assessment test to hire a Data Scientist <br>\n",
        "Candidates were evaluated on 5 different subject `Statistics`, `Python`, `SQL`, `ML`, and `DeepLearning` <br> \n",
        "`Help CloudyML team to find out answers of following questions` <br>\n",
        "\n",
        "💡 `Find out Who scored highest marks in Python?` <br>\n",
        "💡 `Find out average marks scored in subject SQL?` <br>\n",
        "💡 `Find out scored highest percentage of marks?` <br>\n",
        "💡 `If considered only top-4 subjects of a candidate, then who scored highest percentage of marks?` <br>\n"
      ]
    },
    {
      "cell_type": "code",
      "execution_count": null,
      "metadata": {
        "colab": {
          "base_uri": "https://localhost:8080/"
        },
        "id": "Dz8vLyD8rP4k",
        "outputId": "ea69216d-693d-4dc4-a7a5-ad1274c206a3"
      },
      "outputs": [
        {
          "output_type": "stream",
          "name": "stdout",
          "text": [
            "[[34, 'Ananya'], [23, 'Akash'], [23, 'Rahul'], [82, 'Gyan'], [23, 'Pranav']]\n",
            "[82, 'Gyan']\n"
          ]
        }
      ],
      "source": [
        "### Find out Who scored highest marks in Python? ###\n",
        "# student marks nested list\n",
        "student_marks = [['Name',['Statistics','Python','SQL','ML','DeepLearning']],\n",
        "                 ['Ananya',[41, 34, 45, 55, 63]],\n",
        "                 ['Akash',[42, 23, 34, 44, 53]],\n",
        "                 ['Rahul',[32, 23, 13, 54, 67]],\n",
        "                 ['Gyan',[23, 82, 23, 63, 34]],\n",
        "                 ['Pranav',[21, 23, 25, 56, 56]] ]\n",
        "\n",
        "# Find out Who scored highest marks in Python? using for loop, soorted and slicing\n",
        "new_student1 = []\n",
        "for student1 in student_marks[1:]:\n",
        "  student_name = student1[0]\n",
        "  student_mark = student1[1][1]\n",
        "  #print(student_mark,student_name)\n",
        "  new_student1.append([student_mark,student_name])\n",
        "print(new_student1)\n",
        "#print(new_student1.sort())\n",
        "print(max(new_student1))\n"
      ]
    },
    {
      "cell_type": "code",
      "source": [
        "student_marks"
      ],
      "metadata": {
        "colab": {
          "base_uri": "https://localhost:8080/"
        },
        "id": "mGBoY35kGBsT",
        "outputId": "352991f0-d7af-4564-b4ad-7ce5d1803297"
      },
      "execution_count": null,
      "outputs": [
        {
          "output_type": "execute_result",
          "data": {
            "text/plain": [
              "[['Name', ['Statistics', 'Python', 'SQL', 'ML', 'DeepLearning']],\n",
              " ['Ananya', [41, 34, 45, 55, 63]],\n",
              " ['Akash', [42, 23, 34, 44, 53]],\n",
              " ['Rahul', [32, 23, 13, 54, 67]],\n",
              " ['Gyan', [23, 82, 23, 63, 34]],\n",
              " ['Pranav', [21, 23, 25, 56, 56]]]"
            ]
          },
          "metadata": {},
          "execution_count": 18
        }
      ]
    },
    {
      "cell_type": "code",
      "execution_count": null,
      "metadata": {
        "colab": {
          "base_uri": "https://localhost:8080/"
        },
        "id": "4RNm9UT0rP4k",
        "outputId": "bb96fb92-4518-43ea-c065-8ed413af38b6"
      },
      "outputs": [
        {
          "output_type": "stream",
          "name": "stdout",
          "text": [
            "SQL marks are:[45, 34, 13, 23, 25]\n",
            "Total_element_in_SQL: 5\n",
            "avg_of_SQL_marks: 28.0\n"
          ]
        }
      ],
      "source": [
        "### Find out average marks scored in subject SQL? ###\n",
        "SQL_data = []\n",
        "\n",
        "# Extracted col= name with SQL_data=marks\n",
        "# Extracted only SQL_data=marks\n",
        "for students in student_marks[1:]:\n",
        "  sql_students = students[1][2]\n",
        "  #print(sql_students)\n",
        "  SQL_data.append(sql_students)\n",
        "print(f\"SQL marks are:{SQL_data}\")\n",
        "total_element_in_SQL = len((SQL_data))\n",
        "print(f'Total_element_in_SQL: {total_element_in_SQL}')\n",
        "# mathematical operation\n",
        "avg_of_SQL_marks = sum(SQL_data)/total_element_in_SQL\n",
        "\n",
        "print('avg_of_SQL_marks:',avg_of_SQL_marks)"
      ]
    },
    {
      "cell_type": "code",
      "execution_count": null,
      "metadata": {
        "id": "wz8BshX9rP4k",
        "colab": {
          "base_uri": "https://localhost:8080/",
          "height": 330
        },
        "outputId": "688ad9ba-f989-4c2c-c58c-34e7eedeaed7"
      },
      "outputs": [
        {
          "output_type": "stream",
          "name": "stdout",
          "text": [
            "Max marks for each subject:100\n",
            "Total number of subjects:5\n",
            "name: Ananya\n",
            "marks: [41, 34, 45, 55, 63]\n",
            "name: Akash\n",
            "marks: [42, 23, 34, 44, 53]\n",
            "name: Rahul\n",
            "marks: [32, 23, 13, 54, 67]\n",
            "name: Gyan\n",
            "marks: [23, 82, 23, 63, 34]\n",
            "name: Pranav\n",
            "marks: [21, 23, 25, 56, 56]\n",
            "[[181, 'Pranav'], [189, 'Rahul'], [196, 'Akash'], [225, 'Gyan'], [238, 'Ananya']]\n",
            "topper_percentage is : 48 % topper_name is :  Ananya\n"
          ]
        },
        {
          "output_type": "execute_result",
          "data": {
            "text/plain": [
              "\"'\\nfor st11 in student_marks[1:]:\\n  #print(st11)\\n  st11_name = st11[0]\\n  st11_marks = sum(st11[1])\\n  #add = sum(st11_marks)\\n  #print(add)\\n  total_marks.append([st11_marks,st11_name])\\n  #total_marks = total_marks.append(sum(st11_marks))\\nprint(total_marks)\\n#a = total_marks.sort()\\nprint(sorted(total_marks))\\nfor percentage1 in total_marks:\\n  marks_obtained = percentage1[0]\\n  name = \\n  print(marks_obtained,st11_name)\\n  percent = marks_obtained/350*100\\n  percentages.append(percent)\\nprint(percentages)\\nprint(max(percentages))\\n\""
            ],
            "application/vnd.google.colaboratory.intrinsic+json": {
              "type": "string"
            }
          },
          "metadata": {},
          "execution_count": 20
        }
      ],
      "source": [
        "### Find out scored highest percentage of marks? ###\n",
        "total_marks = []\n",
        "max_marks = int(input(\"Max marks for each subject:\"))\n",
        "count = int(input(\"Total number of subjects:\"))\n",
        "#percentages = []\n",
        "for st1 in student_marks[1:]:\n",
        "  st1_name = st1[0]\n",
        "  print(f\"name: {st1_name}\")\n",
        "  st1_marks = st1[1]\n",
        "  print(f\"marks: {st1_marks}\")\n",
        "  #print(st1_marks,st1_name)\n",
        "  total_marks.append([sum(st1_marks),st1_name])\n",
        "total_marks_sorted = sorted(total_marks)\n",
        "print(total_marks_sorted)\n",
        "\n",
        "topper_percentage = []\n",
        "\n",
        "for st2 in total_marks_sorted:\n",
        "  sorted_marks = st2[0]\n",
        "  sorted_names = st2[1]\n",
        "  topper_percentage.append([sorted_names, round(sorted_marks/ (count * max_marks)*100)])\n",
        "print(\"topper_percentage is :\",topper_percentage[-1][1],'%',\"topper_name is : \",topper_percentage[-1][0])\n",
        "\n",
        "\n",
        "''''\n",
        "for st11 in student_marks[1:]:\n",
        "  #print(st11)\n",
        "  st11_name = st11[0]\n",
        "  st11_marks = sum(st11[1])\n",
        "  #add = sum(st11_marks)\n",
        "  #print(add)\n",
        "  total_marks.append([st11_marks,st11_name])\n",
        "  #total_marks = total_marks.append(sum(st11_marks))\n",
        "print(total_marks)\n",
        "#a = total_marks.sort()\n",
        "print(sorted(total_marks))\n",
        "for percentage1 in total_marks:\n",
        "  marks_obtained = percentage1[0]\n",
        "  name = \n",
        "  print(marks_obtained,st11_name)\n",
        "  percent = marks_obtained/350*100\n",
        "  percentages.append(percent)\n",
        "print(percentages)\n",
        "print(max(percentages))\n",
        "'''"
      ]
    },
    {
      "cell_type": "code",
      "execution_count": null,
      "metadata": {
        "colab": {
          "base_uri": "https://localhost:8080/"
        },
        "id": "5iPh1wnDrP4k",
        "outputId": "5d655d4c-dbad-48dc-95ba-389e93c4185c"
      },
      "outputs": [
        {
          "output_type": "stream",
          "name": "stdout",
          "text": [
            "Max marks for each subject:100\n",
            "Total number of subjects:5\n",
            "[[160, 'Pranav'], [173, 'Akash'], [176, 'Rahul'], [202, 'Gyan'], [204, 'Ananya']]\n",
            "topper_percentage is : 41 % topper_name is :  Ananya\n"
          ]
        }
      ],
      "source": [
        "### solv for `If considered only top-4 subjects of a candidate, then who scored the highest percentage of marks?` ###\n",
        "### Find out scored highest percentage of marks? ###\n",
        "top_4 = []\n",
        "for _ in student_marks:\n",
        "  name = _[0]\n",
        "  mark = sorted(_[1])\n",
        "  sortedmark = mark[1:]\n",
        "  top_4.append([name, sortedmark])\n",
        "#print(top_4)\n",
        "\n",
        "max_marks = int(input(\"Max marks for each subject:\"))\n",
        "count = int(input(\"Total number of subjects:\"))\n",
        "total_marks4 = []\n",
        "for st1 in top_4[1:]:\n",
        "  st1_name = st1[0]\n",
        "  st1_marks = st1[1]\n",
        "  #print(st1_marks,st1_name)\n",
        "  total_marks4.append([sum(st1_marks),st1_name])\n",
        "total_marks_sorted4 = sorted(total_marks4)\n",
        "print(total_marks_sorted4)\n",
        "\n",
        "topper_percentage4 = []\n",
        "\n",
        "for st2 in total_marks_sorted4:\n",
        "  sorted_marks = st2[0]\n",
        "  sorted_names = st2[1]\n",
        "  topper_percentage4.append([sorted_names, round(sorted_marks/ (count * max_marks)*100)])\n",
        "print(\"topper_percentage is :\",topper_percentage4[-1][1],'%',\"topper_name is : \",topper_percentage4[-1][0])\n"
      ]
    },
    {
      "cell_type": "markdown",
      "metadata": {
        "id": "BM93iUT5rP4l"
      },
      "source": [
        "----"
      ]
    },
    {
      "cell_type": "markdown",
      "metadata": {
        "id": "XsNXA8nhrP4l"
      },
      "source": [
        "# **`Sets`**\n",
        "* Unordered collection of elements (if you put some data in order inside  set it will discard order)\n",
        "    * It shorts elements by itself (see below example)\n",
        "* No duplicates only unique values\n",
        "    * Put duplicates in set it will auto remove them\n",
        "* Mutable can add, remove values\n",
        "* Set Theory operations are possible like Union,Intersection etc...\n",
        "    * `intersection` of 2 sets => set_1.intersection(set_2)\n",
        "    * `union` of 2 sets => set_1.union(set_2) .."
      ]
    },
    {
      "cell_type": "markdown",
      "metadata": {
        "id": "gIWj5Sgwden1"
      },
      "source": [
        "### **`Watch Video 12: Sets in Python , Sets Method`**"
      ]
    },
    {
      "cell_type": "code",
      "execution_count": null,
      "metadata": {
        "colab": {
          "base_uri": "https://localhost:8080/"
        },
        "id": "DLSJiWUSrP4l",
        "outputId": "3d691eb9-ae99-4533-8639-97c426dd82bc"
      },
      "outputs": [
        {
          "output_type": "stream",
          "name": "stdout",
          "text": [
            "{'a', 'z', 'c', 'b'}\n"
          ]
        }
      ],
      "source": [
        "# define set named as set_ with values 'b','c','a','z'\n",
        "set_ = {'b','c','a','z'}\n",
        "# print set\n",
        "print(set_)\n"
      ]
    },
    {
      "cell_type": "code",
      "execution_count": null,
      "metadata": {
        "colab": {
          "base_uri": "https://localhost:8080/"
        },
        "id": "ifReR9qIrP4l",
        "outputId": "5cc16642-cd59-4399-98a8-689aa67c99f9"
      },
      "outputs": [
        {
          "output_type": "stream",
          "name": "stdout",
          "text": [
            "{'banana', 'mango'}\n"
          ]
        }
      ],
      "source": [
        "# define list namead as frt with elements as 'mango','banana','mango','banana'\n",
        "frt = ['mango','banana','mango','banana']\n",
        "# define a set named as set_ with elements as 'mango','banana','mango','banana'\n",
        "set_ = {'mango','banana','mango','banana'}\n",
        "# print set\n",
        "print(set_)"
      ]
    },
    {
      "cell_type": "code",
      "execution_count": null,
      "metadata": {
        "colab": {
          "base_uri": "https://localhost:8080/"
        },
        "id": "14_MnlmYrP4l",
        "outputId": "7047737b-3cb4-4d08-c65e-2e88eb37d040"
      },
      "outputs": [
        {
          "output_type": "stream",
          "name": "stdout",
          "text": [
            "{1, 'A', 4, 5, 'L', 'V'}\n"
          ]
        }
      ],
      "source": [
        "# make a set named as set_data and values as 4,'A',5,1,'V','L'\n",
        "set_data = {4,'A',5,1,'V','L'}\n",
        "# print set_data #<= results are shorted\n",
        "print(set_data)"
      ]
    },
    {
      "cell_type": "code",
      "execution_count": null,
      "metadata": {
        "colab": {
          "base_uri": "https://localhost:8080/"
        },
        "id": "HxKlhWFIrP4l",
        "outputId": "578e3c09-a724-4902-93b2-bf08aeca47dc"
      },
      "outputs": [
        {
          "output_type": "stream",
          "name": "stdout",
          "text": [
            "{'V', 1, 4, 5}\n"
          ]
        }
      ],
      "source": [
        "# No duplicates only unique values\n",
        "# make a set named as set_data and values as 4,4,5,1,'V','V'\n",
        "set_data = {4,4,5,1,'V','V'}\n",
        "# print set_data\n",
        "print(set_data)"
      ]
    },
    {
      "cell_type": "code",
      "execution_count": null,
      "metadata": {
        "colab": {
          "base_uri": "https://localhost:8080/"
        },
        "id": "EMm2IUSSrP4l",
        "outputId": "62ffec5e-96ee-4f35-a89b-2e5e8b220376"
      },
      "outputs": [
        {
          "output_type": "stream",
          "name": "stdout",
          "text": [
            "('A', 'B', 1, 2, 'B', 'A')\n",
            "{2, 1, 'A', 'B'}\n"
          ]
        }
      ],
      "source": [
        "# make tuple named  as tuple_data with values as 'A', 'B', 1, 2, 'B', 'A'\n",
        "tuple_data = ('A', 'B', 1, 2, 'B', 'A')\n",
        "# make a variable names as var_1 and convert it into set \n",
        "var_1 = set(tuple_data)\n",
        "# peint var_1\n",
        "print(tuple_data)\n",
        "print(var_1)\n"
      ]
    },
    {
      "cell_type": "code",
      "execution_count": null,
      "metadata": {
        "colab": {
          "base_uri": "https://localhost:8080/"
        },
        "id": "Qs0Fw69SrP4l",
        "outputId": "a0d8b267-d5af-44bd-d96f-58d5d08b4a80"
      },
      "outputs": [
        {
          "output_type": "stream",
          "name": "stdout",
          "text": [
            "{2, 1, 'A', 'B'}\n"
          ]
        }
      ],
      "source": [
        "# Defining a set using a List \n",
        "# define a list named as list_data with values as  'A', 'B', 1, 2, 'B', 'A'] # this is a list with duplicate data\n",
        "list_data = ['A', 'B', 1, 2, 'B', 'A']\n",
        "# change set_from_list to  set # set will remove duplicates\n",
        "set_from_list = set(list_data)\n",
        "print(set_from_list)\n",
        "\n",
        "# Defining a set using a Tuple named as tuple_data with values as 'A', 'B', 1, 2, 'B', 'A'\n",
        "tuple_data = ('A', 'B', 1, 2, 'B', 'A')\n",
        "# make variable named as set_from_tuple, change tuple_data into set\n",
        "set_from_tuple = set(tuple_data)\n",
        "# print set_from_tuple)\n"
      ]
    },
    {
      "cell_type": "code",
      "execution_count": null,
      "metadata": {
        "colab": {
          "base_uri": "https://localhost:8080/"
        },
        "id": "-zK2B4EVrP4m",
        "outputId": "1866cb9f-e700-422e-8704-cea744616dc2"
      },
      "outputs": [
        {
          "output_type": "stream",
          "name": "stdout",
          "text": [
            "{2, 1, 'A', 'B'}\n"
          ]
        }
      ],
      "source": [
        "# see set_from_tuple output\n",
        "print(set_from_tuple)"
      ]
    },
    {
      "cell_type": "code",
      "execution_count": null,
      "metadata": {
        "colab": {
          "base_uri": "https://localhost:8080/"
        },
        "id": "IbTLUsjZrP4m",
        "outputId": "977aaa27-4053-446f-c2bd-4efa95571a9f"
      },
      "outputs": [
        {
          "output_type": "stream",
          "name": "stdout",
          "text": [
            "{0, 1, 2, 'A', 'B'}\n"
          ]
        }
      ],
      "source": [
        "# add 0 to set_from_tuple\n",
        "\n",
        "set_from_tuple.add(0)\n",
        "# print set_from_tuple\n",
        "print(set_from_tuple)\n",
        "\n"
      ]
    },
    {
      "cell_type": "code",
      "execution_count": null,
      "metadata": {
        "colab": {
          "base_uri": "https://localhost:8080/"
        },
        "id": "1UvNVglBrP4m",
        "outputId": "51d7ecb2-e67b-4c1a-f7b4-72b0382124bb"
      },
      "outputs": [
        {
          "output_type": "stream",
          "name": "stdout",
          "text": [
            "{'a', 'z', 'c', 'b'}\n"
          ]
        }
      ],
      "source": [
        "# make variable named as set_ with values as 'b','c','a','z'\n",
        "set_ = {'b','c','a','z'}\n",
        "# print set_\n",
        "print(set_)"
      ]
    },
    {
      "cell_type": "code",
      "execution_count": null,
      "metadata": {
        "colab": {
          "base_uri": "https://localhost:8080/"
        },
        "id": "AtqlCQhwrP4m",
        "outputId": "2dde9d52-f0ce-40f1-ebc4-e63b664bd6b7"
      },
      "outputs": [
        {
          "output_type": "stream",
          "name": "stdout",
          "text": [
            "{'x', 'a', 'c', 'z', 'b'}\n"
          ]
        }
      ],
      "source": [
        "# add x to set_\n",
        "set_.add('x')\n",
        "# print set_\n",
        "print(set_)\n"
      ]
    },
    {
      "cell_type": "code",
      "source": [
        "set_from_tuple"
      ],
      "metadata": {
        "colab": {
          "base_uri": "https://localhost:8080/"
        },
        "id": "KlI7_2RcYYTC",
        "outputId": "2f9279e1-22a9-43e6-bd6f-704a38f145b5"
      },
      "execution_count": null,
      "outputs": [
        {
          "output_type": "execute_result",
          "data": {
            "text/plain": [
              "{0, 1, 2, 'A', 'B'}"
            ]
          },
          "metadata": {},
          "execution_count": 19
        }
      ]
    },
    {
      "cell_type": "code",
      "execution_count": null,
      "metadata": {
        "colab": {
          "base_uri": "https://localhost:8080/"
        },
        "id": "cDyIT-tlrP4m",
        "outputId": "a4b5f232-f85d-4064-9562-91c466402915"
      },
      "outputs": [
        {
          "output_type": "stream",
          "name": "stdout",
          "text": [
            "{0, 1, 2, 'A', 'B'}\n",
            "{0, 1, 2, 'A', 'c', 'B'}\n"
          ]
        }
      ],
      "source": [
        "# Add 0 to set set_from_tuple\n",
        "# print set_from_tuple # 0 is added at the starting of set, as set orders by itself\n",
        "set_from_tuple.add(0)\n",
        "\n",
        "print(set_from_tuple)\n",
        "\n",
        "# adding C to set set_from_tuple\n",
        "# print set_from_tuple # c is added at the last of set, as set orders by itself\n",
        "set_from_tuple.add('c')\n",
        "\n",
        "print(set_from_tuple)\n"
      ]
    },
    {
      "cell_type": "markdown",
      "metadata": {
        "id": "EDd-kK1ZrP4m"
      },
      "source": [
        "# delete element from set"
      ]
    },
    {
      "cell_type": "code",
      "execution_count": null,
      "metadata": {
        "colab": {
          "base_uri": "https://localhost:8080/"
        },
        "id": "aN2nrR1arP4m",
        "outputId": "3666f632-3930-4615-c1f7-5b7b7d5289b9"
      },
      "outputs": [
        {
          "output_type": "execute_result",
          "data": {
            "text/plain": [
              "{0, 1, 2, 'A', 'B', 'c'}"
            ]
          },
          "metadata": {},
          "execution_count": 23
        }
      ],
      "source": [
        "# see output of set_from_tuple\n",
        "set_from_tuple"
      ]
    },
    {
      "cell_type": "code",
      "execution_count": null,
      "metadata": {
        "colab": {
          "base_uri": "https://localhost:8080/"
        },
        "id": "j6igfM8nrP4m",
        "outputId": "27f4e338-ec61-42fb-d2fe-7d63968accaf"
      },
      "outputs": [
        {
          "output_type": "stream",
          "name": "stdout",
          "text": [
            "{1, 2, 'A', 'c', 'B'}\n"
          ]
        }
      ],
      "source": [
        "# use discard to remove 0 from set_from_tuple\n",
        "# see output of set_from_tuple\n",
        "set_from_tuple.discard(0)\n",
        "\n",
        "print(set_from_tuple)"
      ]
    },
    {
      "cell_type": "code",
      "execution_count": null,
      "metadata": {
        "colab": {
          "base_uri": "https://localhost:8080/"
        },
        "id": "1nehzTjkrP4m",
        "outputId": "ec2e52c3-e02f-4cdb-8885-a94d90d087f6"
      },
      "outputs": [
        {
          "output_type": "stream",
          "name": "stdout",
          "text": [
            "{1, 2, 'A', 'c', 'B'}\n"
          ]
        }
      ],
      "source": [
        "# from set_from_tuple discard 9 \n",
        "# print set_from_tuple\n",
        "\n",
        "set_from_tuple.discard(9)\n",
        "print(set_from_tuple)\n"
      ]
    },
    {
      "cell_type": "code",
      "execution_count": null,
      "metadata": {
        "id": "aMvJSw36rP4m",
        "colab": {
          "base_uri": "https://localhost:8080/"
        },
        "outputId": "040716ea-2f86-462c-efe4-d1e939b24158"
      },
      "outputs": [
        {
          "output_type": "stream",
          "name": "stdout",
          "text": [
            "{1, 2, 'A', 'c', 'B'}\n"
          ]
        }
      ],
      "source": [
        "# delete element from set (two methods are as)\n",
        "## discard() : if element not in set, it will not show error\n",
        "## remove() : if element not in set, it will show error\n",
        "set_from_tuple.discard(0.0)\n",
        "print(set_from_tuple)"
      ]
    },
    {
      "cell_type": "markdown",
      "metadata": {
        "id": "GzSBD7aarP4n"
      },
      "source": [
        "# Difference b/w two set (set_1 - set_2)"
      ]
    },
    {
      "cell_type": "code",
      "execution_count": null,
      "metadata": {
        "colab": {
          "base_uri": "https://localhost:8080/"
        },
        "id": "yUJSP6ggrP4n",
        "outputId": "a37dc1ce-67d3-4850-a3d8-13e4d7ada1e9"
      },
      "outputs": [
        {
          "output_type": "stream",
          "name": "stdout",
          "text": [
            "{1, 2, 3, 'A', 'B', '7'}\n",
            "{'0', 'A', 3}\n"
          ]
        }
      ],
      "source": [
        "# set_1 - set_2 => states that, collect every element of set_1 after removing thouse element which are common in set_1 and set_2 \n",
        "\n",
        "# define a set named as set_1 with elements as 1,2,3,'A','B'\n",
        "set_1 = {1,2,3,'A','B','7'}\n",
        "# define a set named as set_2 with elements as 3,'A'\n",
        "set_2 = {3,'A','0'}\n",
        "# difference of set_1 and set_2\n",
        "set_1.difference(set_2)\n",
        "# see difference between set_1 and set_2)\n",
        "set_2.difference(set_1)\n",
        "# print set_1\n",
        "print(set_1)\n",
        "print(set_2)\n",
        "\n"
      ]
    },
    {
      "cell_type": "code",
      "execution_count": null,
      "metadata": {
        "colab": {
          "base_uri": "https://localhost:8080/"
        },
        "id": "2iJJJttErP4n",
        "outputId": "2e57575a-eade-4797-aec0-ae045a5c1def"
      },
      "outputs": [
        {
          "output_type": "stream",
          "name": "stdout",
          "text": [
            "{1, 2, 'B'}\n"
          ]
        }
      ],
      "source": [
        "# if you want ot update set_1 by difference\n",
        "\n",
        "# using difference_update update set_1 and set_2\n",
        "set_1.difference_update(set_2)\n",
        "# print set_1\n",
        "print(set_1)\n"
      ]
    },
    {
      "cell_type": "markdown",
      "metadata": {
        "id": "M-ocEPqmrP4n"
      },
      "source": [
        "# Intersection b/w two set (set_1 - set_2)"
      ]
    },
    {
      "cell_type": "code",
      "execution_count": null,
      "metadata": {
        "colab": {
          "base_uri": "https://localhost:8080/"
        },
        "id": "o25pTFa5rP4n",
        "outputId": "ebedcc06-3888-4d63-b842-c85642212eaf"
      },
      "outputs": [
        {
          "output_type": "execute_result",
          "data": {
            "text/plain": [
              "{1, 2, 3, 'A', 'B'}"
            ]
          },
          "metadata": {},
          "execution_count": 36
        }
      ],
      "source": [
        "# collect only elements which are common b/w both sets\n",
        "set_1 = {1,2,3,'A','B'}\n",
        "set_2 = {3,'A'}\n",
        "set_1.intersection(set_2)\n",
        "set_1"
      ]
    },
    {
      "cell_type": "code",
      "execution_count": null,
      "metadata": {
        "colab": {
          "base_uri": "https://localhost:8080/"
        },
        "id": "ONav5Mx6rP4n",
        "outputId": "9c17b789-4a55-4e28-bdf6-6c08c71f97a8"
      },
      "outputs": [
        {
          "output_type": "execute_result",
          "data": {
            "text/plain": [
              "{3, 'A'}"
            ]
          },
          "metadata": {},
          "execution_count": 37
        }
      ],
      "source": [
        "# if you want ot update set_1 by intersection\n",
        "set_1.intersection_update(set_2)\n",
        "set_1"
      ]
    },
    {
      "cell_type": "markdown",
      "metadata": {
        "id": "1F9jH1x7rP4n"
      },
      "source": [
        "----"
      ]
    },
    {
      "cell_type": "markdown",
      "metadata": {
        "id": "1jNZ_aKnrP4n"
      },
      "source": [
        "# **`Dictionary`** => `key:value`\n",
        "* Unordered data structure\n",
        "* Collection of multiple lists can say, looks like set{} but have {key:value} pairs for storing elements\n",
        "    * student_information is a dictionay and it have name,age,email,adress etc store in form of list how see bellow example\n",
        "* `Element of dictionary can only be acessed by using key not Index`\n",
        "* Every key must be unique\n",
        "\n",
        "`{} -> curly brac`"
      ]
    },
    {
      "cell_type": "markdown",
      "metadata": {
        "id": "b0gQZ2v1dm5t"
      },
      "source": [
        "### **`Watch Video 13: Dictionaries in Python , Dict Methods`**"
      ]
    },
    {
      "cell_type": "code",
      "execution_count": null,
      "metadata": {
        "id": "vhdeUMEarP4n"
      },
      "outputs": [],
      "source": [
        "# student details\n",
        "names = ['Viranda','Sandhu','Rama','Yoga']\n",
        "height = [120,130,140,150]\n",
        "weight = [56,60,45,90]\n",
        "age = [23,34,56,55]\n",
        "\n",
        "\"\"\"\n",
        "dict = { key:values }\n",
        "\"\"\"\n",
        "\n",
        "### storing all these 4 lists in a dict using key:value  # once data structure inside other\n",
        "student_details_dict = {\n",
        "    'names' : ['Viranda','Sandhu','Rama','Yoga'],\n",
        "    'height' : [120,130,140,150],\n",
        "    'weight' : [56,60,45,90],\n",
        "    'age' : [23,34,56,55]\n",
        "}"
      ]
    },
    {
      "cell_type": "markdown",
      "metadata": {
        "id": "FFiDiI_PrP4o"
      },
      "source": [
        "* Above name,height are the `key` and list's data are the `value pair` associated with the key\n",
        "    * can say each key is mapped to multiple values\n",
        "* Above is the representation of advanced data structure as you can see list inside a dictionary"
      ]
    },
    {
      "cell_type": "code",
      "execution_count": null,
      "metadata": {
        "id": "E-Fr1AeJrP4o",
        "colab": {
          "base_uri": "https://localhost:8080/",
          "height": 201
        },
        "outputId": "a5f66920-54e4-41a5-f4c3-3f56cf529ce9"
      },
      "outputs": [
        {
          "output_type": "error",
          "ename": "KeyError",
          "evalue": "ignored",
          "traceback": [
            "\u001b[0;31m---------------------------------------------------------------------------\u001b[0m",
            "\u001b[0;31mKeyError\u001b[0m                                  Traceback (most recent call last)",
            "\u001b[0;32m<ipython-input-11-939d01fd8d6e>\u001b[0m in \u001b[0;36m<module>\u001b[0;34m\u001b[0m\n\u001b[1;32m      8\u001b[0m \u001b[0;34m\u001b[0m\u001b[0m\n\u001b[1;32m      9\u001b[0m \u001b[0;31m# trying to acess using index will give error\u001b[0m\u001b[0;34m\u001b[0m\u001b[0;34m\u001b[0m\u001b[0;34m\u001b[0m\u001b[0m\n\u001b[0;32m---> 10\u001b[0;31m \u001b[0mstudent_details_dict\u001b[0m\u001b[0;34m[\u001b[0m\u001b[0;36m0\u001b[0m\u001b[0;34m]\u001b[0m\u001b[0;34m\u001b[0m\u001b[0;34m\u001b[0m\u001b[0m\n\u001b[0m",
            "\u001b[0;31mKeyError\u001b[0m: 0"
          ]
        }
      ],
      "source": [
        "### Acessing elements of dict ###\n",
        "student_details_dict = {\n",
        "    'names' : ['Ohm','Sandhu','Rama','Yoga'],\n",
        "    'height' : [120,130,140,150],\n",
        "    'weight' : [56,60,45,90],\n",
        "    'age' : [23,34,56,55]\n",
        "}\n",
        "\n",
        "# trying to acess using index will give error\n",
        "student_details_dict[0]"
      ]
    },
    {
      "cell_type": "code",
      "execution_count": null,
      "metadata": {
        "id": "yBZ4q0E2rP4o",
        "colab": {
          "base_uri": "https://localhost:8080/"
        },
        "outputId": "c3df16ad-a7ce-46e5-e5e1-88f088b004bb"
      },
      "outputs": [
        {
          "output_type": "execute_result",
          "data": {
            "text/plain": [
              "[23, 34, 56, 55]"
            ]
          },
          "metadata": {},
          "execution_count": 13
        }
      ],
      "source": [
        "student_details_dict['age']"
      ]
    },
    {
      "cell_type": "code",
      "execution_count": null,
      "metadata": {
        "id": "82I92AVerP4o",
        "colab": {
          "base_uri": "https://localhost:8080/"
        },
        "outputId": "e5b05853-b749-4750-e3c3-e3e448d0c4c7"
      },
      "outputs": [
        {
          "output_type": "execute_result",
          "data": {
            "text/plain": [
              "{'names': ['Ohm', 'Sandhu', 'Rama', 'Yoga'],\n",
              " 'height': [120, 130, 140, 150],\n",
              " 'weight': [56, 60, 45, 90],\n",
              " 'age': [23, 34, 56, 55]}"
            ]
          },
          "metadata": {},
          "execution_count": 14
        }
      ],
      "source": [
        "student_details_dict"
      ]
    },
    {
      "cell_type": "code",
      "execution_count": null,
      "metadata": {
        "id": "fTkrcNdCrP4o",
        "colab": {
          "base_uri": "https://localhost:8080/",
          "height": 35
        },
        "outputId": "e59619d9-cac5-422a-cc8f-1942faa8737f"
      },
      "outputs": [
        {
          "output_type": "execute_result",
          "data": {
            "text/plain": [
              "'Yoga'"
            ],
            "application/vnd.google.colaboratory.intrinsic+json": {
              "type": "string"
            }
          },
          "metadata": {},
          "execution_count": 15
        }
      ],
      "source": [
        "student_details_dict['names'][-1]"
      ]
    },
    {
      "cell_type": "code",
      "execution_count": null,
      "metadata": {
        "id": "5HnJNpSVrP4o",
        "colab": {
          "base_uri": "https://localhost:8080/"
        },
        "outputId": "9ac0c841-fe31-403f-e806-92c2b2a45c5e"
      },
      "outputs": [
        {
          "output_type": "stream",
          "name": "stdout",
          "text": [
            "['Ohm', 'Sandhu', 'Rama', 'Yoga']\n",
            "['Sandhu', 'Rama', 'Yoga']\n"
          ]
        }
      ],
      "source": [
        "# trying to acess using key will give error\n",
        "\n",
        "print(student_details_dict['names'])\n",
        "\n",
        "#getting into name key values\n",
        "print(student_details_dict['names'][1:])"
      ]
    },
    {
      "cell_type": "code",
      "execution_count": null,
      "metadata": {
        "id": "MkV-hbCLrP4o",
        "colab": {
          "base_uri": "https://localhost:8080/"
        },
        "outputId": "83819a16-ff09-464a-8838-368378960322"
      },
      "outputs": [
        {
          "output_type": "execute_result",
          "data": {
            "text/plain": [
              "dict_keys(['names', 'height', 'weight', 'age'])"
            ]
          },
          "metadata": {},
          "execution_count": 17
        }
      ],
      "source": [
        "### Acessing keys ###\n",
        "student_details_dict.keys()"
      ]
    },
    {
      "cell_type": "code",
      "execution_count": null,
      "metadata": {
        "id": "sxApYLKkrP4o",
        "colab": {
          "base_uri": "https://localhost:8080/"
        },
        "outputId": "05a95abf-e7f9-485c-ee86-be7caf354678"
      },
      "outputs": [
        {
          "output_type": "execute_result",
          "data": {
            "text/plain": [
              "dict_values([['Ohm', 'Sandhu', 'Rama', 'Yoga'], [120, 130, 140, 150], [56, 60, 45, 90], [23, 34, 56, 55]])"
            ]
          },
          "metadata": {},
          "execution_count": 18
        }
      ],
      "source": [
        "### Acessing values ###\n",
        "student_details_dict.values()"
      ]
    },
    {
      "cell_type": "markdown",
      "metadata": {
        "id": "PpsBjTaVrP4o"
      },
      "source": [
        "# Adding single element to dictionary"
      ]
    },
    {
      "cell_type": "code",
      "execution_count": null,
      "metadata": {
        "id": "_FBTPjTZrP4p",
        "colab": {
          "base_uri": "https://localhost:8080/"
        },
        "outputId": "acdd5b6b-bf0d-45d1-ef78-7055b91d53b4"
      },
      "outputs": [
        {
          "output_type": "execute_result",
          "data": {
            "text/plain": [
              "{'names': ['Ohm', 'Sandhu', 'Rama', 'Yoga'],\n",
              " 'height': [120, 130, 140, 150],\n",
              " 'weight': [56, 60, 45, 90],\n",
              " 'age': [23, 34, 56, 55]}"
            ]
          },
          "metadata": {},
          "execution_count": 19
        }
      ],
      "source": [
        "student_details_dict"
      ]
    },
    {
      "cell_type": "code",
      "execution_count": null,
      "metadata": {
        "id": "0wKUkHGFrP4p",
        "colab": {
          "base_uri": "https://localhost:8080/"
        },
        "outputId": "56996842-b9c3-4b5b-a5c9-d22bb0aade39"
      },
      "outputs": [
        {
          "output_type": "execute_result",
          "data": {
            "text/plain": [
              "{'names': ['Ohm', 'Sandhu', 'Rama', 'Yoga'],\n",
              " 'height': [120, 130, 140, 150],\n",
              " 'weight': [56, 60, 45, 90],\n",
              " 'age': [23, 34, 56, 55],\n",
              " 'emails': ['as@gmail.com', 'asd@gmail.com', 'd@gmail.com', 'sd@gmail.com']}"
            ]
          },
          "metadata": {},
          "execution_count": 20
        }
      ],
      "source": [
        "# dict_name['key_name'] = [values to update]\n",
        "student_details_dict['emails'] = ['as@gmail.com','asd@gmail.com','d@gmail.com','sd@gmail.com']\n",
        "\n",
        "student_details_dict"
      ]
    },
    {
      "cell_type": "markdown",
      "metadata": {
        "id": "WmJ6exLbrP4p"
      },
      "source": [
        "# Adding multiple element to dictionary "
      ]
    },
    {
      "cell_type": "code",
      "execution_count": null,
      "metadata": {
        "id": "EA49XnzsrP4p",
        "colab": {
          "base_uri": "https://localhost:8080/"
        },
        "outputId": "fd17640e-802d-4618-9928-9e1f86919f95"
      },
      "outputs": [
        {
          "output_type": "execute_result",
          "data": {
            "text/plain": [
              "{'names': ['Ohm', 'Sandhu', 'Rama', 'Yoga'],\n",
              " 'height': [120, 130, 140, 150],\n",
              " 'weight': [56, 60, 45, 90],\n",
              " 'age': [23, 34, 56, 55],\n",
              " 'emails': ['as@gmail.com', 'asd@gmail.com', 'd@gmail.com', 'sd@gmail.com']}"
            ]
          },
          "metadata": {},
          "execution_count": 21
        }
      ],
      "source": [
        "student_details_dict"
      ]
    },
    {
      "cell_type": "code",
      "execution_count": null,
      "metadata": {
        "id": "VO6IrvskrP4p",
        "colab": {
          "base_uri": "https://localhost:8080/"
        },
        "outputId": "b42e9eef-e2eb-49fa-9f80-f6a5d9f53f95"
      },
      "outputs": [
        {
          "output_type": "execute_result",
          "data": {
            "text/plain": [
              "{'names': ['Ohm', 'Sandhu', 'Rama', 'Yoga'],\n",
              " 'height': [120, 130, 140, 150],\n",
              " 'weight': [56, 60, 45, 90],\n",
              " 'age': [23, 34, 56, 55],\n",
              " 'emails': ['as@gmail.com', 'asd@gmail.com', 'd@gmail.com', 'sd@gmail.com'],\n",
              " 'adress': ['ana', 'dasd', 'asdad', 'adasd'],\n",
              " 'sex': ['m', 'm', 'm', 'm']}"
            ]
          },
          "metadata": {},
          "execution_count": 22
        }
      ],
      "source": [
        "# use of .update({'key':[value],'key1':[value1]})\n",
        "\n",
        "student_details_dict.update({'adress':['ana','dasd','asdad','adasd'],'sex':['m','m','m','m']})\n",
        "student_details_dict"
      ]
    },
    {
      "cell_type": "markdown",
      "metadata": {
        "id": "pPXUz271rP4p"
      },
      "source": [
        "# Deleting element of dictionary"
      ]
    },
    {
      "cell_type": "code",
      "execution_count": null,
      "metadata": {
        "id": "tdOxfYdCrP4p",
        "colab": {
          "base_uri": "https://localhost:8080/"
        },
        "outputId": "e80b537f-ccd4-48f3-f436-6354f30e8314"
      },
      "outputs": [
        {
          "output_type": "execute_result",
          "data": {
            "text/plain": [
              "{'names': ['Ohm', 'Sandhu', 'Rama', 'Yoga'],\n",
              " 'height': [120, 130, 140, 150],\n",
              " 'weight': [56, 60, 45, 90],\n",
              " 'age': [23, 34, 56, 55],\n",
              " 'emails': ['as@gmail.com', 'asd@gmail.com', 'd@gmail.com', 'sd@gmail.com'],\n",
              " 'adress': ['ana', 'dasd', 'asdad', 'adasd'],\n",
              " 'sex': ['m', 'm', 'm', 'm']}"
            ]
          },
          "metadata": {},
          "execution_count": 23
        }
      ],
      "source": [
        "student_details_dict"
      ]
    },
    {
      "cell_type": "code",
      "execution_count": null,
      "metadata": {
        "id": "Iu1l27PNrP4p",
        "colab": {
          "base_uri": "https://localhost:8080/"
        },
        "outputId": "72c6cee0-0f1a-4604-d912-205948df64d6"
      },
      "outputs": [
        {
          "output_type": "execute_result",
          "data": {
            "text/plain": [
              "{'names': ['Ohm', 'Sandhu', 'Rama', 'Yoga'],\n",
              " 'height': [120, 130, 140, 150],\n",
              " 'weight': [56, 60, 45, 90],\n",
              " 'age': [23, 34, 56, 55],\n",
              " 'emails': ['as@gmail.com', 'asd@gmail.com', 'd@gmail.com', 'sd@gmail.com'],\n",
              " 'adress': ['ana', 'dasd', 'asdad', 'adasd']}"
            ]
          },
          "metadata": {},
          "execution_count": 24
        }
      ],
      "source": [
        "# use of del\n",
        "del student_details_dict['sex'] #<= removing sex key totaly from key\n",
        "student_details_dict"
      ]
    },
    {
      "cell_type": "markdown",
      "metadata": {
        "id": "VrRk_bhJrP4p"
      },
      "source": [
        "# Updating dict with dicts"
      ]
    },
    {
      "cell_type": "code",
      "execution_count": null,
      "metadata": {
        "id": "1v2BgiPUrP4p",
        "colab": {
          "base_uri": "https://localhost:8080/"
        },
        "outputId": "59017cfb-ec6d-4258-ba37-f6bb78e2efc9"
      },
      "outputs": [
        {
          "output_type": "execute_result",
          "data": {
            "text/plain": [
              "{'names': ['Ohm', 'Sandhu', 'Rama', 'Yoga'],\n",
              " 'height': [120, 130, 140, 150],\n",
              " 'weight': [56, 60, 45, 90],\n",
              " 'age': [23, 34, 56, 55],\n",
              " 'emails': ['as@gmail.com', 'asd@gmail.com', 'd@gmail.com', 'sd@gmail.com'],\n",
              " 'adress': ['ana', 'dasd', 'asdad', 'adasd']}"
            ]
          },
          "metadata": {},
          "execution_count": 25
        }
      ],
      "source": [
        "# Make a dict named as student_data_dictionary  with value which are given bellow as output\n",
        "student_data_dictionary = {'names': ['Ohm', 'Sandhu', 'Rama', 'Yoga'],\n",
        " 'height': [120, 130, 140, 150],\n",
        " 'weight': [56, 60, 45, 90],\n",
        " 'age': [23, 34, 56, 55],\n",
        " 'emails': ['as@gmail.com', 'asd@gmail.com', 'd@gmail.com', 'sd@gmail.com'],\n",
        " 'adress': ['ana', 'dasd', 'asdad', 'adasd']}\n",
        "\n",
        "# print student_data_dictionary\n",
        "\n",
        "student_data_dictionary\n"
      ]
    },
    {
      "cell_type": "code",
      "execution_count": null,
      "metadata": {
        "id": "2GhXVhlFrP4q",
        "colab": {
          "base_uri": "https://localhost:8080/"
        },
        "outputId": "3227fafe-36df-4314-c855-5063bfdb0e1f"
      },
      "outputs": [
        {
          "output_type": "stream",
          "name": "stdout",
          "text": [
            "{'names': ['Ohm', 'Sandhu', 'Rama', 'Yoga'], 'height': [120, 130, 140, 150], 'weight': [56, 60, 45, 90], 'age': [23, 34, 56, 55], 'emails': ['as@gmail.com', 'asd@gmail.com', 'd@gmail.com', 'sd@gmail.com'], 'adress': ['ana', 'dasd', 'asdad', 'adasd'], 'pincode': [523254, 523259, 523250, 523214], 'mobile': [1111, 2222, 3333, 4444]}\n"
          ]
        }
      ],
      "source": [
        "# update student_data_dictionary by observing output \n",
        "student_data_dictionary.update({\n",
        "    'pincode' : [523254, 523259, 523250, 523214],\n",
        "    'mobile' : [1111,2222,3333,4444]\n",
        "})\n",
        "# print student_data_dictionary\n",
        "\n",
        "print(student_data_dictionary)"
      ]
    },
    {
      "cell_type": "markdown",
      "metadata": {
        "id": "w7yMNpcArP4q"
      },
      "source": [
        "# Updating dict with list of tuples"
      ]
    },
    {
      "cell_type": "code",
      "execution_count": null,
      "metadata": {
        "id": "z9a5hByPrP4q",
        "colab": {
          "base_uri": "https://localhost:8080/"
        },
        "outputId": "05b11b4a-7844-4186-8d90-0f0d5986ddd4"
      },
      "outputs": [
        {
          "output_type": "execute_result",
          "data": {
            "text/plain": [
              "{'names': ['Ohm', 'Sandhu', 'Rama', 'Yoga'],\n",
              " 'height': [120, 130, 140, 150],\n",
              " 'weight': [56, 60, 45, 90],\n",
              " 'age': [23, 34, 56, 55],\n",
              " 'emails': ['as@gmail.com', 'asd@gmail.com', 'd@gmail.com', 'sd@gmail.com'],\n",
              " 'adress': ['ana', 'dasd', 'asdad', 'adasd'],\n",
              " 'pincode': [523254, 523259, 523250, 523214],\n",
              " 'mobile': [1111, 2222, 3333, 4444]}"
            ]
          },
          "metadata": {},
          "execution_count": 33
        }
      ],
      "source": [
        "# print student_data_dictionary\n",
        "student_data_dictionary\n"
      ]
    },
    {
      "cell_type": "code",
      "execution_count": null,
      "metadata": {
        "id": "VTT_BZycrP4q",
        "colab": {
          "base_uri": "https://localhost:8080/"
        },
        "outputId": "92e93cb0-e964-42eb-9c81-a4007fdcf251"
      },
      "outputs": [
        {
          "output_type": "stream",
          "name": "stdout",
          "text": [
            "{'names': ['Ohm', 'Sandhu', 'Rama', 'Yoga'], 'height': [120, 130, 140, 150], 'weight': [56, 60, 45, 90], 'age': [23, 34, 56, 55], 'emails': ['as@gmail.com', 'asd@gmail.com', 'd@gmail.com', 'sd@gmail.com'], 'adress': ['ana', 'dasd', 'asdad', 'adasd'], 'pincode': [523254, 523259, 523250, 523214], 'mobile': [1111, 2222, 3333, 4444], 'roll_no': 20202020, 'year': [2020, 2021, 2022, 2023]}\n"
          ]
        }
      ],
      "source": [
        "# update student_data_dictionary by observing output \n",
        "\n",
        "student_data_dictionary.update(\n",
        "     [\n",
        "        (\"roll_no\" , 20202020),\n",
        "        (\"year\" , [2020,2021,2022,2023])\n",
        "    ]\n",
        ")\n",
        "\n",
        "# print student_data_dictionary\n",
        "print(student_data_dictionary)"
      ]
    },
    {
      "cell_type": "code",
      "source": [
        "student_data_dictionary"
      ],
      "metadata": {
        "colab": {
          "base_uri": "https://localhost:8080/"
        },
        "id": "O9EAbcioDF6M",
        "outputId": "bee2d41b-88b8-4670-a39a-106cc8621293"
      },
      "execution_count": null,
      "outputs": [
        {
          "output_type": "execute_result",
          "data": {
            "text/plain": [
              "{'names': ['Ohm', 'Sandhu', 'Rama', 'Yoga'],\n",
              " 'height': [120, 130, 140, 150],\n",
              " 'weight': [56, 60, 45, 90],\n",
              " 'age': [23, 34, 56, 55],\n",
              " 'emails': ['as@gmail.com', 'asd@gmail.com', 'd@gmail.com', 'sd@gmail.com'],\n",
              " 'adress': ['ana', 'dasd', 'asdad', 'adasd'],\n",
              " 'pincode': [523254, 523259, 523250, 523214],\n",
              " 'mobile': [1111, 2222, 3333, 4444],\n",
              " 'roll_no': 20202020,\n",
              " 'year': [2020, 2021, 2022, 2023]}"
            ]
          },
          "metadata": {},
          "execution_count": 39
        }
      ]
    },
    {
      "cell_type": "code",
      "execution_count": null,
      "metadata": {
        "id": "6YtALcserP4q",
        "colab": {
          "base_uri": "https://localhost:8080/"
        },
        "outputId": "a2e186af-3fa0-48fc-ec96-14fa1c3e206a"
      },
      "outputs": [
        {
          "output_type": "execute_result",
          "data": {
            "text/plain": [
              "dict_keys(['string', 777, 777.77, False])"
            ]
          },
          "metadata": {},
          "execution_count": 40
        }
      ],
      "source": [
        "# observe this code\n",
        "### dictionary key can be anything string,integer,float,boolean ###\n",
        "dict_sample = {\n",
        "    'string' : 'string can be used as key',\n",
        "    777 : 'interger can be used as key',\n",
        "    777.77 : 'float can be used as key',\n",
        "    False : 'boolean can be used as key'\n",
        "}\n",
        "\n",
        "dict_sample.keys()"
      ]
    },
    {
      "cell_type": "markdown",
      "metadata": {
        "id": "fb2iby4NrP4q"
      },
      "source": [
        "Mostly String and Integer are used as key"
      ]
    },
    {
      "cell_type": "code",
      "execution_count": null,
      "metadata": {
        "id": "RKwzFxeyrP4q",
        "colab": {
          "base_uri": "https://localhost:8080/",
          "height": 35
        },
        "outputId": "af2d8ee2-1af9-48f3-c276-865c805cb128"
      },
      "outputs": [
        {
          "output_type": "execute_result",
          "data": {
            "text/plain": [
              "'float can be used as key'"
            ],
            "application/vnd.google.colaboratory.intrinsic+json": {
              "type": "string"
            }
          },
          "metadata": {},
          "execution_count": 41
        }
      ],
      "source": [
        "dict_sample[777.77]"
      ]
    },
    {
      "cell_type": "code",
      "execution_count": null,
      "metadata": {
        "id": "l532yInzrP4q",
        "colab": {
          "base_uri": "https://localhost:8080/"
        },
        "outputId": "0072900b-4629-414d-eee7-3548ff2995c1"
      },
      "outputs": [
        {
          "output_type": "execute_result",
          "data": {
            "text/plain": [
              "{'a': 23, 'b': 2, 'c': 3}"
            ]
          },
          "metadata": {},
          "execution_count": 42
        }
      ],
      "source": [
        "# observe this code\n",
        "### Duplicate keys ###\n",
        "# every key must be unique\n",
        "dict_sample = {\n",
        "    'a':1,\n",
        "    'b':2,\n",
        "    'c':3,\n",
        "    'a':23\n",
        "}\n",
        "\n",
        "dict_sample"
      ]
    },
    {
      "cell_type": "markdown",
      "metadata": {
        "id": "xI9wusR1rP4q"
      },
      "source": [
        "`If we add duplicate keys, it will not throw an error instead it will overwrite value which is added at last`"
      ]
    },
    {
      "cell_type": "markdown",
      "metadata": {
        "id": "bmvif_zLrP4q"
      },
      "source": [
        "# Iterating through key:value pair"
      ]
    },
    {
      "cell_type": "code",
      "execution_count": null,
      "metadata": {
        "id": "pOOp6yYGrP4q",
        "colab": {
          "base_uri": "https://localhost:8080/"
        },
        "outputId": "8e04573a-09f9-4b9b-868a-0c578abd9b26"
      },
      "outputs": [
        {
          "output_type": "execute_result",
          "data": {
            "text/plain": [
              "dict_items([('a', 23), ('b', 2), ('c', 3)])"
            ]
          },
          "metadata": {},
          "execution_count": 43
        }
      ],
      "source": [
        "dict_sample.items()"
      ]
    },
    {
      "cell_type": "code",
      "execution_count": null,
      "metadata": {
        "id": "5UvSJz_3rP4r",
        "colab": {
          "base_uri": "https://localhost:8080/"
        },
        "outputId": "475a617d-c19c-4825-b0ae-6c0b9145b882"
      },
      "outputs": [
        {
          "output_type": "stream",
          "name": "stdout",
          "text": [
            "a 23\n",
            "b 2\n",
            "c 3\n"
          ]
        }
      ],
      "source": [
        "for key,value in dict_sample.items():\n",
        "    print(key,value)"
      ]
    },
    {
      "cell_type": "code",
      "execution_count": null,
      "metadata": {
        "id": "Oml0jnO3rP4r",
        "colab": {
          "base_uri": "https://localhost:8080/",
          "height": 183
        },
        "outputId": "583d6612-0574-4535-ad12-df04a341358f"
      },
      "outputs": [
        {
          "output_type": "error",
          "ename": "ValueError",
          "evalue": "ignored",
          "traceback": [
            "\u001b[0;31m---------------------------------------------------------------------------\u001b[0m",
            "\u001b[0;31mValueError\u001b[0m                                Traceback (most recent call last)",
            "\u001b[0;32m<ipython-input-45-ccb80a8915b3>\u001b[0m in \u001b[0;36m<module>\u001b[0;34m\u001b[0m\n\u001b[0;32m----> 1\u001b[0;31m \u001b[0;32mfor\u001b[0m \u001b[0mkey\u001b[0m\u001b[0;34m,\u001b[0m\u001b[0mvalue\u001b[0m \u001b[0;32min\u001b[0m \u001b[0mdict_sample\u001b[0m\u001b[0;34m:\u001b[0m\u001b[0;34m\u001b[0m\u001b[0;34m\u001b[0m\u001b[0m\n\u001b[0m\u001b[1;32m      2\u001b[0m     \u001b[0mprint\u001b[0m\u001b[0;34m(\u001b[0m\u001b[0mkey\u001b[0m\u001b[0;34m,\u001b[0m\u001b[0mvalue\u001b[0m\u001b[0;34m)\u001b[0m\u001b[0;34m\u001b[0m\u001b[0;34m\u001b[0m\u001b[0m\n",
            "\u001b[0;31mValueError\u001b[0m: not enough values to unpack (expected 2, got 1)"
          ]
        }
      ],
      "source": [
        "for key,value in dict_sample:\n",
        "    print(key,value)"
      ]
    },
    {
      "cell_type": "markdown",
      "metadata": {
        "id": "ew5FtqDsrP4r"
      },
      "source": [
        "# sorting a dictionary based on keys"
      ]
    },
    {
      "cell_type": "code",
      "execution_count": null,
      "metadata": {
        "id": "qwC2NSGYrP4r",
        "colab": {
          "base_uri": "https://localhost:8080/"
        },
        "outputId": "36b9b77c-7a16-4287-f641-a27fb78a7fbb"
      },
      "outputs": [
        {
          "output_type": "execute_result",
          "data": {
            "text/plain": [
              "[('a', 23), ('b', 2), ('c', 3)]"
            ]
          },
          "metadata": {},
          "execution_count": 54
        }
      ],
      "source": [
        "sorted(dict_sample.items())"
      ]
    },
    {
      "cell_type": "code",
      "execution_count": null,
      "metadata": {
        "id": "DGpnyumDrP4r"
      },
      "outputs": [],
      "source": [
        "# sorting a dictionary based on values\n",
        "# it requires concept of lambda expression \n",
        "dict_sample\n",
        "after_sort = sorted(dict_sample, key=lambda x:x )\n",
        "#print(after_sort)\n",
        "\n",
        "\n"
      ]
    },
    {
      "cell_type": "markdown",
      "metadata": {
        "id": "be3IXjFNrP4r"
      },
      "source": [
        "---"
      ]
    },
    {
      "cell_type": "markdown",
      "metadata": {
        "id": "PMmen0JyrP4r"
      },
      "source": [
        "# **`String Manipulation`** [More Resources](https://docs.python.org/3.7/library/stdtypes.html#text-sequence-type-str)"
      ]
    },
    {
      "cell_type": "markdown",
      "metadata": {
        "id": "kXsEjLZ03YnR"
      },
      "source": [
        "# observe bellow code"
      ]
    },
    {
      "cell_type": "code",
      "execution_count": null,
      "metadata": {
        "id": "8J1dpy6rrP4r",
        "colab": {
          "base_uri": "https://localhost:8080/"
        },
        "outputId": "5529c2d5-92f1-4f91-b5aa-947a0695f9ff"
      },
      "outputs": [
        {
          "output_type": "stream",
          "name": "stdout",
          "text": [
            "<class 'str'>\n"
          ]
        }
      ],
      "source": [
        "string_ = '' or \"\" or \"\"\" \"\"\"\n",
        "print(type(string_))"
      ]
    },
    {
      "cell_type": "code",
      "execution_count": null,
      "metadata": {
        "id": "P4TiJEQCrP4s",
        "colab": {
          "base_uri": "https://localhost:8080/",
          "height": 35
        },
        "outputId": "d259be0c-6b77-4030-de5a-c63993e12cad"
      },
      "outputs": [
        {
          "output_type": "execute_result",
          "data": {
            "text/plain": [
              "'We are creating next generation data science eco-system at CloudyML'"
            ],
            "application/vnd.google.colaboratory.intrinsic+json": {
              "type": "string"
            }
          },
          "metadata": {},
          "execution_count": 58
        }
      ],
      "source": [
        "# defining a string\n",
        "string = \"We are creating next generation data science eco-system at CloudyML\"\n",
        "string"
      ]
    },
    {
      "cell_type": "code",
      "execution_count": null,
      "metadata": {
        "id": "Ujfo-CHZrP4s",
        "colab": {
          "base_uri": "https://localhost:8080/"
        },
        "outputId": "f319fa22-85b2-4099-dda0-bc00c5261874"
      },
      "outputs": [
        {
          "output_type": "execute_result",
          "data": {
            "text/plain": [
              "67"
            ]
          },
          "metadata": {},
          "execution_count": 59
        }
      ],
      "source": [
        "# length of string including spaces\n",
        "len(string)"
      ]
    },
    {
      "cell_type": "code",
      "execution_count": null,
      "metadata": {
        "id": "huRY2kW4rP4s",
        "colab": {
          "base_uri": "https://localhost:8080/",
          "height": 35
        },
        "outputId": "c1f56477-05c7-4e5a-f329-1b05c7f47677"
      },
      "outputs": [
        {
          "output_type": "execute_result",
          "data": {
            "text/plain": [
              "'W'"
            ],
            "application/vnd.google.colaboratory.intrinsic+json": {
              "type": "string"
            }
          },
          "metadata": {},
          "execution_count": 60
        }
      ],
      "source": [
        "# Accessing characters in a string\n",
        "string[0]"
      ]
    },
    {
      "cell_type": "code",
      "execution_count": null,
      "metadata": {
        "id": "ynPqdSYdrP4s",
        "colab": {
          "base_uri": "https://localhost:8080/",
          "height": 35
        },
        "outputId": "95ee09a4-e45c-42b8-9d88-b07c3c9d6537"
      },
      "outputs": [
        {
          "output_type": "execute_result",
          "data": {
            "text/plain": [
              "'L'"
            ],
            "application/vnd.google.colaboratory.intrinsic+json": {
              "type": "string"
            }
          },
          "metadata": {},
          "execution_count": 61
        }
      ],
      "source": [
        "# Accessing characters with negative indexing\n",
        "string[-1]"
      ]
    },
    {
      "cell_type": "markdown",
      "metadata": {
        "id": "O9VaefTGrP4s"
      },
      "source": [
        "# String Slicing"
      ]
    },
    {
      "cell_type": "code",
      "source": [
        "string"
      ],
      "metadata": {
        "colab": {
          "base_uri": "https://localhost:8080/",
          "height": 35
        },
        "id": "0aNvVnbtIZAI",
        "outputId": "49a83233-5860-4520-de01-ad9bc32038e9"
      },
      "execution_count": null,
      "outputs": [
        {
          "output_type": "execute_result",
          "data": {
            "text/plain": [
              "'We are creating next generation data science eco-system at CloudyML'"
            ],
            "application/vnd.google.colaboratory.intrinsic+json": {
              "type": "string"
            }
          },
          "metadata": {},
          "execution_count": 62
        }
      ]
    },
    {
      "cell_type": "code",
      "execution_count": null,
      "metadata": {
        "id": "ry8spVYHrP4s",
        "colab": {
          "base_uri": "https://localhost:8080/",
          "height": 35
        },
        "outputId": "c78e8d1e-8b31-4635-8cbb-e589db50769b"
      },
      "outputs": [
        {
          "output_type": "execute_result",
          "data": {
            "text/plain": [
              "'We are'"
            ],
            "application/vnd.google.colaboratory.intrinsic+json": {
              "type": "string"
            }
          },
          "metadata": {},
          "execution_count": 63
        }
      ],
      "source": [
        "string[:6]"
      ]
    },
    {
      "cell_type": "code",
      "execution_count": null,
      "metadata": {
        "id": "9yyS6grLrP4s",
        "colab": {
          "base_uri": "https://localhost:8080/",
          "height": 35
        },
        "outputId": "d296ac2a-e30f-4c1b-c880-8c09122dc5ee"
      },
      "outputs": [
        {
          "output_type": "execute_result",
          "data": {
            "text/plain": [
              "'creating next generation data science eco-system a'"
            ],
            "application/vnd.google.colaboratory.intrinsic+json": {
              "type": "string"
            }
          },
          "metadata": {},
          "execution_count": 64
        }
      ],
      "source": [
        "string[7:-10]"
      ]
    },
    {
      "cell_type": "markdown",
      "metadata": {
        "id": "IE-m76lwrP4s"
      },
      "source": [
        "# Count of a particular `character` in a string"
      ]
    },
    {
      "cell_type": "code",
      "execution_count": null,
      "metadata": {
        "id": "036-jd2TrP4s",
        "colab": {
          "base_uri": "https://localhost:8080/"
        },
        "outputId": "b63c3879-ae95-484e-b47b-9c85a36f12ee"
      },
      "outputs": [
        {
          "output_type": "stream",
          "name": "stdout",
          "text": [
            "We are creating next generation data science eco-system at CloudyML\n"
          ]
        },
        {
          "output_type": "execute_result",
          "data": {
            "text/plain": [
              "10"
            ]
          },
          "metadata": {},
          "execution_count": 65
        }
      ],
      "source": [
        "print(string)\n",
        "\n",
        "string.count('e')"
      ]
    },
    {
      "cell_type": "markdown",
      "metadata": {
        "id": "6BhlvAFmrP4s"
      },
      "source": [
        "# Count of a particular `sub-string` in a string "
      ]
    },
    {
      "cell_type": "code",
      "execution_count": null,
      "metadata": {
        "id": "pzaxuLCarP4s",
        "colab": {
          "base_uri": "https://localhost:8080/"
        },
        "outputId": "48a42029-71fb-4d7e-9871-19f40df4f9b9"
      },
      "outputs": [
        {
          "output_type": "stream",
          "name": "stdout",
          "text": [
            "creating next generation data science eco-system a\n"
          ]
        },
        {
          "output_type": "execute_result",
          "data": {
            "text/plain": [
              "1"
            ]
          },
          "metadata": {},
          "execution_count": 66
        }
      ],
      "source": [
        "print(string[7:-10])\n",
        "string.count('ea')"
      ]
    },
    {
      "cell_type": "markdown",
      "metadata": {
        "id": "gbyWCeAwrP4s"
      },
      "source": [
        "# Find a substring in string using `find` and `index` function"
      ]
    },
    {
      "cell_type": "code",
      "execution_count": null,
      "metadata": {
        "id": "08PNFmYPrP4s",
        "colab": {
          "base_uri": "https://localhost:8080/",
          "height": 35
        },
        "outputId": "133deeed-5cdf-44f2-cb9e-e7b9eab6012c"
      },
      "outputs": [
        {
          "output_type": "execute_result",
          "data": {
            "text/plain": [
              "'We are creating next generation data science eco-system at CloudyML'"
            ],
            "application/vnd.google.colaboratory.intrinsic+json": {
              "type": "string"
            }
          },
          "metadata": {},
          "execution_count": 67
        }
      ],
      "source": [
        "string"
      ]
    },
    {
      "cell_type": "code",
      "execution_count": null,
      "metadata": {
        "id": "tfFcaCXxrP4t",
        "colab": {
          "base_uri": "https://localhost:8080/"
        },
        "outputId": "518250a6-a8ad-46f4-a8e8-695bceede293"
      },
      "outputs": [
        {
          "output_type": "execute_result",
          "data": {
            "text/plain": [
              "-1"
            ]
          },
          "metadata": {},
          "execution_count": 70
        }
      ],
      "source": [
        "# .find() => if present it will return starting index, not found then it will return -1\n",
        "# .index() => if present it will return starting index, not found then it will give error\n",
        "\n",
        "\n",
        "string.find('eaq') "
      ]
    },
    {
      "cell_type": "code",
      "execution_count": null,
      "metadata": {
        "id": "tZd5IH_DrP4t",
        "colab": {
          "base_uri": "https://localhost:8080/",
          "height": 166
        },
        "outputId": "f3510352-9342-4ff5-a1c4-398fb40370cd"
      },
      "outputs": [
        {
          "output_type": "error",
          "ename": "ValueError",
          "evalue": "ignored",
          "traceback": [
            "\u001b[0;31m---------------------------------------------------------------------------\u001b[0m",
            "\u001b[0;31mValueError\u001b[0m                                Traceback (most recent call last)",
            "\u001b[0;32m<ipython-input-71-d507e4bda74d>\u001b[0m in \u001b[0;36m<module>\u001b[0;34m\u001b[0m\n\u001b[0;32m----> 1\u001b[0;31m \u001b[0mstring\u001b[0m\u001b[0;34m.\u001b[0m\u001b[0mindex\u001b[0m\u001b[0;34m(\u001b[0m\u001b[0;34m'eaq'\u001b[0m\u001b[0;34m)\u001b[0m\u001b[0;34m\u001b[0m\u001b[0;34m\u001b[0m\u001b[0m\n\u001b[0m",
            "\u001b[0;31mValueError\u001b[0m: substring not found"
          ]
        }
      ],
      "source": [
        "string.index('eaq')"
      ]
    },
    {
      "cell_type": "code",
      "execution_count": null,
      "metadata": {
        "id": "foaVXpRQrP4t",
        "colab": {
          "base_uri": "https://localhost:8080/",
          "height": 35
        },
        "outputId": "c003f15d-cc83-40d3-dc9e-10011166967e"
      },
      "outputs": [
        {
          "output_type": "execute_result",
          "data": {
            "text/plain": [
              "'We are creating next generation data science eco-system at CloudyML'"
            ],
            "application/vnd.google.colaboratory.intrinsic+json": {
              "type": "string"
            }
          },
          "metadata": {},
          "execution_count": 72
        }
      ],
      "source": [
        "string"
      ]
    },
    {
      "cell_type": "code",
      "execution_count": null,
      "metadata": {
        "id": "QK6TfpWyrP4t",
        "colab": {
          "base_uri": "https://localhost:8080/"
        },
        "outputId": "52417527-4111-424a-df37-cf013c4b26d0"
      },
      "outputs": [
        {
          "output_type": "execute_result",
          "data": {
            "text/plain": [
              "True"
            ]
          },
          "metadata": {},
          "execution_count": 73
        }
      ],
      "source": [
        "### Checking whether string `startswith` or `endswith` a particular substring or not ###\n",
        "string.endswith('CloudyML')"
      ]
    },
    {
      "cell_type": "code",
      "execution_count": null,
      "metadata": {
        "id": "KEUqKWYqrP4t",
        "colab": {
          "base_uri": "https://localhost:8080/"
        },
        "outputId": "a6d34df4-d70e-4fb1-9ba4-4efa10978dd0"
      },
      "outputs": [
        {
          "output_type": "execute_result",
          "data": {
            "text/plain": [
              "True"
            ]
          },
          "metadata": {},
          "execution_count": 74
        }
      ],
      "source": [
        "string.startswith('We')"
      ]
    },
    {
      "cell_type": "code",
      "execution_count": null,
      "metadata": {
        "id": "Rh26zLoUrP4t",
        "colab": {
          "base_uri": "https://localhost:8080/",
          "height": 35
        },
        "outputId": "417499b2-8992-47ed-df6a-53d0924745a8"
      },
      "outputs": [
        {
          "output_type": "execute_result",
          "data": {
            "text/plain": [
              "'We are creating next generation data science eco-system at CloudyML'"
            ],
            "application/vnd.google.colaboratory.intrinsic+json": {
              "type": "string"
            }
          },
          "metadata": {},
          "execution_count": 75
        }
      ],
      "source": [
        "string"
      ]
    },
    {
      "cell_type": "code",
      "execution_count": null,
      "metadata": {
        "id": "LpEf2Vi_rP4t",
        "colab": {
          "base_uri": "https://localhost:8080/",
          "height": 35
        },
        "outputId": "19bd516a-4f74-4731-b044-e884803ac9a6"
      },
      "outputs": [
        {
          "output_type": "execute_result",
          "data": {
            "text/plain": [
              "'WE ARE CREATING NEXT GENERATION DATA SCIENCE ECO-SYSTEM AT CLOUDYML'"
            ],
            "application/vnd.google.colaboratory.intrinsic+json": {
              "type": "string"
            }
          },
          "metadata": {},
          "execution_count": 76
        }
      ],
      "source": [
        "### Converting string to upper case ###\n",
        "string.upper()"
      ]
    },
    {
      "cell_type": "code",
      "execution_count": null,
      "metadata": {
        "id": "C-lc1BM5rP4t",
        "colab": {
          "base_uri": "https://localhost:8080/",
          "height": 35
        },
        "outputId": "2a5acf28-6367-4155-e6ff-ed77b3996731"
      },
      "outputs": [
        {
          "output_type": "execute_result",
          "data": {
            "text/plain": [
              "'We are creating next generation data science eco-system at cloudyml'"
            ],
            "application/vnd.google.colaboratory.intrinsic+json": {
              "type": "string"
            }
          },
          "metadata": {},
          "execution_count": 77
        }
      ],
      "source": [
        "### Converting only first character of string to upper case ###\n",
        "string.capitalize()"
      ]
    },
    {
      "cell_type": "code",
      "execution_count": null,
      "metadata": {
        "id": "nzVmwn0nrP4t",
        "colab": {
          "base_uri": "https://localhost:8080/",
          "height": 35
        },
        "outputId": "4c57b098-0f72-4162-c7cf-0e89db33529b"
      },
      "outputs": [
        {
          "output_type": "execute_result",
          "data": {
            "text/plain": [
              "'We are creating next generation data science eco-system at CloudyML'"
            ],
            "application/vnd.google.colaboratory.intrinsic+json": {
              "type": "string"
            }
          },
          "metadata": {},
          "execution_count": 78
        }
      ],
      "source": [
        "string"
      ]
    },
    {
      "cell_type": "code",
      "execution_count": null,
      "metadata": {
        "id": "eUfso5gHrP4t",
        "colab": {
          "base_uri": "https://localhost:8080/"
        },
        "outputId": "a95b56b9-7dba-4e49-a650-064c989961a9"
      },
      "outputs": [
        {
          "output_type": "execute_result",
          "data": {
            "text/plain": [
              "False"
            ]
          },
          "metadata": {},
          "execution_count": 79
        }
      ],
      "source": [
        "### Checking if string is in lower case or upper case ###\n",
        "string.islower()"
      ]
    },
    {
      "cell_type": "code",
      "execution_count": null,
      "metadata": {
        "id": "oQKoh8lZrP4t",
        "colab": {
          "base_uri": "https://localhost:8080/"
        },
        "outputId": "331b8685-7cab-4cfe-d681-40f90aa5445c"
      },
      "outputs": [
        {
          "output_type": "execute_result",
          "data": {
            "text/plain": [
              "False"
            ]
          },
          "metadata": {},
          "execution_count": 80
        }
      ],
      "source": [
        "string.isupper()"
      ]
    },
    {
      "cell_type": "code",
      "execution_count": null,
      "metadata": {
        "id": "4KJ8oYacrP4t",
        "colab": {
          "base_uri": "https://localhost:8080/"
        },
        "outputId": "c79ad1b8-7d3a-4ba8-bd2a-c04cb819cb11"
      },
      "outputs": [
        {
          "output_type": "execute_result",
          "data": {
            "text/plain": [
              "True"
            ]
          },
          "metadata": {},
          "execution_count": 81
        }
      ],
      "source": [
        "### Checking if string is digit, alpabetic, alpha-numeric ###\n",
        "\"1\".isnumeric()"
      ]
    },
    {
      "cell_type": "code",
      "execution_count": null,
      "metadata": {
        "id": "MQf-h42zrP4u",
        "colab": {
          "base_uri": "https://localhost:8080/"
        },
        "outputId": "92b42474-a9a3-4038-e2d7-280b9d23a135"
      },
      "outputs": [
        {
          "output_type": "execute_result",
          "data": {
            "text/plain": [
              "False"
            ]
          },
          "metadata": {},
          "execution_count": 82
        }
      ],
      "source": [
        "\"1s\".isnumeric()"
      ]
    },
    {
      "cell_type": "code",
      "execution_count": null,
      "metadata": {
        "id": "eDfyzQXRrP4u",
        "colab": {
          "base_uri": "https://localhost:8080/"
        },
        "outputId": "270145f5-473f-493a-cb46-b69f6e90076c"
      },
      "outputs": [
        {
          "output_type": "execute_result",
          "data": {
            "text/plain": [
              "True"
            ]
          },
          "metadata": {},
          "execution_count": 83
        }
      ],
      "source": [
        "\"name\".isalpha()"
      ]
    },
    {
      "cell_type": "code",
      "execution_count": null,
      "metadata": {
        "id": "mfQwti3VrP4u",
        "colab": {
          "base_uri": "https://localhost:8080/"
        },
        "outputId": "f6bf4fae-bbeb-44f4-9657-8cfaf89b2144"
      },
      "outputs": [
        {
          "output_type": "execute_result",
          "data": {
            "text/plain": [
              "False"
            ]
          },
          "metadata": {},
          "execution_count": 84
        }
      ],
      "source": [
        "\"name777\".isalpha()"
      ]
    },
    {
      "cell_type": "code",
      "execution_count": null,
      "metadata": {
        "id": "ib584RVBrP4u",
        "colab": {
          "base_uri": "https://localhost:8080/"
        },
        "outputId": "79da5588-9314-4537-eb61-21ea0663971a"
      },
      "outputs": [
        {
          "output_type": "execute_result",
          "data": {
            "text/plain": [
              "True"
            ]
          },
          "metadata": {},
          "execution_count": 85
        }
      ],
      "source": [
        "\"name777\".isalnum()"
      ]
    },
    {
      "cell_type": "code",
      "execution_count": null,
      "metadata": {
        "id": "nYARRCJ7rP4u",
        "colab": {
          "base_uri": "https://localhost:8080/"
        },
        "outputId": "f496afeb-6e4c-422b-aa9c-b12528c50500"
      },
      "outputs": [
        {
          "output_type": "execute_result",
          "data": {
            "text/plain": [
              "True"
            ]
          },
          "metadata": {},
          "execution_count": 87
        }
      ],
      "source": [
        "string = 'Cloudy ML'\n",
        "string.isalpha()"
      ]
    },
    {
      "cell_type": "code",
      "execution_count": null,
      "metadata": {
        "id": "YsjZDgA8rP4u",
        "colab": {
          "base_uri": "https://localhost:8080/"
        },
        "outputId": "d01cd883-b4b9-499c-ed43-875e84f57bd5"
      },
      "outputs": [
        {
          "output_type": "execute_result",
          "data": {
            "text/plain": [
              "True"
            ]
          },
          "metadata": {},
          "execution_count": 88
        }
      ],
      "source": [
        "string = 'CloudyML'\n",
        "string.isalpha()"
      ]
    },
    {
      "cell_type": "code",
      "execution_count": null,
      "metadata": {
        "id": "SGBdMJeurP4u",
        "colab": {
          "base_uri": "https://localhost:8080/",
          "height": 35
        },
        "outputId": "7c1f4dc7-1a91-4cfb-a5fa-55588c057cc0"
      },
      "outputs": [
        {
          "output_type": "execute_result",
          "data": {
            "text/plain": [
              "'C++ is easy to learn'"
            ],
            "application/vnd.google.colaboratory.intrinsic+json": {
              "type": "string"
            }
          },
          "metadata": {},
          "execution_count": 89
        }
      ],
      "source": [
        "str_ = \"C++ is easy to learn\"\n",
        "str_"
      ]
    },
    {
      "cell_type": "code",
      "execution_count": null,
      "metadata": {
        "id": "o3IMBWfqrP4u",
        "colab": {
          "base_uri": "https://localhost:8080/",
          "height": 35
        },
        "outputId": "beb1a43d-3f17-48c4-8a07-281dd4d3c500"
      },
      "outputs": [
        {
          "output_type": "execute_result",
          "data": {
            "text/plain": [
              "'Python is easy to learn'"
            ],
            "application/vnd.google.colaboratory.intrinsic+json": {
              "type": "string"
            }
          },
          "metadata": {},
          "execution_count": 90
        }
      ],
      "source": [
        "### Replacing substrings ###\n",
        "str_.replace('C++', 'Python')"
      ]
    },
    {
      "cell_type": "code",
      "execution_count": null,
      "metadata": {
        "id": "himKDrvcrP4u",
        "colab": {
          "base_uri": "https://localhost:8080/"
        },
        "outputId": "57a1cf02-c0ba-4877-c49c-d3564fd26a6b"
      },
      "outputs": [
        {
          "output_type": "execute_result",
          "data": {
            "text/plain": [
              "['Python', 'is', 'easy', 'to', 'learn']"
            ]
          },
          "metadata": {},
          "execution_count": 91
        }
      ],
      "source": [
        "### using Split function ###\n",
        "'Python is easy to learn'.split()"
      ]
    },
    {
      "cell_type": "code",
      "execution_count": null,
      "metadata": {
        "id": "cCDcaUzHrP4u",
        "colab": {
          "base_uri": "https://localhost:8080/"
        },
        "outputId": "7ffd5422-cc15-4405-f565-41a637048979"
      },
      "outputs": [
        {
          "output_type": "execute_result",
          "data": {
            "text/plain": [
              "['Python is ', ' to learn']"
            ]
          },
          "metadata": {},
          "execution_count": 92
        }
      ],
      "source": [
        "'Python is easy to learn'.split('easy')"
      ]
    },
    {
      "cell_type": "markdown",
      "metadata": {
        "id": "1RMWovf4rP4u"
      },
      "source": [
        "<a id='14'></a><center> <h3 style=\"background-color:orange; color:white\" ><br>Functions<br></h3>"
      ]
    },
    {
      "cell_type": "markdown",
      "metadata": {
        "id": "7w6F0GNErP4v"
      },
      "source": [
        "* `Purpose of functions is to group some particular lines of code that needs to be executed multiple times`\n",
        "    * keyword `def` introduces a function definition and it must be followed by function name\n",
        "* Function is Reusable piece of code\n",
        "* We create function to solve specific problem"
      ]
    },
    {
      "cell_type": "code",
      "execution_count": null,
      "metadata": {
        "id": "4jqkxfNdrP4z"
      },
      "outputs": [],
      "source": [
        "\"\"\"\n",
        "def function_name():\n",
        "    stetement(s)\n",
        "\"\"\""
      ]
    },
    {
      "cell_type": "code",
      "execution_count": null,
      "metadata": {
        "id": "L8OCfOyPrP4z"
      },
      "outputs": [],
      "source": [
        "# define a function\n",
        "def welcome_message(name):\n",
        "    \"\"\"\n",
        "    This is to represent docstring, \n",
        "    optionsl documentation is a good \n",
        "    programming practice\n",
        "    \"\"\"\n",
        " "
      ]
    },
    {
      "cell_type": "code",
      "execution_count": null,
      "metadata": {
        "id": "asBr2ewErP4z"
      },
      "outputs": [],
      "source": [
        "# call a function with Mukesh and input\n",
        "welcome_message('Mahesh')"
      ]
    },
    {
      "cell_type": "code",
      "execution_count": null,
      "metadata": {
        "id": "EaWRKsE6rP4z",
        "colab": {
          "base_uri": "https://localhost:8080/"
        },
        "outputId": "1e30e06b-f0a6-4568-910c-84f03311166e"
      },
      "outputs": [
        {
          "output_type": "stream",
          "name": "stdout",
          "text": [
            "\n",
            "    This is to represent docstring, \n",
            "    optionsl documentation is a good \n",
            "    programming practice\n",
            "    \n"
          ]
        }
      ],
      "source": [
        "#obseve the output\n",
        "print(welcome_message.__doc__)"
      ]
    },
    {
      "cell_type": "code",
      "execution_count": null,
      "metadata": {
        "id": "Ht8XXDzfrP4z",
        "colab": {
          "base_uri": "https://localhost:8080/"
        },
        "outputId": "bd10e398-ae1b-4c3a-8e7e-c1390aea883e"
      },
      "outputs": [
        {
          "output_type": "stream",
          "name": "stdout",
          "text": [
            "print(value, ..., sep=' ', end='\\n', file=sys.stdout, flush=False)\n",
            "\n",
            "Prints the values to a stream, or to sys.stdout by default.\n",
            "Optional keyword arguments:\n",
            "file:  a file-like object (stream); defaults to the current sys.stdout.\n",
            "sep:   string inserted between values, default a space.\n",
            "end:   string appended after the last value, default a newline.\n",
            "flush: whether to forcibly flush the stream.\n"
          ]
        }
      ],
      "source": [
        "#obseve the output\n",
        "print(print.__doc__)"
      ]
    },
    {
      "cell_type": "markdown",
      "metadata": {
        "id": "YKfp2X2irP4z"
      },
      "source": [
        "* `def` Keyword marking start of function\n",
        "* `function name` to uniquely identify function\n",
        "    * `function naming` follows same `rules of writing identifiers`\n",
        "* `parameters`(arguments) to pass values to a function => totally optional\n",
        "* `()` paranthesis\n",
        "* `colon (:)` start of function\n",
        "* `documentation string`(docstring) describe's what function does => totally optional\n",
        "* `return statement` returns a value from function => totally optional\n",
        "* inside colon is `function definition` it should always be present before function call or get an error"
      ]
    },
    {
      "cell_type": "markdown",
      "metadata": {
        "id": "hpC8Bl5arP4z"
      },
      "source": [
        "# `Type of Functions`\n",
        "|Built-in|User-Defined|Lambda Functions|Recursion Function\n",
        "|----|----|---|---|\n",
        "|`print()` | `add_two_number(defined by user i.e. you)`|``|``|\n",
        "|`range()` | ``|``|``|\n",
        "| `append()`|`` |``|``|\n",
        "| `extend()`|`` |``|``|"
      ]
    },
    {
      "cell_type": "code",
      "execution_count": null,
      "metadata": {
        "id": "TbWL-gm-rP4z"
      },
      "outputs": [],
      "source": [
        "### using print ###\n",
        "# function to add two number which are as 3 and 4\n",
        "def two_number_addition():\n",
        " # in total variable store adition of 3 + 4\n",
        "  total = 3+4\n",
        "  # print total variable \n",
        "  print(total)"
      ]
    },
    {
      "cell_type": "code",
      "execution_count": null,
      "metadata": {
        "id": "4a3G3_cDrP40"
      },
      "outputs": [],
      "source": [
        "### using return ###\n",
        "def two_number_addition_with_return():\n",
        "    total = 3 + 4\n",
        "    return (total) #returning value of total\n",
        "\n",
        "\n",
        "# observe output"
      ]
    },
    {
      "cell_type": "code",
      "execution_count": null,
      "metadata": {
        "id": "hrVwYigOrP40",
        "colab": {
          "base_uri": "https://localhost:8080/"
        },
        "outputId": "fb6c196d-56b0-49c8-f5b0-e5323e5d9631"
      },
      "outputs": [
        {
          "output_type": "stream",
          "name": "stdout",
          "text": [
            "7\n"
          ]
        }
      ],
      "source": [
        "print_output = two_number_addition()"
      ]
    },
    {
      "cell_type": "code",
      "execution_count": null,
      "metadata": {
        "id": "1I6kqwXcrP40"
      },
      "outputs": [],
      "source": [
        "# see this variable cannot store above value as value was not saved\n",
        "print_output"
      ]
    },
    {
      "cell_type": "markdown",
      "metadata": {
        "id": "SHvIgCE6rP40"
      },
      "source": [
        "See above variable cannot store above value as return was not used in fucntion, so every calculation is being done inside the function two_number_addition() and if you come out of function thouse value do not exist, to solv this problem we use `return`, after using return we can store output of function for other use in our program"
      ]
    },
    {
      "cell_type": "code",
      "execution_count": null,
      "metadata": {
        "id": "-fBWnS8-rP40",
        "colab": {
          "base_uri": "https://localhost:8080/"
        },
        "outputId": "374207c9-2eea-4ae5-fa4b-01aef1a97654"
      },
      "outputs": [
        {
          "output_type": "stream",
          "name": "stdout",
          "text": [
            "7\n"
          ]
        }
      ],
      "source": [
        "print(two_number_addition_with_return())\n",
        "return_output = two_number_addition_with_return()"
      ]
    },
    {
      "cell_type": "code",
      "execution_count": null,
      "metadata": {
        "id": "LbZu9vBprP40",
        "colab": {
          "base_uri": "https://localhost:8080/"
        },
        "outputId": "6a0bd293-5f84-483b-8f9e-27c980dfcec0"
      },
      "outputs": [
        {
          "output_type": "execute_result",
          "data": {
            "text/plain": [
              "7"
            ]
          },
          "metadata": {},
          "execution_count": 111
        }
      ],
      "source": [
        "# as return was used in two_number_addition_with_return() function so we can take out value \n",
        "return_output"
      ]
    },
    {
      "cell_type": "markdown",
      "metadata": {
        "id": "qy_mlgUorP40"
      },
      "source": [
        "Here in above code value to funtion is being returned and we are saving that returned value to a variable return_output for maybee any other further use. "
      ]
    },
    {
      "cell_type": "markdown",
      "metadata": {
        "id": "06kIfiPsrP40"
      },
      "source": [
        "# **`Passing Parameters to function`**"
      ]
    },
    {
      "cell_type": "code",
      "execution_count": null,
      "metadata": {
        "id": "5AnZuBkLrP40"
      },
      "outputs": [],
      "source": [
        "# defining a function\n",
        "def welcome_message(name):\n",
        "    return 'Welcome to Python Funcions!! ' + name\n",
        "    \n",
        "# calling function in python with name Akash\n"
      ]
    },
    {
      "cell_type": "code",
      "execution_count": null,
      "metadata": {
        "id": "QWOG3EOBrP40",
        "colab": {
          "base_uri": "https://localhost:8080/",
          "height": 35
        },
        "outputId": "734b2813-b6b1-4e93-8e22-e3395fde9cba"
      },
      "outputs": [
        {
          "output_type": "execute_result",
          "data": {
            "text/plain": [
              "'Welcome to Python Funcions!! Krishna'"
            ],
            "application/vnd.google.colaboratory.intrinsic+json": {
              "type": "string"
            }
          },
          "metadata": {},
          "execution_count": 113
        }
      ],
      "source": [
        "# reusing above function (see it as a login windo of a website)\n",
        "welcome_message('Krishna')"
      ]
    },
    {
      "cell_type": "markdown",
      "metadata": {
        "id": "TI0CMNN3rP41"
      },
      "source": [
        "# ***`Passing Default Parameter value to function`*** <br>\n",
        "Works in case you dont provide any value to the required parameter\n",
        "* This is good practice to provide default value to a parameter\n",
        "    * As it reduces many errors"
      ]
    },
    {
      "cell_type": "code",
      "execution_count": null,
      "metadata": {
        "id": "nSw9ggNCrP41",
        "colab": {
          "base_uri": "https://localhost:8080/",
          "height": 35
        },
        "outputId": "5a70bd81-c41d-4c25-85d2-d2c13ee0416a"
      },
      "outputs": [
        {
          "output_type": "execute_result",
          "data": {
            "text/plain": [
              "'Welcome to Python Funcions!! Akash'"
            ],
            "application/vnd.google.colaboratory.intrinsic+json": {
              "type": "string"
            }
          },
          "metadata": {},
          "execution_count": 114
        }
      ],
      "source": [
        "def welcome_message(name='Learner'):\n",
        "    return 'Welcome to Python Funcions!! ' + name\n",
        "    \n",
        "# calling function in python\n",
        "welcome_message('Akash')"
      ]
    },
    {
      "cell_type": "code",
      "execution_count": null,
      "metadata": {
        "id": "JPOpKKy5rP41",
        "colab": {
          "base_uri": "https://localhost:8080/",
          "height": 35
        },
        "outputId": "f1c9fcbc-b650-4bfe-dbb9-7da1d082fb9f"
      },
      "outputs": [
        {
          "output_type": "execute_result",
          "data": {
            "text/plain": [
              "'Welcome to Python Funcions!! Learner'"
            ],
            "application/vnd.google.colaboratory.intrinsic+json": {
              "type": "string"
            }
          },
          "metadata": {},
          "execution_count": 115
        }
      ],
      "source": [
        "# not providing parameter value, now it will take default one i.e. Learner\n",
        "welcome_message()"
      ]
    },
    {
      "cell_type": "markdown",
      "metadata": {
        "id": "JzTJaFZirP41"
      },
      "source": [
        "# ***`Positional Arguments`*** \n",
        "Most arguments are identified by their position in function call\n",
        "* Say `print(x,y)` will give different results from `print(y,x)`\n",
        "\n",
        "What ever sequence is given while defining a function values must be taken in that sequence only\n",
        "* Otherwise use argument name **`(keyword arguments)`** to take values\n",
        "* We first define `positional argument` and then `keyword arguments`\n"
      ]
    },
    {
      "cell_type": "code",
      "execution_count": null,
      "metadata": {
        "id": "LpgDIWcYrP41"
      },
      "outputs": [],
      "source": [
        "#### Observe every output from here onwords #####\n",
        "\n",
        "def substraction_function(small_number,large_number):\n",
        "    difference = large_number - small_number\n",
        "    return difference"
      ]
    },
    {
      "cell_type": "code",
      "execution_count": null,
      "metadata": {
        "id": "AX6Ku1j9rP41",
        "colab": {
          "base_uri": "https://localhost:8080/"
        },
        "outputId": "f5645d6e-6d54-4010-f4ba-c0fde65dd0c8"
      },
      "outputs": [
        {
          "output_type": "execute_result",
          "data": {
            "text/plain": [
              "77"
            ]
          },
          "metadata": {},
          "execution_count": 117
        }
      ],
      "source": [
        "# passing arguments in right order\n",
        "substraction_function(7,84)"
      ]
    },
    {
      "cell_type": "code",
      "execution_count": null,
      "metadata": {
        "id": "9Vzlfk4frP41",
        "colab": {
          "base_uri": "https://localhost:8080/"
        },
        "outputId": "7942329f-3ef4-4587-825a-2e69fb6d10b9"
      },
      "outputs": [
        {
          "output_type": "execute_result",
          "data": {
            "text/plain": [
              "-77"
            ]
          },
          "metadata": {},
          "execution_count": 118
        }
      ],
      "source": [
        "# passing arguments in wrong order (produces negative result)\n",
        "substraction_function(84,7)"
      ]
    },
    {
      "cell_type": "code",
      "execution_count": null,
      "metadata": {
        "id": "zSWT96GurP41",
        "colab": {
          "base_uri": "https://localhost:8080/"
        },
        "outputId": "abac39c8-3060-42ca-b3e2-5de63c45aaef"
      },
      "outputs": [
        {
          "output_type": "execute_result",
          "data": {
            "text/plain": [
              "77"
            ]
          },
          "metadata": {},
          "execution_count": 119
        }
      ],
      "source": [
        "# always pass arguments using there name(keyword arguments) then order does not matter\n",
        "substraction_function(large_number=84,small_number=7)"
      ]
    },
    {
      "cell_type": "code",
      "execution_count": null,
      "metadata": {
        "id": "fkwtjVwGrP41",
        "colab": {
          "base_uri": "https://localhost:8080/"
        },
        "outputId": "25d8ded4-5023-44a9-eab4-84665ad28507"
      },
      "outputs": [
        {
          "output_type": "execute_result",
          "data": {
            "text/plain": [
              "77"
            ]
          },
          "metadata": {},
          "execution_count": 120
        }
      ],
      "source": [
        "# defining positional argument and then keyword arguments => valid in python\n",
        "substraction_function(7,large_number=84)"
      ]
    },
    {
      "cell_type": "code",
      "execution_count": null,
      "metadata": {
        "id": "Or_Jf_6KrP41",
        "colab": {
          "base_uri": "https://localhost:8080/",
          "height": 131
        },
        "outputId": "a360d038-c7b9-4032-b7f7-0711b0b09ac1"
      },
      "outputs": [
        {
          "output_type": "error",
          "ename": "SyntaxError",
          "evalue": "ignored",
          "traceback": [
            "\u001b[0;36m  File \u001b[0;32m\"<ipython-input-121-731395e41054>\"\u001b[0;36m, line \u001b[0;32m2\u001b[0m\n\u001b[0;31m    substraction_function(large_number=84,7)\u001b[0m\n\u001b[0m                                         ^\u001b[0m\n\u001b[0;31mSyntaxError\u001b[0m\u001b[0;31m:\u001b[0m positional argument follows keyword argument\n"
          ]
        }
      ],
      "source": [
        "# defining keyword arguments and then positional argument => not vaid in python\n",
        "substraction_function(large_number=84,7)"
      ]
    },
    {
      "cell_type": "markdown",
      "metadata": {
        "id": "Y5UrdLZlrP41"
      },
      "source": [
        "# ***`Variable Length Arguments`***\n",
        "Used when we need more flexibility while defining functions like we don't know in advance fixed number of arguments\n",
        "* Python allows us to make function calls with variable length arguments\n",
        "* In argument use an **(*)** astrick sign before argument"
      ]
    },
    {
      "cell_type": "code",
      "execution_count": null,
      "metadata": {
        "id": "6-Sm8XtorP42"
      },
      "outputs": [],
      "source": [
        "##### Observe code from here ######\n",
        "\n",
        "# defining a randome function using (*args)\n",
        "def arguments_function(*args):  # => used for positional arguments will variable lengths\n",
        "    for i in args:\n",
        "        print(i)"
      ]
    },
    {
      "cell_type": "code",
      "execution_count": null,
      "metadata": {
        "id": "aGg6U4SCrP42",
        "colab": {
          "base_uri": "https://localhost:8080/"
        },
        "outputId": "466db96a-6d26-4832-f3ff-b988c2f89a53"
      },
      "outputs": [
        {
          "output_type": "stream",
          "name": "stdout",
          "text": [
            "1\n",
            "2\n",
            "3\n",
            "4\n",
            "5\n"
          ]
        }
      ],
      "source": [
        "# passing n-number of positional arguments to fucntion as we are using (*args)\n",
        "arguments_function(1,2,3,4,5)"
      ]
    },
    {
      "cell_type": "markdown",
      "metadata": {
        "id": "yKxx6-FIrP42"
      },
      "source": [
        "* Everything given to function if it is using *args, arguments will be saved as `tuples`"
      ]
    },
    {
      "cell_type": "code",
      "execution_count": null,
      "metadata": {
        "id": "qE5Zn3ZnrP42"
      },
      "outputs": [],
      "source": [
        "#### Observe every output from here onwords #####\n",
        "# defining a randome function using (**kwargs)\n",
        "\n",
        "def keyword_arguments_function(**kwargs): # => used for keyword arguments will variable lengths\n",
        "    for key,value in kwargs.items():\n",
        "        print(key,value)"
      ]
    },
    {
      "cell_type": "code",
      "execution_count": null,
      "metadata": {
        "id": "m-EYKFbvrP42",
        "colab": {
          "base_uri": "https://localhost:8080/"
        },
        "outputId": "f853c008-84b4-4edc-a53b-a2918fa1541e"
      },
      "outputs": [
        {
          "output_type": "stream",
          "name": "stdout",
          "text": [
            "a 1\n",
            "b 2\n",
            "c 3\n",
            "d 4\n",
            "e 5\n"
          ]
        }
      ],
      "source": [
        "# passing n-number of keyword arguments to fucntion as we are using (*args)\n",
        "keyword_arguments_function(a=1,b=2,c=3,d=4,e=5)"
      ]
    },
    {
      "cell_type": "markdown",
      "metadata": {
        "id": "ACo85WuXrP42"
      },
      "source": [
        "* Everything given to function if it is using *kwargs, arguments will be saved as `dict`"
      ]
    },
    {
      "cell_type": "markdown",
      "metadata": {
        "id": "_NUdf1OsrP42"
      },
      "source": [
        "# ***`Scope of Variables`*** means that part of program where we can access particular variable\n",
        "* `Local Variable` => variables defined inside a function and can be only accessed from inside of that particular function\n",
        "* `Global Variable` => variables defined outside a function and can be accessed throughout program\n",
        "\n",
        "Let's define a global variable, `\"global_variable\"` outside function\n",
        "* We will return its value using a function `\"randome_function\"` and see that we would be able to access its value using that function also"
      ]
    },
    {
      "cell_type": "code",
      "execution_count": null,
      "metadata": {
        "id": "e0BDQ-ccrP42"
      },
      "outputs": [],
      "source": [
        "#### Observe every output from here onwords #####\n",
        "# defining a global variable\n",
        "global_variable = 'variable outside of function'\n",
        "\n",
        "# defining function\n",
        "def random_function():\n",
        "    # accessing variable which is outside of this function\n",
        "    return global_variable"
      ]
    },
    {
      "cell_type": "code",
      "execution_count": null,
      "metadata": {
        "id": "2hYmUr5BrP42",
        "colab": {
          "base_uri": "https://localhost:8080/",
          "height": 35
        },
        "outputId": "154309bc-0570-4607-eb1e-20e93663f05a"
      },
      "outputs": [
        {
          "output_type": "execute_result",
          "data": {
            "text/plain": [
              "'variable outside of function'"
            ],
            "application/vnd.google.colaboratory.intrinsic+json": {
              "type": "string"
            }
          },
          "metadata": {},
          "execution_count": 132
        }
      ],
      "source": [
        "random_function()"
      ]
    },
    {
      "cell_type": "markdown",
      "metadata": {
        "id": "w7AB55isrP42"
      },
      "source": [
        "`See we can acess the data of golbal variable from Inside of the Function`\n",
        "\n",
        "# **`=> Let's see what will happen if we try to change value of global variable from Inside of the Function`**"
      ]
    },
    {
      "cell_type": "code",
      "execution_count": null,
      "metadata": {
        "id": "1cOFox6FrP43"
      },
      "outputs": [],
      "source": [
        "#### Observe every output from here onwords #####\n",
        "# defining a global variable\n",
        "global_variable = 'variable outside of function'\n",
        "\n",
        "# defining function\n",
        "def random_function():\n",
        "    # changing value of global variable from inside of the function\n",
        "    global_variable = 'changing variable outside of function from inside of function'\n",
        "    # accessing variable which is outside of this function\n",
        "    return global_variable"
      ]
    },
    {
      "cell_type": "code",
      "execution_count": null,
      "metadata": {
        "id": "8ScwL6OUrP43",
        "colab": {
          "base_uri": "https://localhost:8080/"
        },
        "outputId": "5b0db965-57a4-4a8e-bbfe-3d7654c2efdc"
      },
      "outputs": [
        {
          "output_type": "stream",
          "name": "stdout",
          "text": [
            "changing variable outside of function from inside of function\n",
            "variable outside of function\n"
          ]
        }
      ],
      "source": [
        "print(random_function())\n",
        "print(global_variable)"
      ]
    },
    {
      "cell_type": "markdown",
      "metadata": {
        "id": "ePWwQg-ErP43"
      },
      "source": [
        "It does not mean that we can change global variable from inside the function but this is somthing different story going on here:\n",
        "* function named as random_function()'s, global_variable have limited scope which is only of inside its function, that is why when we print function it returns the local variable value not the changed global variable value \n",
        "* variable defined locally is taking precedence over variable defined globally as there name are same\n",
        "\n",
        "The only shortcomming with local variable is it stayes inside the function, the minute you come out of function you dont get the updated value <br>\n",
        "So in above code we are not abble to change global variable locally, but we have made a new variable which is only working inside of the function. <br>\n",
        "Approach we shoudl follow is given bellow:"
      ]
    },
    {
      "cell_type": "markdown",
      "metadata": {
        "id": "ySj5UsYdrP43"
      },
      "source": [
        "# **`Updating value of global variable from inside of any user_defined function using  Global Keyword`** <br>\n",
        "`global` keyword tells program that there is no need to make a new variable locally but the variable we are using locally is a global variable, which has benn defined"
      ]
    },
    {
      "cell_type": "code",
      "execution_count": null,
      "metadata": {
        "id": "mGro89w7rP43"
      },
      "outputs": [],
      "source": [
        "#### Observe every output from here onwords #####\n",
        "# defining a global variable\n",
        "global_variable = 'variable outside of function'\n",
        "\n",
        "# defining function\n",
        "def random_function():\n",
        "    # telling function which variables is/are global\n",
        "    global global_variable\n",
        "    # changing value of global variable from inside of the function\n",
        "    global_variable = 'changing variable outside of function from inside of function'\n",
        "    # accessing variable which is outside of this function\n",
        "    return global_variable"
      ]
    },
    {
      "cell_type": "code",
      "execution_count": null,
      "metadata": {
        "id": "kE3EOtIfrP43",
        "colab": {
          "base_uri": "https://localhost:8080/"
        },
        "outputId": "9eb7d620-7300-4b2a-b42e-70cdcdca35c6"
      },
      "outputs": [
        {
          "output_type": "stream",
          "name": "stdout",
          "text": [
            "changing variable outside of function from inside of function\n",
            "changing variable outside of function from inside of function\n"
          ]
        }
      ],
      "source": [
        "print(random_function())\n",
        "print(global_variable)"
      ]
    },
    {
      "cell_type": "markdown",
      "metadata": {
        "id": "rcFgfqTwrP43"
      },
      "source": [
        "<a id='15'></a><center> <h3 style=\"background-color:orange; color:white\" ><br>Lambda Expressions<br></h3>"
      ]
    },
    {
      "cell_type": "markdown",
      "metadata": {
        "id": "WEq89rm1rP43"
      },
      "source": [
        "`Lambda function can have any number of arguments but only one expression, which is evaluated and returned`\n",
        "* `Lambda Functions` are syntactically restricted to a single expression\n",
        "* More efficient than function when task of  function is small\n",
        "* Do not use Lambda functions when task is complex\n",
        "* It works best when you have to call a function more of times but execution task is simple\n",
        "\n",
        "`Write a regular function instead of a lambda when function is to be used multiple times`\n",
        "* `Key`= Lambda must be used once\n",
        "* Lambdas are supposed to be used for just once and thus there is no reason to assign a lambda to a variable.\n",
        "* Major reason for avoiding assigning a lambda to a variable is for debugging/maintainability purposes, especially in a production/teamwork environment\n",
        "\n",
        "\n",
        "* Use of function is good choice when assignment of variable is compulsary \n",
        "* While debugging if any error accurs it will point out to the function creating error\n",
        "* In case of lambda function it will throw `lambda error` and ther can be many lambda in out code which makes is difficult to debug error "
      ]
    },
    {
      "cell_type": "code",
      "execution_count": null,
      "metadata": {
        "id": "xg6eKbLRaRJH"
      },
      "outputs": [],
      "source": []
    },
    {
      "cell_type": "code",
      "execution_count": null,
      "metadata": {
        "id": "VXxZTJZirP43",
        "colab": {
          "base_uri": "https://localhost:8080/"
        },
        "outputId": "91b66d48-037f-45a5-aad2-6b97b34e09b8"
      },
      "outputs": [
        {
          "output_type": "execute_result",
          "data": {
            "text/plain": [
              "150"
            ]
          },
          "metadata": {},
          "execution_count": 2
        }
      ],
      "source": [
        "# define a function that adds 100 to number that is passed as an argument\n",
        "def add100(n):\n",
        "  res = n+100\n",
        "  return res\n",
        "add100(50)\n"
      ]
    },
    {
      "cell_type": "code",
      "execution_count": null,
      "metadata": {
        "id": "U5_RDfAirP43",
        "colab": {
          "base_uri": "https://localhost:8080/"
        },
        "outputId": "03f46a9f-df5b-4a9e-b45e-82295409098e"
      },
      "outputs": [
        {
          "output_type": "stream",
          "name": "stdout",
          "text": [
            "Value 1 : 101\n",
            "Value 2 : 122\n"
          ]
        }
      ],
      "source": [
        "# lambda function named as increaseBy_100 that adds 100 to number that is passed as an argument\n",
        "increaseBy_100 = lambda x: x+100 \n",
        "# print value for increaseBy_100(1), using f string\n",
        "print(f\"Value 1 : {increaseBy_100(1)}\")\n",
        "# print value for increaseBy_100(22), using f string\n",
        "print(f\"Value 2 : {increaseBy_100(22)}\")"
      ]
    },
    {
      "cell_type": "markdown",
      "metadata": {
        "id": "2nDrVMrorP44"
      },
      "source": [
        "# **`Lambda function with two arguments`**"
      ]
    },
    {
      "cell_type": "code",
      "execution_count": null,
      "metadata": {
        "id": "3hb3McqDrP44",
        "colab": {
          "base_uri": "https://localhost:8080/"
        },
        "outputId": "a50d8ff4-2172-4d25-8e46-6392872b3618"
      },
      "outputs": [
        {
          "name": "stdout",
          "output_type": "stream",
          "text": [
            "Enter A:8\n",
            "Enter B:9\n"
          ]
        },
        {
          "output_type": "execute_result",
          "data": {
            "text/plain": [
              "-1"
            ]
          },
          "metadata": {},
          "execution_count": 14
        }
      ],
      "source": [
        "# write a lambda fucntion named as subtract_two_number which can take any two number as input and subtract thouse two number\n",
        "subtract_two_number = lambda a,b : a-b\n",
        "arg1=int(input(\"Enter A:\"))\n",
        "arg2=int(input(\"Enter B:\"))\n",
        "subtract_two_number(arg1,arg2)"
      ]
    },
    {
      "cell_type": "markdown",
      "metadata": {
        "id": "i5Q_GCA1rP44"
      },
      "source": [
        "# ***`filter() function`*** takes in a function and a list as arguments <br>\n",
        "`It filters out all elements of a sequence, for which function returns True`"
      ]
    },
    {
      "cell_type": "code",
      "execution_count": null,
      "metadata": {
        "id": "s8waRBHerP44"
      },
      "outputs": [],
      "source": [
        "#### Observe every output from here onwords #####\n",
        "# function to check if given number is even \n",
        "def divisible_two(x):\n",
        "    if x%2 == 0:\n",
        "        return True #odd \n",
        "    else:\n",
        "        return False #not odd\n",
        "    \n",
        "# given list to filter for odd number\n",
        "check_list = [4,8,0,11,456,777,999,777]"
      ]
    },
    {
      "cell_type": "code",
      "execution_count": null,
      "metadata": {
        "id": "OSf2QniarP44",
        "colab": {
          "base_uri": "https://localhost:8080/"
        },
        "outputId": "a5a8a6dc-5dc9-4718-ddfe-bc5255306c0c"
      },
      "outputs": [
        {
          "output_type": "execute_result",
          "data": {
            "text/plain": [
              "[4, 8, 0, 456]"
            ]
          },
          "metadata": {},
          "execution_count": 18
        }
      ],
      "source": [
        "#### Observe every output from here onwords #####\n",
        "odd_number_filtered_list = list(filter(divisible_two,check_list))\n",
        "odd_number_filtered_list"
      ]
    },
    {
      "cell_type": "code",
      "execution_count": null,
      "metadata": {
        "id": "0kta1jnvrP44",
        "colab": {
          "base_uri": "https://localhost:8080/"
        },
        "outputId": "8dc48c18-d62c-48df-a425-0261aa8626b7"
      },
      "outputs": [
        {
          "output_type": "execute_result",
          "data": {
            "text/plain": [
              "[4, 8, 0, 456]"
            ]
          },
          "metadata": {},
          "execution_count": 19
        }
      ],
      "source": [
        "# writing lambda function for above code (we need not to define function sepratly)\n",
        "odd_number_filtered_list_using_lambda = list(filter(lambda x:(x%2==0),check_list))\n",
        "odd_number_filtered_list_using_lambda"
      ]
    },
    {
      "cell_type": "markdown",
      "metadata": {
        "id": "mx2z069urP44"
      },
      "source": [
        "How easy lamda can make our task now understand\n"
      ]
    },
    {
      "cell_type": "markdown",
      "metadata": {
        "id": "Vv_hbB-arP45"
      },
      "source": [
        "# ***`map() function`*** takes in a function and a list as argument\n",
        "* Function is called with a lambda function and a list\n",
        "* A new list is returned which contains all lambda modified items returned by that function for each item"
      ]
    },
    {
      "cell_type": "code",
      "execution_count": null,
      "metadata": {
        "id": "pTnlcYcirP45",
        "colab": {
          "base_uri": "https://localhost:8080/"
        },
        "outputId": "1112713a-0b0e-4cb4-c36c-38b8d9268d80"
      },
      "outputs": [
        {
          "output_type": "execute_result",
          "data": {
            "text/plain": [
              "[16, 32, 0, 44, 1824, 3108, 3996, 3108]"
            ]
          },
          "metadata": {},
          "execution_count": 20
        }
      ],
      "source": [
        "#### Observe every output from here onwords #####\n",
        "check_list = [4,8,0,11,456,777,999,777]\n",
        "\n",
        "#increse every element of check_list by 4\n",
        "mapped_check_list = list(map(lambda x:x*4,check_list ))\n",
        "mapped_check_list"
      ]
    },
    {
      "cell_type": "code",
      "execution_count": null,
      "metadata": {
        "id": "UjkGFcOurP45",
        "colab": {
          "base_uri": "https://localhost:8080/"
        },
        "outputId": "3af508e2-02a3-4022-f6ea-dca385ae13b8"
      },
      "outputs": [
        {
          "output_type": "execute_result",
          "data": {
            "text/plain": [
              "['North', 'See', 'King', 'Himalayas', 'East']"
            ]
          },
          "metadata": {},
          "execution_count": 23
        }
      ],
      "source": [
        "#### Observe every output from here onwords #####\n",
        "check_list = ['north','see','king','himalayas','east']\n",
        "# capatilize first letter of each  word in the original list\n",
        "mapped_check_list = list(map(lambda x: x[0].upper()+x[1:],check_list)) \n",
        "mapped_check_list"
      ]
    },
    {
      "cell_type": "markdown",
      "metadata": {
        "id": "DNAZjcndrP45"
      },
      "source": [
        "# **`reduce() Function`** takes in a function and a list as argument\n",
        "* The function is called with a lambda function and a list\n",
        "* A new reduced result is returned\n",
        "* This performs a repetitive operation over pairs of list\n",
        "\n",
        "`Reduce Function will always take two parameters`"
      ]
    },
    {
      "cell_type": "code",
      "execution_count": null,
      "metadata": {
        "id": "C2cKnRQRrP45",
        "colab": {
          "base_uri": "https://localhost:8080/"
        },
        "outputId": "7cf1769c-c3d0-44dc-b051-b6b7825cab21"
      },
      "outputs": [
        {
          "output_type": "execute_result",
          "data": {
            "text/plain": [
              "3032"
            ]
          },
          "metadata": {},
          "execution_count": 24
        }
      ],
      "source": [
        "#### Observe every output from here onwords #####\n",
        "#importing reduce using functools\n",
        "from functools import reduce\n",
        "\n",
        "\n",
        "check_list = [4,8,0,11,456,777,999,777]\n",
        "#using reduce function to find sum of numbers in check_list\n",
        "sum_of_list = reduce((lambda x, y : x + y),check_list) \n",
        "sum_of_list"
      ]
    },
    {
      "cell_type": "code",
      "execution_count": null,
      "metadata": {
        "id": "AxB-1xvYrP45",
        "colab": {
          "base_uri": "https://localhost:8080/"
        },
        "outputId": "6671bf13-5652-4ce5-e8e0-09da11719448"
      },
      "outputs": [
        {
          "output_type": "execute_result",
          "data": {
            "text/plain": [
              "999"
            ]
          },
          "metadata": {},
          "execution_count": 25
        }
      ],
      "source": [
        "#### Observe every output from here onwords #####\n",
        "check_list = [4,8,0,11,456,777,999,777]\n",
        "#using reduce function to find largest number in check_list\n",
        "largest_number = reduce((lambda x, y: x if (x > y) else y ),check_list) \n",
        "largest_number"
      ]
    },
    {
      "cell_type": "markdown",
      "metadata": {
        "id": "hZ15dPrLrP45"
      },
      "source": [
        "<a id='16'></a><center> <h3 style=\"background-color:orange; color:white\" ><br>Comprehensions<br></h3>"
      ]
    },
    {
      "cell_type": "markdown",
      "metadata": {
        "id": "RGpZ6Hskei6B"
      },
      "source": [
        "### **`Watch Video 8: List Set Dict Comprehension`**"
      ]
    },
    {
      "cell_type": "markdown",
      "metadata": {
        "id": "Q50giP1JSRht"
      },
      "source": [
        "#### **BELOW CODE IS GIVEN FOR YOU TO OBSERVE HOW COMPREHENSIONS WORK.**"
      ]
    },
    {
      "cell_type": "markdown",
      "metadata": {
        "id": "kPw6N8X_rP45"
      },
      "source": [
        "# **`Type of Comprehensions`**:\n",
        "1. `List Comprehension`\n",
        "2. `Set Comprehension` \n",
        "3. `Dict Comprehension`"
      ]
    },
    {
      "cell_type": "markdown",
      "metadata": {
        "id": "BmN5iDJyrP45"
      },
      "source": [
        "# 1. List Comprehension\n",
        "`Syntex:`\n",
        "\n",
        "**[expression for item in iterable]**\n",
        "\n",
        "\n",
        "**Expanded Form**<br>\n",
        "for item in iterable: <br>\n",
        "....expression"
      ]
    },
    {
      "cell_type": "markdown",
      "metadata": {
        "id": "DF7cNPLerP45"
      },
      "source": [
        "**`Converet all element of below tuple in upper case and change datatype into list`**"
      ]
    },
    {
      "cell_type": "code",
      "execution_count": null,
      "metadata": {
        "id": "v9pd74p_rP45",
        "colab": {
          "base_uri": "https://localhost:8080/"
        },
        "outputId": "4f228ce6-b812-4c29-d896-c55c876db302"
      },
      "outputs": [
        {
          "output_type": "execute_result",
          "data": {
            "text/plain": [
              "tuple"
            ]
          },
          "metadata": {},
          "execution_count": 26
        }
      ],
      "source": [
        "animals = ('bird', 'snake', 'dog', 'turtle', 'cat', 'hamster')\n",
        "type(animals)"
      ]
    },
    {
      "cell_type": "code",
      "execution_count": null,
      "metadata": {
        "id": "_8Vxa7vbrP46",
        "colab": {
          "base_uri": "https://localhost:8080/"
        },
        "outputId": "3aecf3bc-31ce-4667-9004-4d7d05ad3bde"
      },
      "outputs": [
        {
          "output_type": "execute_result",
          "data": {
            "text/plain": [
              "['BIRD', 'SNAKE', 'DOG', 'TURTLE', 'CAT', 'HAMSTER']"
            ]
          },
          "metadata": {},
          "execution_count": 27
        }
      ],
      "source": [
        "# good => way using list comprehension\n",
        "\n",
        "[x.upper()for x in animals]"
      ]
    },
    {
      "cell_type": "code",
      "execution_count": null,
      "metadata": {
        "id": "cWkErTE-rP46",
        "colab": {
          "base_uri": "https://localhost:8080/"
        },
        "outputId": "a34180c4-a50d-4097-ba66-6e70c35cef64"
      },
      "outputs": [
        {
          "output_type": "execute_result",
          "data": {
            "text/plain": [
              "['BIRD', 'SNAKE', 'DOG', 'TURTLE', 'CAT', 'HAMSTER']"
            ]
          },
          "metadata": {},
          "execution_count": 28
        }
      ],
      "source": [
        "# Not Good way => using list comprehension\n",
        "animalss = []\n",
        "for x in animals:\n",
        "    animalss.append(x.upper())\n",
        "animalss\n"
      ]
    },
    {
      "cell_type": "markdown",
      "metadata": {
        "id": "qODAY6rvrP46"
      },
      "source": [
        "# List Comprehension for Conditional statement or For Filtering</b>\n",
        "\n",
        "`Syntex:`\n",
        "\n",
        "**[expression `for` item in iterable `if` some_condition]**\n",
        "\n",
        "`Expended Form:`\n",
        "\n",
        "`for` item in iterable:\n",
        "<br>___    `if` some_condition:\n",
        "<br>________        expression "
      ]
    },
    {
      "cell_type": "code",
      "execution_count": null,
      "metadata": {
        "id": "aiz3zeKzrP46"
      },
      "outputs": [],
      "source": [
        "#find the prime number and square them\n",
        "\n",
        "primes = [2,3,4,5,6,8,7,9]"
      ]
    },
    {
      "cell_type": "code",
      "execution_count": null,
      "metadata": {
        "id": "wzASeS9erP46",
        "colab": {
          "base_uri": "https://localhost:8080/"
        },
        "outputId": "6fe5bfbb-5ed6-42f6-b55a-6c773cbb6f33"
      },
      "outputs": [
        {
          "output_type": "execute_result",
          "data": {
            "text/plain": [
              "[4, 16, 36, 64]"
            ]
          },
          "metadata": {},
          "execution_count": 30
        }
      ],
      "source": [
        "# good\n",
        "[x*x for x in primes if x%2 == 0]"
      ]
    },
    {
      "cell_type": "code",
      "execution_count": null,
      "metadata": {
        "id": "3j3aW1LLrP46",
        "colab": {
          "base_uri": "https://localhost:8080/"
        },
        "outputId": "2b3585d9-5419-4fa1-db62-53f8ef8346a8"
      },
      "outputs": [
        {
          "output_type": "execute_result",
          "data": {
            "text/plain": [
              "[4, 16, 36, 64]"
            ]
          },
          "metadata": {},
          "execution_count": 31
        }
      ],
      "source": [
        "# not good\n",
        "ls = []\n",
        "for x in primes:\n",
        "    if x % 2 == 0:\n",
        "        ls.append(x*x)\n",
        "ls"
      ]
    },
    {
      "cell_type": "markdown",
      "metadata": {
        "id": "W9XTKbOyrP46"
      },
      "source": [
        "**`For more complex conditions we can use function along with`**"
      ]
    },
    {
      "cell_type": "code",
      "execution_count": null,
      "metadata": {
        "id": "XKdSFtStrP46"
      },
      "outputs": [],
      "source": [
        "#find from below given animal which have 4 leags \n",
        "\n",
        "animals = ('bird','snake','dog','turtle','cat','hamster')"
      ]
    },
    {
      "cell_type": "code",
      "execution_count": null,
      "metadata": {
        "id": "s-A0LhR4rP46",
        "colab": {
          "base_uri": "https://localhost:8080/"
        },
        "outputId": "0ef04010-5408-4633-fd54-5c65b93f261f"
      },
      "outputs": [
        {
          "output_type": "execute_result",
          "data": {
            "text/plain": [
              "['dog', 'turtle', 'cat']"
            ]
          },
          "metadata": {},
          "execution_count": 33
        }
      ],
      "source": [
        "# good\n",
        "def has_4_legs(animal):\n",
        "    return animal in ('dog','turtle','cat')\n",
        "\n",
        "[x for x in animals if has_4_legs(x)]"
      ]
    },
    {
      "cell_type": "code",
      "execution_count": null,
      "metadata": {
        "id": "Rvku5z7XrP46",
        "colab": {
          "base_uri": "https://localhost:8080/"
        },
        "outputId": "f6bf856a-27bd-45bd-fd3d-a5d0ab2360c0"
      },
      "outputs": [
        {
          "output_type": "execute_result",
          "data": {
            "text/plain": [
              "['dog', 'turtle', 'cat']"
            ]
          },
          "metadata": {},
          "execution_count": 34
        }
      ],
      "source": [
        "# not good\n",
        "l = []\n",
        "for x in animals:\n",
        "    if has_4_legs(x):\n",
        "        l.append(x)\n",
        "l"
      ]
    },
    {
      "cell_type": "markdown",
      "metadata": {
        "id": "VcEa0wckrP47"
      },
      "source": [
        "# 2. Set Comprehension\n",
        "* Set have unique element\n",
        "* Only use curly bracket then that of square bracket\n",
        "\n",
        "`Syntax:`\n",
        "\n",
        "**{expression `for` item in iterable}**"
      ]
    },
    {
      "cell_type": "code",
      "execution_count": null,
      "metadata": {
        "id": "ZbjZrX_mrP47",
        "colab": {
          "base_uri": "https://localhost:8080/"
        },
        "outputId": "0b5f5893-891c-49b8-9006-5fca4b7e3b1f"
      },
      "outputs": [
        {
          "output_type": "execute_result",
          "data": {
            "text/plain": [
              "{8, 10, 12, 34, 70, 90}"
            ]
          },
          "metadata": {},
          "execution_count": 35
        }
      ],
      "source": [
        "# find odds\n",
        "numbers_set = (1, 34, 5, 8, 10, 12, 3, 90, 70, 70, 90)\n",
        "\n",
        "unique_even_numbers = {number for number in numbers_set if number%2 == 0}\n",
        "unique_even_numbers"
      ]
    },
    {
      "cell_type": "markdown",
      "metadata": {
        "id": "vGX5yVFwrP47"
      },
      "source": [
        "# 3. Dict Comprehension\n",
        "`Syntax:`\n",
        "\n",
        "**{key_expression : value_expression `for` item in iterable}**"
      ]
    },
    {
      "cell_type": "code",
      "execution_count": null,
      "metadata": {
        "id": "80TTyMXwrP47",
        "colab": {
          "base_uri": "https://localhost:8080/"
        },
        "outputId": "07123c51-7dac-4529-d088-25770800f819"
      },
      "outputs": [
        {
          "output_type": "execute_result",
          "data": {
            "text/plain": [
              "{'python': 6, 'is': 2, 'a': 1, 'big': 3, 'snake': 5}"
            ]
          },
          "metadata": {},
          "execution_count": 36
        }
      ],
      "source": [
        "words = ('python', 'is', 'a', 'big', 'snake')\n",
        "\n",
        "len_words = {word : len(word) for word in words}\n",
        "len_words"
      ]
    },
    {
      "cell_type": "code",
      "execution_count": null,
      "metadata": {
        "id": "0zjPld8qrP47",
        "colab": {
          "base_uri": "https://localhost:8080/"
        },
        "outputId": "58f4ac2e-38cb-47d8-b1d2-2d629eeeee60"
      },
      "outputs": [
        {
          "output_type": "execute_result",
          "data": {
            "text/plain": [
              "{'python': 6}"
            ]
          },
          "metadata": {},
          "execution_count": 37
        }
      ],
      "source": [
        "# acessing key which start with p letter\n",
        "len_words_p = {word : len(word) for word in words if word.startswith('p')}\n",
        "len_words_p"
      ]
    },
    {
      "cell_type": "markdown",
      "metadata": {
        "id": "7bhKjiMBrP47"
      },
      "source": [
        "<a id='17'></a><center> <h3 style=\"background-color:orange; color:white\" ><br>Enumerate<br></h3>"
      ]
    },
    {
      "cell_type": "markdown",
      "metadata": {
        "id": "ct5JcFIYrP47"
      },
      "source": [
        "Used for efficient looping\n",
        "* Use enumerate function when `needed an index` while looping\n",
        "* Often used in list comprehensions or for loops and does not spit out tuples itself\n",
        "* Enumerate is an `iterator`, this means ``nothing gets stored``\n",
        "* Processes only one item at a time\n",
        "* This can be useful when you have large datasets/files.\n",
        "\n",
        "`Syntax:` <br>\n",
        "**enumerate(iterable, start)**\n",
        "**<br>_____start = starting index**\n",
        "* `Returns a tuple of type (index,values)`\n",
        "\n",
        "Whenever you see within your code `range(len(..))` there is a better way to loop than through using an index\n",
        "* This is where built-in function `Enumerate` can help"
      ]
    },
    {
      "cell_type": "markdown",
      "metadata": {
        "id": "dJSxHP0-rP47"
      },
      "source": [
        "# Enumerate Working\n",
        "* Enumerate built-in function assigns an index to every item in an itterable object\n",
        "* This could be a set, list, string anything that can be iterated over"
      ]
    },
    {
      "cell_type": "code",
      "execution_count": null,
      "metadata": {
        "id": "5i1oBdIcrP47",
        "colab": {
          "base_uri": "https://localhost:8080/"
        },
        "outputId": "cfe92ee9-cbfb-459f-c50f-8b175109babd"
      },
      "outputs": [
        {
          "output_type": "stream",
          "name": "stdout",
          "text": [
            "<enumerate object at 0x7f86967d4320>\n"
          ]
        }
      ],
      "source": [
        "colors = ['red','green','blue','purple']\n",
        "print(enumerate(colors))"
      ]
    },
    {
      "cell_type": "code",
      "execution_count": null,
      "metadata": {
        "id": "WGutH8TCrP47",
        "colab": {
          "base_uri": "https://localhost:8080/"
        },
        "outputId": "220e6e7c-fe06-404d-a868-99854c54b4a7"
      },
      "outputs": [
        {
          "output_type": "stream",
          "name": "stdout",
          "text": [
            "0 red\n",
            "1 green\n",
            "2 blue\n",
            "3 purple\n"
          ]
        }
      ],
      "source": [
        "#enumerate gives us index which starts from 0\n",
        "for index,start in enumerate(colors):\n",
        "    print(index,start)"
      ]
    },
    {
      "cell_type": "code",
      "execution_count": null,
      "metadata": {
        "id": "6bdVzFdmrP48",
        "colab": {
          "base_uri": "https://localhost:8080/"
        },
        "outputId": "8f6fd1bd-2394-4346-afa7-c97f94dc58db"
      },
      "outputs": [
        {
          "output_type": "stream",
          "name": "stdout",
          "text": [
            "1 red\n",
            "2 green\n",
            "3 blue\n",
            "4 purple\n"
          ]
        }
      ],
      "source": [
        "# index starting from 1 maybee\n",
        "for index,start in enumerate(colors,start=1):\n",
        "    print(index,start)"
      ]
    },
    {
      "cell_type": "markdown",
      "metadata": {
        "id": "0j32rPMorP48"
      },
      "source": [
        "In above code we define variables index and item and they get assigned to first and second items of each tuple \n",
        "* This is called `sequence unpacking`\n",
        "* We then print index and item of items object"
      ]
    },
    {
      "cell_type": "code",
      "execution_count": null,
      "metadata": {
        "id": "JbaxHHKLrP48",
        "colab": {
          "base_uri": "https://localhost:8080/"
        },
        "outputId": "0238137b-1994-42d4-c963-5c73a2c0bf11"
      },
      "outputs": [
        {
          "output_type": "stream",
          "name": "stdout",
          "text": [
            "1 red\n",
            "2 green\n",
            "4 purple\n"
          ]
        }
      ],
      "source": [
        "# using Enumerate to skip over one index\n",
        "for index,start in enumerate(colors,start=1):\n",
        "    if index == 3: # skipping index 3 \n",
        "        continue\n",
        "    print(index,start)"
      ]
    },
    {
      "cell_type": "markdown",
      "metadata": {
        "id": "EDv-UM4CFJN9"
      },
      "source": [
        "\n",
        "# FeedBack\n",
        "We hope you’ve enjoyed this course so far. We’re committed to help you use \"AI for All\" course to its full potential, so that you have a great learning experience. And that’s why we need your help in form of a feedback here.\n",
        "\n",
        "Please fill this feedback form https://docs.google.com/forms/d/e/1FAIpQLSfjBmH0yJSSA34IhSVx4h2eDMgOAeG4Dk-yHid__NMTk3Hq5g/viewform"
      ]
    }
  ],
  "metadata": {
    "colab": {
      "collapsed_sections": [
        "Bc3xJTPCrP4C",
        "eOIX7LfVNVZn",
        "hiYt4qiJrP4K",
        "aD6_WvkKrP4L",
        "SLTS9twurP4L",
        "slh282AprP4M",
        "SrryZ3enrP4N",
        "HhJfWRpjrP4N",
        "hABElii_rP4O",
        "W-7tOm5CrP4P",
        "7OAVQ6EsrP4P",
        "FyxOlaQmrP4Q",
        "m7-BVTnhrP4Q",
        "kMGlbyturP4Q",
        "BqiZFRnxrP4R",
        "i1cSXmgbrP4T",
        "r5LWKR-irP4T",
        "nVugaqcErP4U",
        "qutzAWNFrP4V",
        "7Mo7XNVNrP4W",
        "LQwybYuNrP4X",
        "8510bIUSrP4Y",
        "ZFHHxSeqrP4Z",
        "2TlMjfJVrP4a",
        "oPN-KW8ErP4a",
        "0nJZ8yTqrP4b",
        "hNE2e0YBrP4b",
        "1A84HNVLrP4c",
        "1WlRcrHGrP4c",
        "COPpT8hQrP4d",
        "_jF5-7_PrP4e",
        "Onk48j8xrP4e",
        "L6_5O9xcrP4e",
        "fI6TbJ9IrP4e",
        "iwcbBZfrrP4e",
        "P7mXoDiprP4f",
        "EPu0UxWCrP4f",
        "q7tmRtqYrP4f",
        "o8uqyHe6rP4g",
        "E8-7E8mTrP4h",
        "OemzDS2WrP4j",
        "4unafjdndJTu",
        "WvTU5e5QrP4k",
        "XsNXA8nhrP4l",
        "gIWj5Sgwden1",
        "EDd-kK1ZrP4m",
        "GzSBD7aarP4n",
        "M-ocEPqmrP4n",
        "PMmen0JyrP4r",
        "Q50giP1JSRht",
        "kPw6N8X_rP45",
        "EDv-UM4CFJN9"
      ],
      "provenance": []
    },
    "kernelspec": {
      "display_name": "Python 3",
      "language": "python",
      "name": "python3"
    },
    "language_info": {
      "codemirror_mode": {
        "name": "ipython",
        "version": 3
      },
      "file_extension": ".py",
      "mimetype": "text/x-python",
      "name": "python",
      "nbconvert_exporter": "python",
      "pygments_lexer": "ipython3",
      "version": "3.7.12"
    }
  },
  "nbformat": 4,
  "nbformat_minor": 0
}